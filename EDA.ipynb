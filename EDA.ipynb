{
 "cells": [
  {
   "cell_type": "markdown",
   "metadata": {},
   "source": [
    "# Credit card fraud detection\n",
    "## EDA on train Data set\n",
    "\n",
    "Info about data: it is a CSV file, contains 31 features, the last feature is used to classify the transaction whether it is a fraud or not\n",
    "\n",
    "Task 1: please do proper analysis of the whole data, plot all relevant plots, note down all observations.\n",
    "\n",
    "Task 2: Let's define a matric\n",
    "\n"
   ]
  },
  {
   "cell_type": "code",
   "execution_count": 1,
   "metadata": {},
   "outputs": [
    {
     "data": {
      "text/html": [
       "<div>\n",
       "<style scoped>\n",
       "    .dataframe tbody tr th:only-of-type {\n",
       "        vertical-align: middle;\n",
       "    }\n",
       "\n",
       "    .dataframe tbody tr th {\n",
       "        vertical-align: top;\n",
       "    }\n",
       "\n",
       "    .dataframe thead th {\n",
       "        text-align: right;\n",
       "    }\n",
       "</style>\n",
       "<table border=\"1\" class=\"dataframe\">\n",
       "  <thead>\n",
       "    <tr style=\"text-align: right;\">\n",
       "      <th></th>\n",
       "      <th>Time</th>\n",
       "      <th>V1</th>\n",
       "      <th>V2</th>\n",
       "      <th>V3</th>\n",
       "      <th>V4</th>\n",
       "      <th>V5</th>\n",
       "      <th>V6</th>\n",
       "      <th>V7</th>\n",
       "      <th>V8</th>\n",
       "      <th>V9</th>\n",
       "      <th>...</th>\n",
       "      <th>V21</th>\n",
       "      <th>V22</th>\n",
       "      <th>V23</th>\n",
       "      <th>V24</th>\n",
       "      <th>V25</th>\n",
       "      <th>V26</th>\n",
       "      <th>V27</th>\n",
       "      <th>V28</th>\n",
       "      <th>Amount</th>\n",
       "      <th>Class</th>\n",
       "    </tr>\n",
       "  </thead>\n",
       "  <tbody>\n",
       "    <tr>\n",
       "      <th>0</th>\n",
       "      <td>38355.0</td>\n",
       "      <td>1.043949</td>\n",
       "      <td>0.318555</td>\n",
       "      <td>1.045810</td>\n",
       "      <td>2.805989</td>\n",
       "      <td>-0.561113</td>\n",
       "      <td>-0.367956</td>\n",
       "      <td>0.032736</td>\n",
       "      <td>-0.042333</td>\n",
       "      <td>-0.322674</td>\n",
       "      <td>...</td>\n",
       "      <td>-0.240105</td>\n",
       "      <td>-0.680315</td>\n",
       "      <td>0.085328</td>\n",
       "      <td>0.684812</td>\n",
       "      <td>0.318620</td>\n",
       "      <td>-0.204963</td>\n",
       "      <td>0.001662</td>\n",
       "      <td>0.037894</td>\n",
       "      <td>49.67</td>\n",
       "      <td>0</td>\n",
       "    </tr>\n",
       "    <tr>\n",
       "      <th>1</th>\n",
       "      <td>22555.0</td>\n",
       "      <td>-1.665159</td>\n",
       "      <td>0.808440</td>\n",
       "      <td>1.805627</td>\n",
       "      <td>1.903416</td>\n",
       "      <td>-0.821627</td>\n",
       "      <td>0.934790</td>\n",
       "      <td>-0.824802</td>\n",
       "      <td>0.975890</td>\n",
       "      <td>1.747469</td>\n",
       "      <td>...</td>\n",
       "      <td>-0.335332</td>\n",
       "      <td>-0.510994</td>\n",
       "      <td>0.035839</td>\n",
       "      <td>0.147565</td>\n",
       "      <td>-0.529358</td>\n",
       "      <td>-0.566950</td>\n",
       "      <td>-0.595998</td>\n",
       "      <td>-0.220086</td>\n",
       "      <td>16.94</td>\n",
       "      <td>0</td>\n",
       "    </tr>\n",
       "    <tr>\n",
       "      <th>2</th>\n",
       "      <td>2431.0</td>\n",
       "      <td>-0.324096</td>\n",
       "      <td>0.601836</td>\n",
       "      <td>0.865329</td>\n",
       "      <td>-2.138000</td>\n",
       "      <td>0.294663</td>\n",
       "      <td>-1.251553</td>\n",
       "      <td>1.072114</td>\n",
       "      <td>-0.334896</td>\n",
       "      <td>1.071268</td>\n",
       "      <td>...</td>\n",
       "      <td>0.012220</td>\n",
       "      <td>0.352856</td>\n",
       "      <td>-0.341505</td>\n",
       "      <td>-0.145791</td>\n",
       "      <td>0.094194</td>\n",
       "      <td>-0.804026</td>\n",
       "      <td>0.229428</td>\n",
       "      <td>-0.021623</td>\n",
       "      <td>1.00</td>\n",
       "      <td>0</td>\n",
       "    </tr>\n",
       "    <tr>\n",
       "      <th>3</th>\n",
       "      <td>86773.0</td>\n",
       "      <td>-0.258270</td>\n",
       "      <td>1.217501</td>\n",
       "      <td>-0.585348</td>\n",
       "      <td>-0.875347</td>\n",
       "      <td>1.222481</td>\n",
       "      <td>-0.311027</td>\n",
       "      <td>1.073860</td>\n",
       "      <td>-0.161408</td>\n",
       "      <td>0.200665</td>\n",
       "      <td>...</td>\n",
       "      <td>-0.424626</td>\n",
       "      <td>-0.781158</td>\n",
       "      <td>0.019316</td>\n",
       "      <td>0.178614</td>\n",
       "      <td>-0.315616</td>\n",
       "      <td>0.096665</td>\n",
       "      <td>0.269740</td>\n",
       "      <td>-0.020635</td>\n",
       "      <td>10.78</td>\n",
       "      <td>0</td>\n",
       "    </tr>\n",
       "    <tr>\n",
       "      <th>4</th>\n",
       "      <td>127202.0</td>\n",
       "      <td>2.142162</td>\n",
       "      <td>-0.494988</td>\n",
       "      <td>-1.936511</td>\n",
       "      <td>-0.818288</td>\n",
       "      <td>-0.025213</td>\n",
       "      <td>-1.027245</td>\n",
       "      <td>-0.151627</td>\n",
       "      <td>-0.305750</td>\n",
       "      <td>-0.869482</td>\n",
       "      <td>...</td>\n",
       "      <td>0.010115</td>\n",
       "      <td>0.021722</td>\n",
       "      <td>0.079463</td>\n",
       "      <td>-0.480899</td>\n",
       "      <td>0.023846</td>\n",
       "      <td>-0.279076</td>\n",
       "      <td>-0.030121</td>\n",
       "      <td>-0.043888</td>\n",
       "      <td>39.96</td>\n",
       "      <td>0</td>\n",
       "    </tr>\n",
       "  </tbody>\n",
       "</table>\n",
       "<p>5 rows × 31 columns</p>\n",
       "</div>"
      ],
      "text/plain": [
       "       Time        V1        V2        V3        V4        V5        V6  \\\n",
       "0   38355.0  1.043949  0.318555  1.045810  2.805989 -0.561113 -0.367956   \n",
       "1   22555.0 -1.665159  0.808440  1.805627  1.903416 -0.821627  0.934790   \n",
       "2    2431.0 -0.324096  0.601836  0.865329 -2.138000  0.294663 -1.251553   \n",
       "3   86773.0 -0.258270  1.217501 -0.585348 -0.875347  1.222481 -0.311027   \n",
       "4  127202.0  2.142162 -0.494988 -1.936511 -0.818288 -0.025213 -1.027245   \n",
       "\n",
       "         V7        V8        V9  ...       V21       V22       V23       V24  \\\n",
       "0  0.032736 -0.042333 -0.322674  ... -0.240105 -0.680315  0.085328  0.684812   \n",
       "1 -0.824802  0.975890  1.747469  ... -0.335332 -0.510994  0.035839  0.147565   \n",
       "2  1.072114 -0.334896  1.071268  ...  0.012220  0.352856 -0.341505 -0.145791   \n",
       "3  1.073860 -0.161408  0.200665  ... -0.424626 -0.781158  0.019316  0.178614   \n",
       "4 -0.151627 -0.305750 -0.869482  ...  0.010115  0.021722  0.079463 -0.480899   \n",
       "\n",
       "        V25       V26       V27       V28  Amount  Class  \n",
       "0  0.318620 -0.204963  0.001662  0.037894   49.67      0  \n",
       "1 -0.529358 -0.566950 -0.595998 -0.220086   16.94      0  \n",
       "2  0.094194 -0.804026  0.229428 -0.021623    1.00      0  \n",
       "3 -0.315616  0.096665  0.269740 -0.020635   10.78      0  \n",
       "4  0.023846 -0.279076 -0.030121 -0.043888   39.96      0  \n",
       "\n",
       "[5 rows x 31 columns]"
      ]
     },
     "execution_count": 1,
     "metadata": {},
     "output_type": "execute_result"
    }
   ],
   "source": [
    "import pandas as pd\n",
    "import seaborn as sns\n",
    "import matplotlib.pyplot as plt\n",
    "import numpy as np\n",
    "\n",
    "creditcard = pd.read_csv(\"train_data.csv\")\n",
    "creditcard.head(5)"
   ]
  },
  {
   "cell_type": "markdown",
   "metadata": {},
   "source": [
    "**Information about data set**\n",
    "\n",
    "The datasets contains transactions made by credit cards in September 2013 by european cardholders. This dataset presents transactions that occurred in two days, where we have 492 frauds out of 284,807 transactions. The dataset is highly unbalanced, the positive class (frauds) account for 0.172% of all transactions.\n",
    "\n",
    "It contains only numerical input variables which are the result of a PCA transformation. Unfortunately, due to confidentiality issues, we cannot provide the original features and more background information about the data. Features V1, V2, ... V28 are the principal components obtained with PCA, the only features which have not been transformed with PCA are 'Time' and 'Amount'. Feature 'Time' contains the seconds elapsed between each transaction and the first transaction in the dataset. The feature 'Amount' is the transaction Amount, this feature can be used for example-dependant cost-senstive learning. **Feature 'Class' is the response variable and it takes value 1 in case of fraud and 0 otherwise.**\n",
    "\n",
    "Given the class imbalance ratio, we recommend measuring the accuracy using the Area Under the Precision-Recall Curve (AUPRC). Confusion matrix accuracy is not meaningful for unbalanced classification.\n",
    "\n"
   ]
  },
  {
   "cell_type": "code",
   "execution_count": 2,
   "metadata": {},
   "outputs": [
    {
     "name": "stdout",
     "output_type": "stream",
     "text": [
      "(227845, 31)\n"
     ]
    }
   ],
   "source": [
    "print(creditcard.shape)"
   ]
  },
  {
   "cell_type": "code",
   "execution_count": 3,
   "metadata": {},
   "outputs": [
    {
     "name": "stdout",
     "output_type": "stream",
     "text": [
      "Index(['Time', 'V1', 'V2', 'V3', 'V4', 'V5', 'V6', 'V7', 'V8', 'V9', 'V10',\n",
      "       'V11', 'V12', 'V13', 'V14', 'V15', 'V16', 'V17', 'V18', 'V19', 'V20',\n",
      "       'V21', 'V22', 'V23', 'V24', 'V25', 'V26', 'V27', 'V28', 'Amount',\n",
      "       'Class'],\n",
      "      dtype='object')\n"
     ]
    }
   ],
   "source": [
    "print(creditcard.columns)"
   ]
  },
  {
   "cell_type": "code",
   "execution_count": 4,
   "metadata": {},
   "outputs": [
    {
     "data": {
      "text/plain": [
       "0    227451\n",
       "1       394\n",
       "Name: Class, dtype: int64"
      ]
     },
     "execution_count": 4,
     "metadata": {},
     "output_type": "execute_result"
    }
   ],
   "source": [
    "creditcard[\"Class\"].value_counts()"
   ]
  },
  {
   "cell_type": "markdown",
   "metadata": {},
   "source": [
    "## 2-D Scatter Plot"
   ]
  },
  {
   "cell_type": "code",
   "execution_count": 5,
   "metadata": {},
   "outputs": [
    {
     "name": "stderr",
     "output_type": "stream",
     "text": [
      "C:\\Users\\Win 10\\Anaconda3\\lib\\site-packages\\seaborn\\axisgrid.py:230: UserWarning: The `size` paramter has been renamed to `height`; please update your code.\n",
      "  warnings.warn(msg, UserWarning)\n"
     ]
    },
    {
     "data": {
      "image/png": "[encoded data removed]",
      "text/plain": [
       "<Figure size 473.625x432 with 1 Axes>"
      ]
     },
     "metadata": {},
     "output_type": "display_data"
    }
   ],
   "source": [
    "sns.set_style(\"whitegrid\")\n",
    "sns.FacetGrid(creditcard, hue=\"Class\", size = 6).map(plt.scatter, \"Time\", \"Amount\").add_legend()\n",
    "plt.show()"
   ]
  },
  {
   "cell_type": "code",
   "execution_count": 6,
   "metadata": {},
   "outputs": [
    {
     "data": {
      "image/png": "[encoded data removed]",
      "text/plain": [
       "<Figure size 473.625x432 with 1 Axes>"
      ]
     },
     "metadata": {},
     "output_type": "display_data"
    }
   ],
   "source": [
    "sns.set_style(\"whitegrid\")\n",
    "sns.FacetGrid(creditcard, hue=\"Class\", size = 6).map(plt.scatter, \"Amount\", \"Time\").add_legend()\n",
    "plt.show()"
   ]
  },
  {
   "cell_type": "markdown",
   "metadata": {},
   "source": [
    "Observations:\n",
    "\n",
    "1. From the above two plots it is clearly visible that there are frauds only on the transactions which have transaction amount approximately less than 2500. Transactions which have transaction amount approximately above 2500 have no fraud.\n",
    "2. As per with the time, the frauds in the transactions are evenly distributed throughout time."
   ]
  },
  {
   "cell_type": "markdown",
   "metadata": {},
   "source": [
    "## 3D Scatter plot"
   ]
  },
  {
   "cell_type": "code",
   "execution_count": 7,
   "metadata": {},
   "outputs": [],
   "source": [
    "FilteredData = creditcard[['Time','Amount', 'Class']]"
   ]
  },
  {
   "cell_type": "code",
   "execution_count": 8,
   "metadata": {},
   "outputs": [
    {
     "data": {
      "text/html": [
       "<div>\n",
       "<style scoped>\n",
       "    .dataframe tbody tr th:only-of-type {\n",
       "        vertical-align: middle;\n",
       "    }\n",
       "\n",
       "    .dataframe tbody tr th {\n",
       "        vertical-align: top;\n",
       "    }\n",
       "\n",
       "    .dataframe thead th {\n",
       "        text-align: right;\n",
       "    }\n",
       "</style>\n",
       "<table border=\"1\" class=\"dataframe\">\n",
       "  <thead>\n",
       "    <tr style=\"text-align: right;\">\n",
       "      <th></th>\n",
       "      <th>Time</th>\n",
       "      <th>Amount</th>\n",
       "      <th>Class</th>\n",
       "    </tr>\n",
       "  </thead>\n",
       "  <tbody>\n",
       "    <tr>\n",
       "      <th>0</th>\n",
       "      <td>38355.0</td>\n",
       "      <td>49.67</td>\n",
       "      <td>0</td>\n",
       "    </tr>\n",
       "    <tr>\n",
       "      <th>1</th>\n",
       "      <td>22555.0</td>\n",
       "      <td>16.94</td>\n",
       "      <td>0</td>\n",
       "    </tr>\n",
       "    <tr>\n",
       "      <th>2</th>\n",
       "      <td>2431.0</td>\n",
       "      <td>1.00</td>\n",
       "      <td>0</td>\n",
       "    </tr>\n",
       "    <tr>\n",
       "      <th>3</th>\n",
       "      <td>86773.0</td>\n",
       "      <td>10.78</td>\n",
       "      <td>0</td>\n",
       "    </tr>\n",
       "    <tr>\n",
       "      <th>4</th>\n",
       "      <td>127202.0</td>\n",
       "      <td>39.96</td>\n",
       "      <td>0</td>\n",
       "    </tr>\n",
       "    <tr>\n",
       "      <th>5</th>\n",
       "      <td>37590.0</td>\n",
       "      <td>1437.08</td>\n",
       "      <td>0</td>\n",
       "    </tr>\n",
       "    <tr>\n",
       "      <th>6</th>\n",
       "      <td>56739.0</td>\n",
       "      <td>11.10</td>\n",
       "      <td>0</td>\n",
       "    </tr>\n",
       "    <tr>\n",
       "      <th>7</th>\n",
       "      <td>912.0</td>\n",
       "      <td>24.08</td>\n",
       "      <td>0</td>\n",
       "    </tr>\n",
       "    <tr>\n",
       "      <th>8</th>\n",
       "      <td>171058.0</td>\n",
       "      <td>28.00</td>\n",
       "      <td>0</td>\n",
       "    </tr>\n",
       "    <tr>\n",
       "      <th>9</th>\n",
       "      <td>79450.0</td>\n",
       "      <td>1354.98</td>\n",
       "      <td>0</td>\n",
       "    </tr>\n",
       "  </tbody>\n",
       "</table>\n",
       "</div>"
      ],
      "text/plain": [
       "       Time   Amount  Class\n",
       "0   38355.0    49.67      0\n",
       "1   22555.0    16.94      0\n",
       "2    2431.0     1.00      0\n",
       "3   86773.0    10.78      0\n",
       "4  127202.0    39.96      0\n",
       "5   37590.0  1437.08      0\n",
       "6   56739.0    11.10      0\n",
       "7     912.0    24.08      0\n",
       "8  171058.0    28.00      0\n",
       "9   79450.0  1354.98      0"
      ]
     },
     "execution_count": 8,
     "metadata": {},
     "output_type": "execute_result"
    }
   ],
   "source": [
    "FilteredData.head(10)"
   ]
  },
  {
   "cell_type": "code",
   "execution_count": 9,
   "metadata": {},
   "outputs": [
    {
     "name": "stdout",
     "output_type": "stream",
     "text": [
      "(227845, 3)\n"
     ]
    }
   ],
   "source": [
    "print(FilteredData.shape)"
   ]
  },
  {
   "cell_type": "code",
   "execution_count": 10,
   "metadata": {},
   "outputs": [
    {
     "data": {
      "text/plain": [
       "0    227451\n",
       "1       394\n",
       "Name: Class, dtype: int64"
      ]
     },
     "execution_count": 10,
     "metadata": {},
     "output_type": "execute_result"
    }
   ],
   "source": [
    "FilteredData[\"Class\"].value_counts()"
   ]
  },
  {
   "cell_type": "code",
   "execution_count": 11,
   "metadata": {},
   "outputs": [
    {
     "name": "stderr",
     "output_type": "stream",
     "text": [
      "C:\\Users\\Win 10\\Anaconda3\\lib\\site-packages\\seaborn\\axisgrid.py:2065: UserWarning: The `size` parameter has been renamed to `height`; pleaes update your code.\n",
      "  warnings.warn(msg, UserWarning)\n",
      "C:\\Users\\Win 10\\Anaconda3\\lib\\site-packages\\statsmodels\\nonparametric\\kde.py:487: RuntimeWarning: invalid value encountered in true_divide\n",
      "  binned = fast_linbin(X, a, b, gridsize) / (delta * nobs)\n",
      "C:\\Users\\Win 10\\Anaconda3\\lib\\site-packages\\statsmodels\\nonparametric\\kdetools.py:34: RuntimeWarning: invalid value encountered in double_scalars\n",
      "  FAC1 = 2*(np.pi*bw/RANGE)**2\n"
     ]
    },
    {
     "data": {
      "image/png": "[encoded data removed]",
      "text/plain": [
       "<Figure size 1121.62x1080 with 12 Axes>"
      ]
     },
     "metadata": {},
     "output_type": "display_data"
    }
   ],
   "source": [
    "plt.close();\n",
    "sns.set_style(\"whitegrid\");\n",
    "sns.pairplot(FilteredData, hue=\"Class\", size=5);\n",
    "plt.show()"
   ]
  },
  {
   "cell_type": "code",
   "execution_count": 12,
   "metadata": {},
   "outputs": [
    {
     "data": {
      "text/plain": [
       "0    227451\n",
       "1       394\n",
       "Name: Class, dtype: int64"
      ]
     },
     "execution_count": 12,
     "metadata": {},
     "output_type": "execute_result"
    }
   ],
   "source": [
    "FilteredData[\"Class\"].value_counts()"
   ]
  },
  {
   "cell_type": "code",
   "execution_count": 13,
   "metadata": {},
   "outputs": [
    {
     "data": {
      "text/html": [
       "<div>\n",
       "<style scoped>\n",
       "    .dataframe tbody tr th:only-of-type {\n",
       "        vertical-align: middle;\n",
       "    }\n",
       "\n",
       "    .dataframe tbody tr th {\n",
       "        vertical-align: top;\n",
       "    }\n",
       "\n",
       "    .dataframe thead th {\n",
       "        text-align: right;\n",
       "    }\n",
       "</style>\n",
       "<table border=\"1\" class=\"dataframe\">\n",
       "  <thead>\n",
       "    <tr style=\"text-align: right;\">\n",
       "      <th></th>\n",
       "      <th>count</th>\n",
       "      <th>mean</th>\n",
       "      <th>std</th>\n",
       "      <th>min</th>\n",
       "      <th>25%</th>\n",
       "      <th>50%</th>\n",
       "      <th>75%</th>\n",
       "      <th>max</th>\n",
       "    </tr>\n",
       "    <tr>\n",
       "      <th>Class</th>\n",
       "      <th></th>\n",
       "      <th></th>\n",
       "      <th></th>\n",
       "      <th></th>\n",
       "      <th></th>\n",
       "      <th></th>\n",
       "      <th></th>\n",
       "      <th></th>\n",
       "    </tr>\n",
       "  </thead>\n",
       "  <tbody>\n",
       "    <tr>\n",
       "      <th>0</th>\n",
       "      <td>227451.0</td>\n",
       "      <td>88.455144</td>\n",
       "      <td>248.066088</td>\n",
       "      <td>0.0</td>\n",
       "      <td>5.64</td>\n",
       "      <td>22.000</td>\n",
       "      <td>77.000</td>\n",
       "      <td>19656.53</td>\n",
       "    </tr>\n",
       "    <tr>\n",
       "      <th>1</th>\n",
       "      <td>394.0</td>\n",
       "      <td>127.306523</td>\n",
       "      <td>264.533907</td>\n",
       "      <td>0.0</td>\n",
       "      <td>1.00</td>\n",
       "      <td>11.395</td>\n",
       "      <td>106.385</td>\n",
       "      <td>2125.87</td>\n",
       "    </tr>\n",
       "  </tbody>\n",
       "</table>\n",
       "</div>"
      ],
      "text/plain": [
       "          count        mean         std  min   25%     50%      75%       max\n",
       "Class                                                                        \n",
       "0      227451.0   88.455144  248.066088  0.0  5.64  22.000   77.000  19656.53\n",
       "1         394.0  127.306523  264.533907  0.0  1.00  11.395  106.385   2125.87"
      ]
     },
     "execution_count": 13,
     "metadata": {},
     "output_type": "execute_result"
    },
    {
     "data": {
      "image/png": "[encoded data removed]",
      "text/plain": [
       "<Figure size 432x288 with 1 Axes>"
      ]
     },
     "metadata": {},
     "output_type": "display_data"
    }
   ],
   "source": [
    "sns.boxplot(x=\"Class\", y=\"Amount\", data=FilteredData)\n",
    "FilteredData.groupby('Class').Amount.describe()"
   ]
  },
  {
   "cell_type": "markdown",
   "metadata": {},
   "source": [
    "Observations:\n",
    "Now the total number of fraud transactions in whole data are 394. It has been calculated that total number of fraud transactions in data where transaction amount is less than 2500 is also 394.\n",
    "Even though average amount of non-fraud is greater than fraud, transaction of large amount however are mostly fraud, which follows our instinct about fraud. "
   ]
  },
  {
   "cell_type": "markdown",
   "metadata": {},
   "source": [
    "## Histogram, PDF and CDF"
   ]
  },
  {
   "cell_type": "code",
   "execution_count": 14,
   "metadata": {},
   "outputs": [
    {
     "data": {
      "image/png": "[encoded data removed]",
      "text/plain": [
       "<Figure size 432x288 with 1 Axes>"
      ]
     },
     "metadata": {},
     "output_type": "display_data"
    }
   ],
   "source": [
    "creditCard_genuine = FilteredData.loc[FilteredData[\"Class\"] == 0]\n",
    "creditCard_fraud = FilteredData.loc[FilteredData[\"Class\"] == 1]\n",
    "\n",
    "plt.plot(creditCard_genuine[\"Time\"], np.zeros_like(creditCard_genuine[\"Time\"]), \"o\")\n",
    "plt.plot(creditCard_fraud[\"Time\"], np.zeros_like(creditCard_fraud[\"Time\"]), \"o\")\n",
    "\n",
    "plt.show()\n",
    "\n",
    "#X-axis: Time"
   ]
  },
  {
   "cell_type": "markdown",
   "metadata": {},
   "source": [
    "Observations:\n",
    "\n",
    "Fraud and genuine transactions are spread evenly thought time and there is no clear distinction."
   ]
  },
  {
   "cell_type": "code",
   "execution_count": 15,
   "metadata": {},
   "outputs": [
    {
     "data": {
      "image/png": "[encoded data removed]",
      "text/plain": [
       "<Figure size 432x288 with 1 Axes>"
      ]
     },
     "metadata": {},
     "output_type": "display_data"
    }
   ],
   "source": [
    "plt.plot(creditCard_genuine[\"Amount\"], np.zeros_like(creditCard_genuine[\"Amount\"]), \"o\")\n",
    "plt.plot(creditCard_fraud[\"Amount\"], np.zeros_like(creditCard_fraud[\"Amount\"]), \"o\")\n",
    "\n",
    "plt.show()\n",
    "#X-axis: Amount"
   ]
  },
  {
   "cell_type": "markdown",
   "metadata": {},
   "source": [
    "Observations:\n",
    "\n",
    "It can clearly be observed from this 1D scatter plot that the fraud transactions are there only on the transaction amount less than 2500."
   ]
  },
  {
   "cell_type": "code",
   "execution_count": 16,
   "metadata": {},
   "outputs": [
    {
     "name": "stderr",
     "output_type": "stream",
     "text": [
      "C:\\Users\\Win 10\\Anaconda3\\lib\\site-packages\\seaborn\\axisgrid.py:230: UserWarning: The `size` paramter has been renamed to `height`; please update your code.\n",
      "  warnings.warn(msg, UserWarning)\n"
     ]
    },
    {
     "data": {
      "image/png": "[encoded data removed]",
      "text/plain": [
       "<Figure size 761.625x720 with 1 Axes>"
      ]
     },
     "metadata": {},
     "output_type": "display_data"
    }
   ],
   "source": [
    "sns.FacetGrid(FilteredData, hue=\"Class\", size=10).map(sns.distplot, \"Time\").add_legend()\n",
    "plt.show()"
   ]
  },
  {
   "cell_type": "markdown",
   "metadata": {},
   "source": [
    "Observations:\n",
    "\n",
    "There is a heavy overlap of genuine and fraud transactions throughout the time and there is no clear distinction."
   ]
  },
  {
   "cell_type": "code",
   "execution_count": 17,
   "metadata": {},
   "outputs": [
    {
     "data": {
      "image/png": "[encoded data removed]",
      "text/plain": [
       "<Figure size 761.625x720 with 1 Axes>"
      ]
     },
     "metadata": {},
     "output_type": "display_data"
    }
   ],
   "source": [
    "sns.FacetGrid(FilteredData, hue=\"Class\", size=10).map(sns.distplot, \"Amount\").add_legend()\n",
    "plt.show()"
   ]
  },
  {
   "cell_type": "markdown",
   "metadata": {},
   "source": [
    "Observations:\n",
    "\n",
    "Most of the transaction have amount less than 2500 approximately and all of the fraud transactions have transaction amount less than 2500. There is no fraud transaction of transaction amount greater than 2500.\n",
    "\n",
    "**Hence, this is the best histogram we have**"
   ]
  },
  {
   "cell_type": "code",
   "execution_count": 18,
   "metadata": {},
   "outputs": [
    {
     "name": "stdout",
     "output_type": "stream",
     "text": [
      "pdf =  [9.97384187e-01 2.15497378e-03 3.37949044e-04 7.90010753e-05\n",
      " 2.19447431e-05 4.38894863e-06 8.77789725e-06 0.00000000e+00\n",
      " 0.00000000e+00 8.77789725e-06]\n",
      "\n",
      "\n",
      "Counts = [5.07406031e-04 1.09631444e-06 1.71927112e-07 4.01907536e-08\n",
      " 1.11640982e-08 2.23281964e-09 4.46563928e-09 0.00000000e+00\n",
      " 0.00000000e+00 4.46563928e-09]\n",
      "\n",
      "\n",
      "Bin edges =  [    0.     1965.653  3931.306  5896.959  7862.612  9828.265 11793.918\n",
      " 13759.571 15725.224 17690.877 19656.53 ]\n"
     ]
    },
    {
     "data": {
      "image/png": "[encoded data removed]",
      "text/plain": [
       "<Figure size 432x288 with 1 Axes>"
      ]
     },
     "metadata": {},
     "output_type": "display_data"
    }
   ],
   "source": [
    "counts, bin_edges = np.histogram(FilteredData['Amount'], bins=10, density = True)\n",
    "pdf = counts/(sum(counts))\n",
    "\n",
    "print(\"pdf = \",pdf)\n",
    "print(\"\\n\")\n",
    "print(\"Counts =\",counts)\n",
    "print(\"\\n\")\n",
    "print(\"Bin edges = \",bin_edges)\n",
    "\n",
    "cdf = np.cumsum(pdf)\n",
    "plt.plot(bin_edges[1:],pdf)\n",
    "plt.plot(bin_edges[1:], cdf)\n",
    "\n",
    "\n",
    "\n",
    "plt.show();"
   ]
  },
  {
   "cell_type": "markdown",
   "metadata": {},
   "source": [
    "Observations:\n",
    "\n",
    "Probability of the points having transaction amount approximately less than 2500 is 1, it means almost all of the transactions have transaction amount less than 2500 and cdf curve verifies this fact."
   ]
  },
  {
   "cell_type": "markdown",
   "metadata": {},
   "source": [
    "# Mean, Variance and Std-dev"
   ]
  },
  {
   "cell_type": "code",
   "execution_count": 19,
   "metadata": {},
   "outputs": [
    {
     "name": "stdout",
     "output_type": "stream",
     "text": [
      "Standard Deviation:\n",
      "Std-Deviation of transaction amount of genuine transactions:  248.0655427032189\n",
      "Std-Deviation of transaction amount of fraud transactions:  264.1979911981501\n"
     ]
    }
   ],
   "source": [
    "print(\"Standard Deviation:\")\n",
    "print(\"Std-Deviation of transaction amount of genuine transactions: \", np.std(creditCard_genuine[\"Amount\"]))\n",
    "print(\"Std-Deviation of transaction amount of fraud transactions: \", np.std(creditCard_fraud[\"Amount\"]))"
   ]
  },
  {
   "cell_type": "code",
   "execution_count": 20,
   "metadata": {},
   "outputs": [
    {
     "name": "stdout",
     "output_type": "stream",
     "text": [
      "Means:\n",
      "Mean of transaction amount of genuine transactions:  88.45514361333471\n",
      "Mean of transaction amount of fraud transactions:  127.30652284263951\n"
     ]
    }
   ],
   "source": [
    "print(\"Means:\")\n",
    "print(\"Mean of transaction amount of genuine transactions: \",np.mean(creditCard_genuine[\"Amount\"]))\n",
    "print(\"Mean of transaction amount of fraud transactions: \",np.mean(creditCard_fraud[\"Amount\"]))"
   ]
  },
  {
   "cell_type": "code",
   "execution_count": 21,
   "metadata": {},
   "outputs": [
    {
     "name": "stdout",
     "output_type": "stream",
     "text": [
      "Median:\n",
      "Median of transaction amount of genuine transactions:  22.0\n",
      "Median of transaction amount of fraud transactions:  11.395\n"
     ]
    }
   ],
   "source": [
    "print(\"Median:\")\n",
    "print(\"Median of transaction amount of genuine transactions: \", np.median(creditCard_genuine[\"Amount\"]))\n",
    "print(\"Median of transaction amount of fraud transactions: \", np.median(creditCard_fraud[\"Amount\"]))"
   ]
  },
  {
   "cell_type": "code",
   "execution_count": 22,
   "metadata": {},
   "outputs": [
    {
     "name": "stdout",
     "output_type": "stream",
     "text": [
      "\n",
      "Quantiles:\n",
      "[ 0.    5.64 22.   77.  ]\n",
      "[  0.      1.     11.395 106.385]\n"
     ]
    }
   ],
   "source": [
    "print(\"\\nQuantiles:\")\n",
    "print(np.percentile(creditCard_genuine[\"Amount\"],np.arange(0, 100, 25)))\n",
    "print(np.percentile(creditCard_fraud[\"Amount\"],np.arange(0, 100, 25)))"
   ]
  },
  {
   "cell_type": "markdown",
   "metadata": {},
   "source": [
    "# Box plot and Whiskers"
   ]
  },
  {
   "cell_type": "code",
   "execution_count": 23,
   "metadata": {},
   "outputs": [
    {
     "data": {
      "image/png": "[encoded data removed]",
      "text/plain": [
       "<Figure size 432x288 with 1 Axes>"
      ]
     },
     "metadata": {},
     "output_type": "display_data"
    }
   ],
   "source": [
    "sns.boxplot(x = \"Class\", y = \"Time\", data = creditcard)\n",
    "plt.show()"
   ]
  },
  {
   "cell_type": "markdown",
   "metadata": {},
   "source": [
    "Observations:\n",
    "\n",
    "By looking at the above box plot we can say that both fraud & genuine transactions occur throughout time and there is no distinction between them."
   ]
  },
  {
   "cell_type": "code",
   "execution_count": 24,
   "metadata": {},
   "outputs": [
    {
     "data": {
      "image/png": "[encoded data removed]",
      "text/plain": [
       "<Figure size 432x288 with 1 Axes>"
      ]
     },
     "metadata": {},
     "output_type": "display_data"
    }
   ],
   "source": [
    "sns.boxplot(x = \"Class\", y = \"Amount\", data = creditcard)\n",
    "plt.ylim(0, 5000)\n",
    "plt.show()"
   ]
  },
  {
   "cell_type": "markdown",
   "metadata": {},
   "source": [
    "Observations:\n",
    "\n",
    "From above box plot we can easily infer that there are no fraud transactions occur above the transaction amount of 3000. All of the fraud transactions have transaction amount less than 3000. However, there are many transactions which have a transaction amount greater than 3000 and all of them are genuine."
   ]
  },
  {
   "cell_type": "markdown",
   "metadata": {},
   "source": [
    "#  Separate feature data (predictors) from labels and Standardize data"
   ]
  },
  {
   "cell_type": "code",
   "execution_count": 25,
   "metadata": {},
   "outputs": [],
   "source": [
    "# feature data (predictors)\n",
    "X = creditcard.iloc[:, :-1]\n",
    "# label class\n",
    "y = creditcard['Class']\n",
    "from sklearn.preprocessing import StandardScaler\n",
    "scaler = StandardScaler()\n",
    "scaled_X = scaler.fit_transform(X)"
   ]
  },
  {
   "cell_type": "markdown",
   "metadata": {},
   "source": [
    "### Partition data into train and test sets"
   ]
  },
  {
   "cell_type": "code",
   "execution_count": 26,
   "metadata": {},
   "outputs": [],
   "source": [
    "from sklearn.model_selection import train_test_split, cross_val_score\n",
    "X_train, X_test, y_train, y_test = train_test_split(scaled_X, y, test_size=0.33, random_state=42)"
   ]
  },
  {
   "cell_type": "markdown",
   "metadata": {},
   "source": [
    "# Build Differnt ML models"
   ]
  },
  {
   "cell_type": "code",
   "execution_count": 27,
   "metadata": {},
   "outputs": [],
   "source": [
    "#import required libraries\n",
    "from sklearn.linear_model import LogisticRegression\n",
    "from sklearn.naive_bayes import BernoulliNB \n",
    "from sklearn import svm\n",
    "from sklearn.svm import SVC\n",
    "from sklearn.ensemble import RandomForestClassifier\n",
    "from xgboost import XGBClassifier\n",
    "\n"
   ]
  },
  {
   "cell_type": "code",
   "execution_count": 28,
   "metadata": {},
   "outputs": [
    {
     "name": "stderr",
     "output_type": "stream",
     "text": [
      "C:\\Users\\Win 10\\Anaconda3\\lib\\site-packages\\sklearn\\linear_model\\logistic.py:432: FutureWarning: Default solver will be changed to 'lbfgs' in 0.22. Specify a solver to silence this warning.\n",
      "  FutureWarning)\n",
      "C:\\Users\\Win 10\\Anaconda3\\lib\\site-packages\\sklearn\\ensemble\\forest.py:245: FutureWarning: The default value of n_estimators will change from 10 in version 0.20 to 100 in 0.22.\n",
      "  \"10 in version 0.20 to 100 in 0.22.\", FutureWarning)\n"
     ]
    },
    {
     "data": {
      "text/plain": [
       "XGBClassifier(base_score=0.5, booster='gbtree', colsample_bylevel=1,\n",
       "              colsample_bynode=1, colsample_bytree=1, gamma=0,\n",
       "              learning_rate=0.1, max_delta_step=0, max_depth=3,\n",
       "              min_child_weight=1, missing=None, n_estimators=100, n_jobs=1,\n",
       "              nthread=None, objective='binary:logistic', random_state=0,\n",
       "              reg_alpha=0, reg_lambda=1, scale_pos_weight=1, seed=None,\n",
       "              silent=None, subsample=1, verbosity=1)"
      ]
     },
     "execution_count": 28,
     "metadata": {},
     "output_type": "execute_result"
    }
   ],
   "source": [
    "#Build Mode;\n",
    "# Train LogisticRegression Model\n",
    "LGR_Classifier = LogisticRegression()\n",
    "LGR_Classifier.fit(X_train, y_train);\n",
    "#Train SVM model\n",
    "SVM_Classifier= svm.SVC(C= 1, kernel= 'linear', random_state= 0)\n",
    "SVM_Classifier.fit(X_train, y_train)\n",
    "\n",
    "# Train Bernoulli Naive Baye Model\n",
    "BNB_Classifier = BernoulliNB()\n",
    "BNB_Classifier.fit(X_train, y_train);\n",
    "\n",
    "# Train Decision Tree Model\n",
    "RDF_Classifier = RandomForestClassifier(random_state=0)\n",
    "RDF_Classifier.fit(X_train, y_train);\n",
    "# Train XGBC Model\n",
    "XGB_Classifier = XGBClassifier(random_state=0)\n",
    "XGB_Classifier.fit(X_train, y_train)"
   ]
  },
  {
   "cell_type": "markdown",
   "metadata": {},
   "source": [
    "# Build ANN model"
   ]
  },
  {
   "cell_type": "code",
   "execution_count": 29,
   "metadata": {},
   "outputs": [
    {
     "name": "stderr",
     "output_type": "stream",
     "text": [
      "Using TensorFlow backend.\n"
     ]
    },
    {
     "name": "stdout",
     "output_type": "stream",
     "text": [
      "WARNING:tensorflow:From C:\\Users\\Win 10\\Anaconda3\\lib\\site-packages\\keras\\backend\\tensorflow_backend.py:66: The name tf.get_default_graph is deprecated. Please use tf.compat.v1.get_default_graph instead.\n",
      "\n",
      "WARNING:tensorflow:From C:\\Users\\Win 10\\Anaconda3\\lib\\site-packages\\keras\\backend\\tensorflow_backend.py:541: The name tf.placeholder is deprecated. Please use tf.compat.v1.placeholder instead.\n",
      "\n",
      "WARNING:tensorflow:From C:\\Users\\Win 10\\Anaconda3\\lib\\site-packages\\keras\\backend\\tensorflow_backend.py:4432: The name tf.random_uniform is deprecated. Please use tf.random.uniform instead.\n",
      "\n",
      "WARNING:tensorflow:From C:\\Users\\Win 10\\Anaconda3\\lib\\site-packages\\keras\\optimizers.py:793: The name tf.train.Optimizer is deprecated. Please use tf.compat.v1.train.Optimizer instead.\n",
      "\n",
      "WARNING:tensorflow:From C:\\Users\\Win 10\\Anaconda3\\lib\\site-packages\\keras\\backend\\tensorflow_backend.py:3657: The name tf.log is deprecated. Please use tf.math.log instead.\n",
      "\n",
      "WARNING:tensorflow:From C:\\Users\\Win 10\\Anaconda3\\lib\\site-packages\\tensorflow\\python\\ops\\nn_impl.py:180: add_dispatch_support.<locals>.wrapper (from tensorflow.python.ops.array_ops) is deprecated and will be removed in a future version.\n",
      "Instructions for updating:\n",
      "Use tf.where in 2.0, which has the same broadcast rule as np.where\n",
      "Model: \"sequential_1\"\n",
      "_________________________________________________________________\n",
      "Layer (type)                 Output Shape              Param #   \n",
      "=================================================================\n",
      "dense_1 (Dense)              (None, 30)                930       \n",
      "_________________________________________________________________\n",
      "dense_2 (Dense)              (None, 27)                837       \n",
      "_________________________________________________________________\n",
      "dense_3 (Dense)              (None, 20)                560       \n",
      "_________________________________________________________________\n",
      "dense_4 (Dense)              (None, 15)                315       \n",
      "_________________________________________________________________\n",
      "dense_5 (Dense)              (None, 1)                 16        \n",
      "=================================================================\n",
      "Total params: 2,658\n",
      "Trainable params: 2,658\n",
      "Non-trainable params: 0\n",
      "_________________________________________________________________\n"
     ]
    }
   ],
   "source": [
    "#Build ANN model\n",
    "#To build ANN based model\n",
    "from keras.models import Sequential\n",
    "from keras.layers import Dense, Activation, Convolution2D, Flatten, Dropout, MaxPooling2D\n",
    "from keras.optimizers import SGD\n",
    "import tensorflow as tf\n",
    "#Creating model\n",
    "model2 = Sequential()\n",
    "model2.add(Dense(30, input_dim=30, activation='relu')) \n",
    "model2.add(Dense(27, activation='relu'))\n",
    "model2.add(Dense(20, activation='relu'))\n",
    "model2.add(Dense(15, activation='relu'))\n",
    "model2.add(Dense(1, activation='sigmoid'))\n",
    "model2.compile(loss='binary_crossentropy', optimizer='adam', metrics=['accuracy'])\n",
    "model2.summary()"
   ]
  },
  {
   "cell_type": "code",
   "execution_count": 30,
   "metadata": {},
   "outputs": [
    {
     "name": "stdout",
     "output_type": "stream",
     "text": [
      "WARNING:tensorflow:From C:\\Users\\Win 10\\Anaconda3\\lib\\site-packages\\keras\\backend\\tensorflow_backend.py:1033: The name tf.assign_add is deprecated. Please use tf.compat.v1.assign_add instead.\n",
      "\n",
      "Epoch 1/100\n",
      "152656/152656 [==============================] - 3s 20us/step - loss: 0.0087 - acc: 0.9992\n",
      "Epoch 2/100\n",
      "152656/152656 [==============================] - 2s 16us/step - loss: 0.0032 - acc: 0.9994\n",
      "Epoch 3/100\n",
      "152656/152656 [==============================] - 2s 16us/step - loss: 0.0027 - acc: 0.9994\n",
      "Epoch 4/100\n",
      "152656/152656 [==============================] - 2s 16us/step - loss: 0.0025 - acc: 0.9994\n",
      "Epoch 5/100\n",
      "152656/152656 [==============================] - 2s 16us/step - loss: 0.0022 - acc: 0.9995\n",
      "Epoch 6/100\n",
      "152656/152656 [==============================] - 2s 16us/step - loss: 0.0021 - acc: 0.9994\n",
      "Epoch 7/100\n",
      "152656/152656 [==============================] - 3s 16us/step - loss: 0.0020 - acc: 0.9995\n",
      "Epoch 8/100\n",
      "152656/152656 [==============================] - 2s 16us/step - loss: 0.0017 - acc: 0.9996\n",
      "Epoch 9/100\n",
      "152656/152656 [==============================] - 2s 16us/step - loss: 0.0018 - acc: 0.9996\n",
      "Epoch 10/100\n",
      "152656/152656 [==============================] - 2s 16us/step - loss: 0.0015 - acc: 0.9997\n",
      "Epoch 11/100\n",
      "152656/152656 [==============================] - 2s 16us/step - loss: 0.0014 - acc: 0.9997\n",
      "Epoch 12/100\n",
      "152656/152656 [==============================] - 2s 16us/step - loss: 0.0014 - acc: 0.9996\n",
      "Epoch 13/100\n",
      "152656/152656 [==============================] - 2s 16us/step - loss: 0.0013 - acc: 0.9997\n",
      "Epoch 14/100\n",
      "152656/152656 [==============================] - 2s 16us/step - loss: 0.0012 - acc: 0.9997\n",
      "Epoch 15/100\n",
      "152656/152656 [==============================] - 2s 16us/step - loss: 0.0012 - acc: 0.9996\n",
      "Epoch 16/100\n",
      "152656/152656 [==============================] - 2s 16us/step - loss: 0.0012 - acc: 0.9997\n",
      "Epoch 17/100\n",
      "152656/152656 [==============================] - 2s 16us/step - loss: 0.0012 - acc: 0.9997\n",
      "Epoch 18/100\n",
      "152656/152656 [==============================] - 2s 16us/step - loss: 0.0012 - acc: 0.9997\n",
      "Epoch 19/100\n",
      "152656/152656 [==============================] - 2s 16us/step - loss: 0.0010 - acc: 0.9997\n",
      "Epoch 20/100\n",
      "152656/152656 [==============================] - 2s 16us/step - loss: 9.3031e-04 - acc: 0.9997\n",
      "Epoch 21/100\n",
      "152656/152656 [==============================] - 2s 16us/step - loss: 6.9544e-04 - acc: 0.9998\n",
      "Epoch 22/100\n",
      "152656/152656 [==============================] - 2s 16us/step - loss: 9.0798e-04 - acc: 0.9997\n",
      "Epoch 23/100\n",
      "152656/152656 [==============================] - 2s 16us/step - loss: 8.2069e-04 - acc: 0.9997\n",
      "Epoch 24/100\n",
      "152656/152656 [==============================] - 2s 16us/step - loss: 8.2710e-04 - acc: 0.9997\n",
      "Epoch 25/100\n",
      "152656/152656 [==============================] - 2s 16us/step - loss: 8.4251e-04 - acc: 0.9997\n",
      "Epoch 26/100\n",
      "152656/152656 [==============================] - 2s 16us/step - loss: 7.9218e-04 - acc: 0.9998\n",
      "Epoch 27/100\n",
      "152656/152656 [==============================] - 2s 16us/step - loss: 9.4698e-04 - acc: 0.9997\n",
      "Epoch 28/100\n",
      "152656/152656 [==============================] - 2s 16us/step - loss: 7.3284e-04 - acc: 0.9998\n",
      "Epoch 29/100\n",
      "152656/152656 [==============================] - 2s 16us/step - loss: 8.2232e-04 - acc: 0.9998\n",
      "Epoch 30/100\n",
      "152656/152656 [==============================] - 2s 16us/step - loss: 9.1050e-04 - acc: 0.9998\n",
      "Epoch 31/100\n",
      "152656/152656 [==============================] - 2s 16us/step - loss: 8.0212e-04 - acc: 0.9998\n",
      "Epoch 32/100\n",
      "152656/152656 [==============================] - 2s 16us/step - loss: 7.4913e-04 - acc: 0.9998\n",
      "Epoch 33/100\n",
      "152656/152656 [==============================] - 2s 16us/step - loss: 6.1899e-04 - acc: 0.9998\n",
      "Epoch 34/100\n",
      "152656/152656 [==============================] - 2s 16us/step - loss: 7.2677e-04 - acc: 0.9998\n",
      "Epoch 35/100\n",
      "152656/152656 [==============================] - 2s 16us/step - loss: 5.7177e-04 - acc: 0.9998\n",
      "Epoch 36/100\n",
      "152656/152656 [==============================] - 2s 16us/step - loss: 6.8422e-04 - acc: 0.9998\n",
      "Epoch 37/100\n",
      "152656/152656 [==============================] - 2s 16us/step - loss: 6.2239e-04 - acc: 0.9998\n",
      "Epoch 38/100\n",
      "152656/152656 [==============================] - 2s 16us/step - loss: 6.1264e-04 - acc: 0.9999\n",
      "Epoch 39/100\n",
      "152656/152656 [==============================] - 2s 16us/step - loss: 7.0655e-04 - acc: 0.9998\n",
      "Epoch 40/100\n",
      "152656/152656 [==============================] - 2s 16us/step - loss: 4.8347e-04 - acc: 0.9998\n",
      "Epoch 41/100\n",
      "152656/152656 [==============================] - 2s 16us/step - loss: 5.4375e-04 - acc: 0.9999\n",
      "Epoch 42/100\n",
      "152656/152656 [==============================] - 2s 16us/step - loss: 6.5463e-04 - acc: 0.9999\n",
      "Epoch 43/100\n",
      "152656/152656 [==============================] - 2s 16us/step - loss: 5.1168e-04 - acc: 0.9999\n",
      "Epoch 44/100\n",
      "152656/152656 [==============================] - 2s 16us/step - loss: 5.6113e-04 - acc: 0.9999\n",
      "Epoch 45/100\n",
      "152656/152656 [==============================] - 2s 16us/step - loss: 4.2603e-04 - acc: 0.9999\n",
      "Epoch 46/100\n",
      "152656/152656 [==============================] - 2s 16us/step - loss: 5.8530e-04 - acc: 0.9999\n",
      "Epoch 47/100\n",
      "152656/152656 [==============================] - 2s 16us/step - loss: 4.8753e-04 - acc: 0.9999\n",
      "Epoch 48/100\n",
      "152656/152656 [==============================] - 2s 16us/step - loss: 4.6446e-04 - acc: 0.9999\n",
      "Epoch 49/100\n",
      "152656/152656 [==============================] - 2s 16us/step - loss: 3.8099e-04 - acc: 0.9999\n",
      "Epoch 50/100\n",
      "152656/152656 [==============================] - 2s 16us/step - loss: 6.4591e-04 - acc: 0.9998\n",
      "Epoch 51/100\n",
      "152656/152656 [==============================] - 2s 16us/step - loss: 6.1399e-04 - acc: 0.9998\n",
      "Epoch 52/100\n",
      "152656/152656 [==============================] - 2s 16us/step - loss: 4.8954e-04 - acc: 0.9999\n",
      "Epoch 53/100\n",
      "152656/152656 [==============================] - 2s 16us/step - loss: 6.2170e-04 - acc: 0.9999\n",
      "Epoch 54/100\n",
      "152656/152656 [==============================] - 2s 16us/step - loss: 3.8863e-04 - acc: 0.9999\n",
      "Epoch 55/100\n",
      "152656/152656 [==============================] - 2s 16us/step - loss: 5.1731e-04 - acc: 0.9999\n",
      "Epoch 56/100\n",
      "152656/152656 [==============================] - 2s 16us/step - loss: 5.3483e-04 - acc: 0.9999\n",
      "Epoch 57/100\n",
      "152656/152656 [==============================] - 2s 16us/step - loss: 5.2047e-04 - acc: 0.9999\n",
      "Epoch 58/100\n",
      "152656/152656 [==============================] - 2s 16us/step - loss: 4.4333e-04 - acc: 0.9999\n",
      "Epoch 59/100\n",
      "152656/152656 [==============================] - 2s 16us/step - loss: 4.7408e-04 - acc: 0.9999\n",
      "Epoch 60/100\n",
      "152656/152656 [==============================] - 2s 16us/step - loss: 4.9061e-04 - acc: 0.9999\n",
      "Epoch 61/100\n",
      "152656/152656 [==============================] - 2s 16us/step - loss: 6.2127e-04 - acc: 0.9999\n",
      "Epoch 62/100\n",
      "152656/152656 [==============================] - 2s 16us/step - loss: 4.6491e-04 - acc: 0.9999\n",
      "Epoch 63/100\n",
      "152656/152656 [==============================] - 2s 16us/step - loss: 3.8867e-04 - acc: 0.9999\n",
      "Epoch 64/100\n",
      "152656/152656 [==============================] - 2s 16us/step - loss: 4.8012e-04 - acc: 0.9998\n",
      "Epoch 65/100\n",
      "152656/152656 [==============================] - 2s 16us/step - loss: 5.0650e-04 - acc: 0.9999\n",
      "Epoch 66/100\n",
      "152656/152656 [==============================] - 2s 16us/step - loss: 3.5167e-04 - acc: 0.9999\n",
      "Epoch 67/100\n",
      "152656/152656 [==============================] - 2s 16us/step - loss: 3.5446e-04 - acc: 0.9999\n",
      "Epoch 68/100\n",
      "152656/152656 [==============================] - 2s 16us/step - loss: 3.4181e-04 - acc: 0.9999\n",
      "Epoch 69/100\n",
      "152656/152656 [==============================] - 2s 16us/step - loss: 3.7807e-04 - acc: 0.9999\n",
      "Epoch 70/100\n",
      "152656/152656 [==============================] - 2s 16us/step - loss: 4.1458e-04 - acc: 0.9999\n",
      "Epoch 71/100\n",
      "152656/152656 [==============================] - 2s 16us/step - loss: 4.4482e-04 - acc: 0.9999\n",
      "Epoch 72/100\n",
      "152656/152656 [==============================] - 2s 16us/step - loss: 4.6767e-04 - acc: 0.9999\n",
      "Epoch 73/100\n",
      "152656/152656 [==============================] - 2s 16us/step - loss: 5.1505e-04 - acc: 0.9999\n",
      "Epoch 74/100\n",
      "152656/152656 [==============================] - 2s 16us/step - loss: 5.0212e-04 - acc: 0.9999\n",
      "Epoch 75/100\n"
     ]
    },
    {
     "name": "stdout",
     "output_type": "stream",
     "text": [
      "152656/152656 [==============================] - 2s 16us/step - loss: 3.4939e-04 - acc: 0.9999\n",
      "Epoch 76/100\n",
      "152656/152656 [==============================] - 2s 16us/step - loss: 5.3081e-04 - acc: 0.9999\n",
      "Epoch 77/100\n",
      "152656/152656 [==============================] - 2s 16us/step - loss: 3.7702e-04 - acc: 0.9999\n",
      "Epoch 78/100\n",
      "152656/152656 [==============================] - 2s 16us/step - loss: 3.0100e-04 - acc: 0.9999\n",
      "Epoch 79/100\n",
      "152656/152656 [==============================] - 2s 16us/step - loss: 4.7281e-04 - acc: 0.9999\n",
      "Epoch 80/100\n",
      "152656/152656 [==============================] - 2s 16us/step - loss: 5.7396e-04 - acc: 0.9999\n",
      "Epoch 81/100\n",
      "152656/152656 [==============================] - 2s 16us/step - loss: 3.5405e-04 - acc: 0.9999\n",
      "Epoch 82/100\n",
      "152656/152656 [==============================] - 2s 16us/step - loss: 5.2714e-04 - acc: 0.9999\n",
      "Epoch 83/100\n",
      "152656/152656 [==============================] - 2s 16us/step - loss: 4.3479e-04 - acc: 0.9999\n",
      "Epoch 84/100\n",
      "152656/152656 [==============================] - 2s 16us/step - loss: 4.2440e-04 - acc: 0.9999\n",
      "Epoch 85/100\n",
      "152656/152656 [==============================] - 2s 16us/step - loss: 2.4821e-04 - acc: 0.9999\n",
      "Epoch 86/100\n",
      "152656/152656 [==============================] - 2s 16us/step - loss: 3.1722e-04 - acc: 0.9999\n",
      "Epoch 87/100\n",
      "152656/152656 [==============================] - 2s 16us/step - loss: 5.8628e-04 - acc: 0.9999\n",
      "Epoch 88/100\n",
      "152656/152656 [==============================] - 2s 16us/step - loss: 3.7112e-04 - acc: 0.9999\n",
      "Epoch 89/100\n",
      "152656/152656 [==============================] - 2s 16us/step - loss: 3.3781e-04 - acc: 0.9999\n",
      "Epoch 90/100\n",
      "152656/152656 [==============================] - 2s 16us/step - loss: 4.8244e-04 - acc: 0.9999\n",
      "Epoch 91/100\n",
      "152656/152656 [==============================] - 2s 16us/step - loss: 4.7808e-04 - acc: 0.9999\n",
      "Epoch 92/100\n",
      "152656/152656 [==============================] - 2s 16us/step - loss: 7.2803e-04 - acc: 0.9999\n",
      "Epoch 93/100\n",
      "152656/152656 [==============================] - 2s 16us/step - loss: 3.8152e-04 - acc: 0.9999\n",
      "Epoch 94/100\n",
      "152656/152656 [==============================] - 2s 16us/step - loss: 3.1297e-04 - acc: 0.9999\n",
      "Epoch 95/100\n",
      "152656/152656 [==============================] - 2s 16us/step - loss: 4.3282e-04 - acc: 0.9999\n",
      "Epoch 96/100\n",
      "152656/152656 [==============================] - 2s 16us/step - loss: 5.1061e-04 - acc: 0.9999\n",
      "Epoch 97/100\n",
      "152656/152656 [==============================] - 2s 16us/step - loss: 2.2386e-04 - acc: 1.0000\n",
      "Epoch 98/100\n",
      "152656/152656 [==============================] - 2s 16us/step - loss: 4.6027e-04 - acc: 0.9999\n",
      "Epoch 99/100\n",
      "152656/152656 [==============================] - 2s 16us/step - loss: 2.9571e-04 - acc: 0.9999\n",
      "Epoch 100/100\n",
      "152656/152656 [==============================] - 2s 16us/step - loss: 3.6108e-04 - acc: 0.9999\n"
     ]
    },
    {
     "data": {
      "text/plain": [
       "<keras.callbacks.History at 0x16e2c6476d8>"
      ]
     },
     "execution_count": 30,
     "metadata": {},
     "output_type": "execute_result"
    }
   ],
   "source": [
    "model2.fit( X_train , y_train , epochs =100 , batch_size = 50 )"
   ]
  },
  {
   "cell_type": "code",
   "execution_count": 31,
   "metadata": {},
   "outputs": [
    {
     "name": "stdout",
     "output_type": "stream",
     "text": [
      "\n",
      "=============Model Evaluation Results with Original Data Set ========================\n",
      "\n",
      "===== Logistic Regression =====\n",
      "Precision: 0.874346\n",
      "Recall: 0.625468\n",
      "F1 score: 0.729258\n",
      "ROC AUC: 0.812655\n",
      "\n",
      "===== SVM Classifier =====\n",
      "Precision: 0.832685\n",
      "Recall: 0.801498\n",
      "F1 score: 0.816794\n",
      "ROC AUC: 0.900608\n",
      "\n",
      "===== Naive Baiye Classifier =====\n",
      "Precision: 0.816514\n",
      "Recall: 0.666667\n",
      "F1 score: 0.734021\n",
      "ROC AUC: 0.833202\n",
      "\n",
      "===== RandomForest Classifier =====\n",
      "Precision: 1.000000\n",
      "Recall: 0.951311\n",
      "F1 score: 0.975048\n",
      "ROC AUC: 0.975655\n",
      "\n",
      "===== XGBoost Classifier =====\n",
      "Precision: 0.982833\n",
      "Recall: 0.857678\n",
      "F1 score: 0.916000\n",
      "ROC AUC: 0.928826\n",
      "\n",
      "===== ANN Classifier =====\n",
      "Precision: 0.985075\n",
      "Recall: 0.988764\n",
      "F1 score: 0.986916\n",
      "ROC AUC: 0.994369\n",
      "\n"
     ]
    }
   ],
   "source": [
    "# Evaluate models\n",
    "from sklearn import metrics\n",
    "modlist = [('Logistic Regression', LGR_Classifier),('SVM Classifier',SVM_Classifier),\n",
    "           ('Naive Baiye Classifier', BNB_Classifier),('RandomForest Classifier', RDF_Classifier),\n",
    "           ('XGBoost Classifier',XGB_Classifier),('ANN Classifier',model2)] \n",
    "models = [j for j in modlist]\n",
    "precision=[j for j in modlist]\n",
    "recall=[j for j in modlist]\n",
    "f1=[j for j in modlist]\n",
    "auc=[j for j in modlist]\n",
    "k=0\n",
    "print()\n",
    "print('=============Model Evaluation Results with Original Data Set ========================'\"\\n\")  \n",
    "for i, v in models:\n",
    "    precision[k] = metrics.precision_score(y_train, v.predict(X_train).round())\n",
    "    recall[k]=metrics.recall_score(y_train, v.predict(X_train).round())\n",
    "    f1[k] = metrics.f1_score(y_train, v.predict(X_train).round())\n",
    "    auc[k] = metrics.roc_auc_score(y_train, v.predict(X_train).round())\n",
    "    print('===== {} ====='.format(i))\n",
    "    print ('Precision: %f' % precision[k])  \n",
    "    print('Recall: %f' % recall[k])\n",
    "    print('F1 score: %f' % f1[k])\n",
    "    print('ROC AUC: %f' % auc[k])\n",
    "    print()\n",
    "    k=k+1\n"
   ]
  },
  {
   "cell_type": "code",
   "execution_count": 32,
   "metadata": {},
   "outputs": [],
   "source": [
    "#To plot confusion matrix\n",
    "def plot_confusion_matrix(cm, classes, title, cmap):\n",
    "    \"function for plotting confusion matrix\"\n",
    "    plt.clf()\n",
    "    plt.imshow(cm, interpolation='nearest', cmap=cmap)\n",
    "    classnames = classes\n",
    "    plt.title(title)\n",
    "    plt.ylabel('True label')\n",
    "    plt.xlabel('Predicted label')\n",
    "    tick_marks = np.arange(len(classnames))\n",
    "    plt.xticks(tick_marks, classnames, rotation=45)\n",
    "    plt.yticks(tick_marks, classnames)\n",
    "    s = [['TN','FP'], ['FN', 'TP']]\n",
    " \n",
    "    for i in range(2):\n",
    "        for j in range(2):\n",
    "            plt.text(j,i, str(s[i][j])+\" = \"+str(cm[i][j]))\n",
    "    plt.show()\n"
   ]
  },
  {
   "cell_type": "code",
   "execution_count": 33,
   "metadata": {},
   "outputs": [
    {
     "name": "stdout",
     "output_type": "stream",
     "text": [
      "\n",
      "========================== Model Test Results ========================\n",
      "\n",
      "===== Logistic Regression =====\n",
      "Precision: 0.874346\n",
      "Recall: 0.625468\n",
      "F1 score: 0.729258\n",
      "ROC AUC: 0.812655\n",
      "\n"
     ]
    },
    {
     "data": {
      "image/png": "[encoded data removed]",
      "text/plain": [
       "<Figure size 432x288 with 1 Axes>"
      ]
     },
     "metadata": {},
     "output_type": "display_data"
    },
    {
     "name": "stdout",
     "output_type": "stream",
     "text": [
      "===== SVM Classifier =====\n",
      "Precision: 0.832685\n",
      "Recall: 0.801498\n",
      "F1 score: 0.816794\n",
      "ROC AUC: 0.900608\n",
      "\n"
     ]
    },
    {
     "data": {
      "image/png": "[encoded data removed]",
      "text/plain": [
       "<Figure size 432x288 with 1 Axes>"
      ]
     },
     "metadata": {},
     "output_type": "display_data"
    },
    {
     "name": "stdout",
     "output_type": "stream",
     "text": [
      "===== Naive Baiye Classifier =====\n",
      "Precision: 0.816514\n",
      "Recall: 0.666667\n",
      "F1 score: 0.734021\n",
      "ROC AUC: 0.833202\n",
      "\n"
     ]
    },
    {
     "data": {
      "image/png": "[encoded data removed]",
      "text/plain": [
       "<Figure size 432x288 with 1 Axes>"
      ]
     },
     "metadata": {},
     "output_type": "display_data"
    },
    {
     "name": "stdout",
     "output_type": "stream",
     "text": [
      "===== RandomForest Classifier =====\n",
      "Precision: 1.000000\n",
      "Recall: 0.951311\n",
      "F1 score: 0.975048\n",
      "ROC AUC: 0.975655\n",
      "\n"
     ]
    },
    {
     "data": {
      "image/png": "[encoded data removed]",
      "text/plain": [
       "<Figure size 432x288 with 1 Axes>"
      ]
     },
     "metadata": {},
     "output_type": "display_data"
    },
    {
     "name": "stdout",
     "output_type": "stream",
     "text": [
      "===== XGBoost Classifier =====\n",
      "Precision: 0.982833\n",
      "Recall: 0.857678\n",
      "F1 score: 0.916000\n",
      "ROC AUC: 0.928826\n",
      "\n"
     ]
    },
    {
     "data": {
      "image/png": "[encoded data removed]",
      "text/plain": [
       "<Figure size 432x288 with 1 Axes>"
      ]
     },
     "metadata": {},
     "output_type": "display_data"
    },
    {
     "name": "stdout",
     "output_type": "stream",
     "text": [
      "===== ANN Classifier =====\n",
      "Precision: 0.985075\n",
      "Recall: 0.988764\n",
      "F1 score: 0.986916\n",
      "ROC AUC: 0.994369\n",
      "\n"
     ]
    },
    {
     "data": {
      "image/png": "[encoded data removed]",
      "text/plain": [
       "<Figure size 432x288 with 1 Axes>"
      ]
     },
     "metadata": {},
     "output_type": "display_data"
    }
   ],
   "source": [
    "# Test models\n",
    "\n",
    "classdict = {'normal':0, 'fraudulent':1}\n",
    "print()\n",
    "print('========================== Model Test Results ========================' \"\\n\")   \n",
    "precision_t=[j for j in modlist]\n",
    "recall_t=[j for j in modlist]\n",
    "f1_t=[j for j in modlist]\n",
    "auc_t=[j for j in modlist]\n",
    "k=0\n",
    "for i, v in models:\n",
    "    precision_t[k] = metrics.precision_score(y_test, v.predict(X_test).round())\n",
    "    recall_t[k]=metrics.recall_score(y_test, v.predict(X_test).round())\n",
    "    f1_t[k] = metrics.f1_score(y_test, v.predict(X_test).round())\n",
    "    auc_t[k]= metrics.roc_auc_score(y_test, v.predict(X_test).round())\n",
    "    print('===== {} ====='.format(i))\n",
    "    print ('Precision: %f' % precision[k])  \n",
    "    print('Recall: %f' % recall[k])\n",
    "    print('F1 score: %f' % f1[k])\n",
    "    print('ROC AUC: %f' % auc[k])\n",
    "    print()\n",
    "    k=k+1\n",
    "    confusion_matrix = metrics.confusion_matrix(y_test, v.predict(X_test).round())\n",
    "    plot_confusion_matrix(confusion_matrix, classes = list(classdict.keys()), title='Confusion Matrix Plot', cmap=plt.cm.summer)\n",
    "    "
   ]
  },
  {
   "cell_type": "markdown",
   "metadata": {},
   "source": [
    "# Data sampling\n",
    "As noted earlier, the dataset is unbalanced. Training unbalanced dataset with learning algorithms may lead to misclassification of minority class. Therefore, to compensate for the unbalancedness, we will use  oversampling method and Under sampling method and check the model what we build"
   ]
  },
  {
   "cell_type": "markdown",
   "metadata": {},
   "source": [
    "# UnderSampling\n"
   ]
  },
  {
   "cell_type": "code",
   "execution_count": 34,
   "metadata": {},
   "outputs": [
    {
     "data": {
      "text/plain": [
       "Time      788\n",
       "V1        788\n",
       "V2        788\n",
       "V3        788\n",
       "V4        788\n",
       "V5        788\n",
       "V6        788\n",
       "V7        788\n",
       "V8        788\n",
       "V9        788\n",
       "V10       788\n",
       "V11       788\n",
       "V12       788\n",
       "V13       788\n",
       "V14       788\n",
       "V15       788\n",
       "V16       788\n",
       "V17       788\n",
       "V18       788\n",
       "V19       788\n",
       "V20       788\n",
       "V21       788\n",
       "V22       788\n",
       "V23       788\n",
       "V24       788\n",
       "V25       788\n",
       "V26       788\n",
       "V27       788\n",
       "V28       788\n",
       "Amount    788\n",
       "Class     788\n",
       "dtype: int64"
      ]
     },
     "execution_count": 34,
     "metadata": {},
     "output_type": "execute_result"
    }
   ],
   "source": [
    "fraud_record = 394\n",
    "frauds = np.array(creditcard[creditcard.Class == 1].index)\n",
    "nonfrauds = creditcard[creditcard.Class == 0].index\n",
    "random_nonfrauds = np.random.choice(nonfrauds, fraud_record, replace = False)\n",
    "random_nonfrauds = np.array(random_nonfrauds)\n",
    "Newsample = np.concatenate([frauds,random_nonfrauds])\n",
    "CrediUnderSample = creditcard.iloc[Newsample,:]\n",
    "CrediUnderSample.count()"
   ]
  },
  {
   "cell_type": "code",
   "execution_count": 35,
   "metadata": {},
   "outputs": [
    {
     "name": "stderr",
     "output_type": "stream",
     "text": [
      "C:\\Users\\Win 10\\Anaconda3\\lib\\site-packages\\ipykernel_launcher.py:2: DeprecationWarning: \n",
      ".ix is deprecated. Please use\n",
      ".loc for label based indexing or\n",
      ".iloc for positional indexing\n",
      "\n",
      "See the documentation here:\n",
      "http://pandas.pydata.org/pandas-docs/stable/indexing.html#ix-indexer-is-deprecated\n",
      "  \n",
      "C:\\Users\\Win 10\\Anaconda3\\lib\\site-packages\\ipykernel_launcher.py:3: DeprecationWarning: \n",
      ".ix is deprecated. Please use\n",
      ".loc for label based indexing or\n",
      ".iloc for positional indexing\n",
      "\n",
      "See the documentation here:\n",
      "http://pandas.pydata.org/pandas-docs/stable/indexing.html#ix-indexer-is-deprecated\n",
      "  This is separate from the ipykernel package so we can avoid doing imports until\n"
     ]
    }
   ],
   "source": [
    "scaled_X = scaler.fit_transform(CrediUnderSample)\n",
    "Xus = CrediUnderSample.ix[:, CrediUnderSample.columns != 'Class']\n",
    "yus = CrediUnderSample.ix[:, CrediUnderSample.columns == 'Class']\n",
    "X_us_train, X_us_test, y_us_train, y_us_test = train_test_split(Xus, yus, test_size=0.30, random_state=101)\n"
   ]
  },
  {
   "cell_type": "code",
   "execution_count": 36,
   "metadata": {},
   "outputs": [
    {
     "name": "stderr",
     "output_type": "stream",
     "text": [
      "C:\\Users\\Win 10\\Anaconda3\\lib\\site-packages\\sklearn\\linear_model\\logistic.py:432: FutureWarning: Default solver will be changed to 'lbfgs' in 0.22. Specify a solver to silence this warning.\n",
      "  FutureWarning)\n",
      "C:\\Users\\Win 10\\Anaconda3\\lib\\site-packages\\sklearn\\utils\\validation.py:724: DataConversionWarning: A column-vector y was passed when a 1d array was expected. Please change the shape of y to (n_samples, ), for example using ravel().\n",
      "  y = column_or_1d(y, warn=True)\n",
      "C:\\Users\\Win 10\\Anaconda3\\lib\\site-packages\\sklearn\\utils\\validation.py:724: DataConversionWarning: A column-vector y was passed when a 1d array was expected. Please change the shape of y to (n_samples, ), for example using ravel().\n",
      "  y = column_or_1d(y, warn=True)\n",
      "C:\\Users\\Win 10\\Anaconda3\\lib\\site-packages\\sklearn\\utils\\validation.py:724: DataConversionWarning: A column-vector y was passed when a 1d array was expected. Please change the shape of y to (n_samples, ), for example using ravel().\n",
      "  y = column_or_1d(y, warn=True)\n",
      "C:\\Users\\Win 10\\Anaconda3\\lib\\site-packages\\sklearn\\ensemble\\forest.py:245: FutureWarning: The default value of n_estimators will change from 10 in version 0.20 to 100 in 0.22.\n",
      "  \"10 in version 0.20 to 100 in 0.22.\", FutureWarning)\n",
      "C:\\Users\\Win 10\\Anaconda3\\lib\\site-packages\\ipykernel_launcher.py:15: DataConversionWarning: A column-vector y was passed when a 1d array was expected. Please change the shape of y to (n_samples,), for example using ravel().\n",
      "  from ipykernel import kernelapp as app\n",
      "C:\\Users\\Win 10\\Anaconda3\\lib\\site-packages\\sklearn\\preprocessing\\label.py:219: DataConversionWarning: A column-vector y was passed when a 1d array was expected. Please change the shape of y to (n_samples, ), for example using ravel().\n",
      "  y = column_or_1d(y, warn=True)\n",
      "C:\\Users\\Win 10\\Anaconda3\\lib\\site-packages\\sklearn\\preprocessing\\label.py:252: DataConversionWarning: A column-vector y was passed when a 1d array was expected. Please change the shape of y to (n_samples, ), for example using ravel().\n",
      "  y = column_or_1d(y, warn=True)\n"
     ]
    }
   ],
   "source": [
    "#Build Mode;\n",
    "# Train LogisticRegression Model\n",
    "LGR_Classifier_us = LogisticRegression()\n",
    "LGR_Classifier_us.fit(X_us_train,y_us_train);\n",
    "#Train SVM model\n",
    "SVM_Classifier_us= svm.SVC(C= 1, kernel= 'linear', random_state= 0)\n",
    "SVM_Classifier_us.fit(X_us_train,y_us_train);\n",
    "\n",
    "# Train Bernoulli Naive Baye Model\n",
    "BNB_Classifier_us = BernoulliNB()\n",
    "BNB_Classifier_us.fit(X_us_train,y_us_train);\n",
    "\n",
    "# Train Decision Tree Model\n",
    "RDF_Classifier_us= RandomForestClassifier(random_state=0)\n",
    "RDF_Classifier_us.fit(X_us_train,y_us_train);\n",
    "# Train XGBC Model\n",
    "XGB_Classifier_us = XGBClassifier(random_state=0)\n",
    "XGB_Classifier_us.fit(X_us_train,y_us_train);"
   ]
  },
  {
   "cell_type": "code",
   "execution_count": 37,
   "metadata": {},
   "outputs": [
    {
     "name": "stdout",
     "output_type": "stream",
     "text": [
      "Model: \"sequential_2\"\n",
      "_________________________________________________________________\n",
      "Layer (type)                 Output Shape              Param #   \n",
      "=================================================================\n",
      "dense_6 (Dense)              (None, 30)                930       \n",
      "_________________________________________________________________\n",
      "dense_7 (Dense)              (None, 15)                465       \n",
      "_________________________________________________________________\n",
      "dense_8 (Dense)              (None, 7)                 112       \n",
      "_________________________________________________________________\n",
      "dense_9 (Dense)              (None, 1)                 8         \n",
      "=================================================================\n",
      "Total params: 1,515\n",
      "Trainable params: 1,515\n",
      "Non-trainable params: 0\n",
      "_________________________________________________________________\n"
     ]
    }
   ],
   "source": [
    "#Creating model\n",
    "model2_us = Sequential()\n",
    "model2_us.add(Dense(30, input_dim=30, activation='relu')) \n",
    "model2_us.add(Dense(15, activation='relu'))\n",
    "model2_us.add(Dense(7, activation='relu'))\n",
    "model2_us.add(Dense(1, activation='sigmoid'))\n",
    "model2_us.compile(loss='binary_crossentropy', optimizer='adam', metrics=['accuracy'])\n",
    "model2_us.summary()\n"
   ]
  },
  {
   "cell_type": "code",
   "execution_count": 38,
   "metadata": {},
   "outputs": [
    {
     "name": "stdout",
     "output_type": "stream",
     "text": [
      "Epoch 1/400\n",
      "551/551 [==============================] - 0s 508us/step - loss: 7.9567 - acc: 0.5064\n",
      "Epoch 2/400\n",
      "551/551 [==============================] - 0s 7us/step - loss: 7.9567 - acc: 0.5064\n",
      "Epoch 3/400\n",
      "551/551 [==============================] - 0s 9us/step - loss: 7.9567 - acc: 0.5064\n",
      "Epoch 4/400\n",
      "551/551 [==============================] - 0s 11us/step - loss: 7.9486 - acc: 0.5064\n",
      "Epoch 5/400\n",
      "551/551 [==============================] - 0s 9us/step - loss: 7.9274 - acc: 0.5082\n",
      "Epoch 6/400\n",
      "551/551 [==============================] - 0s 7us/step - loss: 7.9274 - acc: 0.5082\n",
      "Epoch 7/400\n",
      "551/551 [==============================] - 0s 11us/step - loss: 7.9011 - acc: 0.5082\n",
      "Epoch 8/400\n",
      "551/551 [==============================] - 0s 9us/step - loss: 8.0203 - acc: 0.4936\n",
      "Epoch 9/400\n",
      "551/551 [==============================] - 0s 7us/step - loss: 8.0712 - acc: 0.4936\n",
      "Epoch 10/400\n",
      "551/551 [==============================] - 0s 9us/step - loss: 8.0725 - acc: 0.4936\n",
      "Epoch 11/400\n",
      "551/551 [==============================] - 0s 11us/step - loss: 8.0725 - acc: 0.4936\n",
      "Epoch 12/400\n",
      "551/551 [==============================] - 0s 7us/step - loss: 8.0725 - acc: 0.4936\n",
      "Epoch 13/400\n",
      "551/551 [==============================] - 0s 11us/step - loss: 8.0725 - acc: 0.4936\n",
      "Epoch 14/400\n",
      "551/551 [==============================] - 0s 9us/step - loss: 8.0725 - acc: 0.4936\n",
      "Epoch 15/400\n",
      "551/551 [==============================] - 0s 9us/step - loss: 8.0725 - acc: 0.4936\n",
      "Epoch 16/400\n",
      "551/551 [==============================] - 0s 7us/step - loss: 8.0725 - acc: 0.4936\n",
      "Epoch 17/400\n",
      "551/551 [==============================] - 0s 12us/step - loss: 8.0725 - acc: 0.4936\n",
      "Epoch 18/400\n",
      "551/551 [==============================] - 0s 9us/step - loss: 8.0725 - acc: 0.4936\n",
      "Epoch 19/400\n",
      "551/551 [==============================] - 0s 11us/step - loss: 8.0725 - acc: 0.4936\n",
      "Epoch 20/400\n",
      "551/551 [==============================] - 0s 7us/step - loss: 8.0725 - acc: 0.4936\n",
      "Epoch 21/400\n",
      "551/551 [==============================] - 0s 7us/step - loss: 8.0725 - acc: 0.4936\n",
      "Epoch 22/400\n",
      "551/551 [==============================] - 0s 9us/step - loss: 8.0725 - acc: 0.4936\n",
      "Epoch 23/400\n",
      "551/551 [==============================] - 0s 9us/step - loss: 8.0725 - acc: 0.4936\n",
      "Epoch 24/400\n",
      "551/551 [==============================] - 0s 9us/step - loss: 8.0725 - acc: 0.4936\n",
      "Epoch 25/400\n",
      "551/551 [==============================] - 0s 7us/step - loss: 8.0725 - acc: 0.4936\n",
      "Epoch 26/400\n",
      "551/551 [==============================] - 0s 5us/step - loss: 8.0725 - acc: 0.4936\n",
      "Epoch 27/400\n",
      "551/551 [==============================] - 0s 5us/step - loss: 8.0725 - acc: 0.4936\n",
      "Epoch 28/400\n",
      "551/551 [==============================] - 0s 9us/step - loss: 8.0725 - acc: 0.4936\n",
      "Epoch 29/400\n",
      "551/551 [==============================] - 0s 7us/step - loss: 8.0725 - acc: 0.4936\n",
      "Epoch 30/400\n",
      "551/551 [==============================] - 0s 9us/step - loss: 8.0725 - acc: 0.4936\n",
      "Epoch 31/400\n",
      "551/551 [==============================] - 0s 9us/step - loss: 8.0725 - acc: 0.4936\n",
      "Epoch 32/400\n",
      "551/551 [==============================] - 0s 7us/step - loss: 8.0725 - acc: 0.4936\n",
      "Epoch 33/400\n",
      "551/551 [==============================] - 0s 7us/step - loss: 8.0725 - acc: 0.4936\n",
      "Epoch 34/400\n",
      "551/551 [==============================] - 0s 9us/step - loss: 8.0725 - acc: 0.4936\n",
      "Epoch 35/400\n",
      "551/551 [==============================] - 0s 7us/step - loss: 8.0725 - acc: 0.4936\n",
      "Epoch 36/400\n",
      "551/551 [==============================] - 0s 11us/step - loss: 8.0725 - acc: 0.4936\n",
      "Epoch 37/400\n",
      "551/551 [==============================] - 0s 5us/step - loss: 8.0725 - acc: 0.4936\n",
      "Epoch 38/400\n",
      "551/551 [==============================] - 0s 9us/step - loss: 8.0725 - acc: 0.4936\n",
      "Epoch 39/400\n",
      "551/551 [==============================] - 0s 7us/step - loss: 8.0725 - acc: 0.4936\n",
      "Epoch 40/400\n",
      "551/551 [==============================] - 0s 7us/step - loss: 8.0725 - acc: 0.4936\n",
      "Epoch 41/400\n",
      "551/551 [==============================] - 0s 12us/step - loss: 8.0725 - acc: 0.4936\n",
      "Epoch 42/400\n",
      "551/551 [==============================] - 0s 7us/step - loss: 8.0725 - acc: 0.4936\n",
      "Epoch 43/400\n",
      "551/551 [==============================] - 0s 7us/step - loss: 8.0725 - acc: 0.4936\n",
      "Epoch 44/400\n",
      "551/551 [==============================] - 0s 11us/step - loss: 8.0725 - acc: 0.4936\n",
      "Epoch 45/400\n",
      "551/551 [==============================] - 0s 5us/step - loss: 8.0725 - acc: 0.4936\n",
      "Epoch 46/400\n",
      "551/551 [==============================] - 0s 7us/step - loss: 8.0725 - acc: 0.4936\n",
      "Epoch 47/400\n",
      "551/551 [==============================] - 0s 9us/step - loss: 8.0725 - acc: 0.4936\n",
      "Epoch 48/400\n",
      "551/551 [==============================] - 0s 7us/step - loss: 8.0725 - acc: 0.4936\n",
      "Epoch 49/400\n",
      "551/551 [==============================] - 0s 9us/step - loss: 8.0725 - acc: 0.4936\n",
      "Epoch 50/400\n",
      "551/551 [==============================] - 0s 7us/step - loss: 8.0725 - acc: 0.4936\n",
      "Epoch 51/400\n",
      "551/551 [==============================] - 0s 7us/step - loss: 8.0725 - acc: 0.4936\n",
      "Epoch 52/400\n",
      "551/551 [==============================] - 0s 7us/step - loss: 8.0725 - acc: 0.4936\n",
      "Epoch 53/400\n",
      "551/551 [==============================] - 0s 5us/step - loss: 8.0725 - acc: 0.4936\n",
      "Epoch 54/400\n",
      "551/551 [==============================] - 0s 9us/step - loss: 8.0725 - acc: 0.4936\n",
      "Epoch 55/400\n",
      "551/551 [==============================] - 0s 9us/step - loss: 8.0725 - acc: 0.4936\n",
      "Epoch 56/400\n",
      "551/551 [==============================] - 0s 5us/step - loss: 8.0725 - acc: 0.4936\n",
      "Epoch 57/400\n",
      "551/551 [==============================] - 0s 9us/step - loss: 8.0725 - acc: 0.4936\n",
      "Epoch 58/400\n",
      "551/551 [==============================] - 0s 9us/step - loss: 8.0725 - acc: 0.4936\n",
      "Epoch 59/400\n",
      "551/551 [==============================] - 0s 7us/step - loss: 8.0725 - acc: 0.4936\n",
      "Epoch 60/400\n",
      "551/551 [==============================] - 0s 9us/step - loss: 8.0725 - acc: 0.4936\n",
      "Epoch 61/400\n",
      "551/551 [==============================] - 0s 9us/step - loss: 8.0725 - acc: 0.4936\n",
      "Epoch 62/400\n",
      "551/551 [==============================] - 0s 7us/step - loss: 8.0725 - acc: 0.4936\n",
      "Epoch 63/400\n",
      "551/551 [==============================] - 0s 7us/step - loss: 8.0725 - acc: 0.4936\n",
      "Epoch 64/400\n",
      "551/551 [==============================] - 0s 11us/step - loss: 8.0725 - acc: 0.4936\n",
      "Epoch 65/400\n",
      "551/551 [==============================] - 0s 7us/step - loss: 8.0725 - acc: 0.4936\n",
      "Epoch 66/400\n",
      "551/551 [==============================] - 0s 11us/step - loss: 8.0725 - acc: 0.4936\n",
      "Epoch 67/400\n",
      "551/551 [==============================] - 0s 9us/step - loss: 8.0725 - acc: 0.4936\n",
      "Epoch 68/400\n",
      "551/551 [==============================] - 0s 7us/step - loss: 8.0725 - acc: 0.4936\n",
      "Epoch 69/400\n",
      "551/551 [==============================] - 0s 7us/step - loss: 8.0725 - acc: 0.4936\n",
      "Epoch 70/400\n",
      "551/551 [==============================] - 0s 9us/step - loss: 8.0725 - acc: 0.4936\n",
      "Epoch 71/400\n",
      "551/551 [==============================] - 0s 9us/step - loss: 8.0725 - acc: 0.4936\n",
      "Epoch 72/400\n",
      "551/551 [==============================] - 0s 7us/step - loss: 8.0725 - acc: 0.4936\n",
      "Epoch 73/400\n",
      "551/551 [==============================] - 0s 9us/step - loss: 8.0725 - acc: 0.4936\n",
      "Epoch 74/400\n",
      "551/551 [==============================] - 0s 7us/step - loss: 8.0725 - acc: 0.4936\n",
      "Epoch 75/400\n",
      "551/551 [==============================] - 0s 7us/step - loss: 8.0725 - acc: 0.4936\n",
      "Epoch 76/400\n",
      "551/551 [==============================] - 0s 9us/step - loss: 8.0725 - acc: 0.4936\n",
      "Epoch 77/400\n",
      "551/551 [==============================] - 0s 9us/step - loss: 8.0725 - acc: 0.4936\n",
      "Epoch 78/400\n",
      "551/551 [==============================] - 0s 7us/step - loss: 8.0725 - acc: 0.4936\n",
      "Epoch 79/400\n",
      "551/551 [==============================] - 0s 7us/step - loss: 8.0725 - acc: 0.4936\n",
      "Epoch 80/400\n",
      "551/551 [==============================] - 0s 9us/step - loss: 8.0725 - acc: 0.4936\n",
      "Epoch 81/400\n",
      "551/551 [==============================] - 0s 7us/step - loss: 8.0725 - acc: 0.4936\n",
      "Epoch 82/400\n",
      "551/551 [==============================] - 0s 9us/step - loss: 8.0725 - acc: 0.4936\n",
      "Epoch 83/400\n",
      "551/551 [==============================] - 0s 9us/step - loss: 8.0725 - acc: 0.4936\n",
      "Epoch 84/400\n",
      "551/551 [==============================] - 0s 7us/step - loss: 8.0725 - acc: 0.4936\n",
      "Epoch 85/400\n"
     ]
    },
    {
     "name": "stdout",
     "output_type": "stream",
     "text": [
      "551/551 [==============================] - 0s 7us/step - loss: 8.0725 - acc: 0.4936\n",
      "Epoch 86/400\n",
      "551/551 [==============================] - 0s 7us/step - loss: 8.0725 - acc: 0.4936\n",
      "Epoch 87/400\n",
      "551/551 [==============================] - 0s 7us/step - loss: 8.0725 - acc: 0.4936\n",
      "Epoch 88/400\n",
      "551/551 [==============================] - 0s 7us/step - loss: 8.0725 - acc: 0.4936\n",
      "Epoch 89/400\n",
      "551/551 [==============================] - 0s 7us/step - loss: 8.0725 - acc: 0.4936\n",
      "Epoch 90/400\n",
      "551/551 [==============================] - 0s 7us/step - loss: 8.0725 - acc: 0.4936\n",
      "Epoch 91/400\n",
      "551/551 [==============================] - 0s 9us/step - loss: 8.0725 - acc: 0.4936\n",
      "Epoch 92/400\n",
      "551/551 [==============================] - 0s 7us/step - loss: 8.0725 - acc: 0.4936\n",
      "Epoch 93/400\n",
      "551/551 [==============================] - 0s 7us/step - loss: 8.0725 - acc: 0.4936\n",
      "Epoch 94/400\n",
      "551/551 [==============================] - 0s 9us/step - loss: 8.0725 - acc: 0.4936\n",
      "Epoch 95/400\n",
      "551/551 [==============================] - 0s 7us/step - loss: 8.0725 - acc: 0.4936\n",
      "Epoch 96/400\n",
      "551/551 [==============================] - 0s 7us/step - loss: 8.0725 - acc: 0.4936\n",
      "Epoch 97/400\n",
      "551/551 [==============================] - 0s 9us/step - loss: 8.0725 - acc: 0.4936\n",
      "Epoch 98/400\n",
      "551/551 [==============================] - 0s 7us/step - loss: 8.0725 - acc: 0.4936\n",
      "Epoch 99/400\n",
      "551/551 [==============================] - 0s 7us/step - loss: 8.0725 - acc: 0.4936\n",
      "Epoch 100/400\n",
      "551/551 [==============================] - 0s 9us/step - loss: 8.0725 - acc: 0.4936\n",
      "Epoch 101/400\n",
      "551/551 [==============================] - 0s 7us/step - loss: 8.0725 - acc: 0.4936\n",
      "Epoch 102/400\n",
      "551/551 [==============================] - 0s 9us/step - loss: 8.0725 - acc: 0.4936\n",
      "Epoch 103/400\n",
      "551/551 [==============================] - 0s 7us/step - loss: 8.0725 - acc: 0.4936\n",
      "Epoch 104/400\n",
      "551/551 [==============================] - 0s 7us/step - loss: 8.0725 - acc: 0.4936\n",
      "Epoch 105/400\n",
      "551/551 [==============================] - 0s 7us/step - loss: 8.0725 - acc: 0.4936\n",
      "Epoch 106/400\n",
      "551/551 [==============================] - 0s 7us/step - loss: 8.0725 - acc: 0.4936\n",
      "Epoch 107/400\n",
      "551/551 [==============================] - 0s 9us/step - loss: 8.0725 - acc: 0.4936\n",
      "Epoch 108/400\n",
      "551/551 [==============================] - 0s 7us/step - loss: 8.0725 - acc: 0.4936\n",
      "Epoch 109/400\n",
      "551/551 [==============================] - 0s 7us/step - loss: 8.0725 - acc: 0.4936\n",
      "Epoch 110/400\n",
      "551/551 [==============================] - 0s 7us/step - loss: 8.0725 - acc: 0.4936\n",
      "Epoch 111/400\n",
      "551/551 [==============================] - 0s 7us/step - loss: 8.0725 - acc: 0.4936\n",
      "Epoch 112/400\n",
      "551/551 [==============================] - 0s 7us/step - loss: 8.0725 - acc: 0.4936\n",
      "Epoch 113/400\n",
      "551/551 [==============================] - 0s 7us/step - loss: 8.0725 - acc: 0.4936\n",
      "Epoch 114/400\n",
      "551/551 [==============================] - 0s 7us/step - loss: 8.0725 - acc: 0.4936\n",
      "Epoch 115/400\n",
      "551/551 [==============================] - 0s 7us/step - loss: 8.0725 - acc: 0.4936\n",
      "Epoch 116/400\n",
      "551/551 [==============================] - 0s 9us/step - loss: 8.0725 - acc: 0.4936\n",
      "Epoch 117/400\n",
      "551/551 [==============================] - 0s 9us/step - loss: 8.0725 - acc: 0.4936\n",
      "Epoch 118/400\n",
      "551/551 [==============================] - 0s 7us/step - loss: 8.0725 - acc: 0.4936\n",
      "Epoch 119/400\n",
      "551/551 [==============================] - 0s 9us/step - loss: 8.0725 - acc: 0.4936\n",
      "Epoch 120/400\n",
      "551/551 [==============================] - 0s 9us/step - loss: 8.0725 - acc: 0.4936\n",
      "Epoch 121/400\n",
      "551/551 [==============================] - 0s 7us/step - loss: 8.0725 - acc: 0.4936\n",
      "Epoch 122/400\n",
      "551/551 [==============================] - 0s 9us/step - loss: 8.0725 - acc: 0.4936\n",
      "Epoch 123/400\n",
      "551/551 [==============================] - 0s 5us/step - loss: 8.0725 - acc: 0.4936\n",
      "Epoch 124/400\n",
      "551/551 [==============================] - 0s 9us/step - loss: 8.0725 - acc: 0.4936\n",
      "Epoch 125/400\n",
      "551/551 [==============================] - 0s 9us/step - loss: 8.0725 - acc: 0.4936\n",
      "Epoch 126/400\n",
      "551/551 [==============================] - 0s 9us/step - loss: 8.0725 - acc: 0.4936\n",
      "Epoch 127/400\n",
      "551/551 [==============================] - 0s 7us/step - loss: 8.0725 - acc: 0.4936\n",
      "Epoch 128/400\n",
      "551/551 [==============================] - 0s 9us/step - loss: 8.0725 - acc: 0.4936\n",
      "Epoch 129/400\n",
      "551/551 [==============================] - 0s 7us/step - loss: 8.0725 - acc: 0.4936\n",
      "Epoch 130/400\n",
      "551/551 [==============================] - 0s 7us/step - loss: 8.0725 - acc: 0.4936\n",
      "Epoch 131/400\n",
      "551/551 [==============================] - 0s 9us/step - loss: 8.0725 - acc: 0.4936\n",
      "Epoch 132/400\n",
      "551/551 [==============================] - 0s 7us/step - loss: 8.0725 - acc: 0.4936\n",
      "Epoch 133/400\n",
      "551/551 [==============================] - 0s 9us/step - loss: 8.0725 - acc: 0.4936\n",
      "Epoch 134/400\n",
      "551/551 [==============================] - 0s 9us/step - loss: 8.0725 - acc: 0.4936\n",
      "Epoch 135/400\n",
      "551/551 [==============================] - 0s 7us/step - loss: 8.0725 - acc: 0.4936\n",
      "Epoch 136/400\n",
      "551/551 [==============================] - 0s 9us/step - loss: 8.0725 - acc: 0.4936\n",
      "Epoch 137/400\n",
      "551/551 [==============================] - 0s 9us/step - loss: 8.0725 - acc: 0.4936\n",
      "Epoch 138/400\n",
      "551/551 [==============================] - 0s 9us/step - loss: 8.0725 - acc: 0.4936\n",
      "Epoch 139/400\n",
      "551/551 [==============================] - 0s 7us/step - loss: 8.0725 - acc: 0.4936\n",
      "Epoch 140/400\n",
      "551/551 [==============================] - 0s 9us/step - loss: 8.0725 - acc: 0.4936\n",
      "Epoch 141/400\n",
      "551/551 [==============================] - 0s 7us/step - loss: 8.0725 - acc: 0.4936\n",
      "Epoch 142/400\n",
      "551/551 [==============================] - 0s 9us/step - loss: 8.0725 - acc: 0.4936\n",
      "Epoch 143/400\n",
      "551/551 [==============================] - 0s 7us/step - loss: 8.0725 - acc: 0.4936\n",
      "Epoch 144/400\n",
      "551/551 [==============================] - 0s 7us/step - loss: 8.0725 - acc: 0.4936\n",
      "Epoch 145/400\n",
      "551/551 [==============================] - 0s 9us/step - loss: 8.0725 - acc: 0.4936\n",
      "Epoch 146/400\n",
      "551/551 [==============================] - 0s 9us/step - loss: 8.0725 - acc: 0.4936\n",
      "Epoch 147/400\n",
      "551/551 [==============================] - 0s 9us/step - loss: 8.0725 - acc: 0.4936\n",
      "Epoch 148/400\n",
      "551/551 [==============================] - 0s 7us/step - loss: 8.0725 - acc: 0.4936\n",
      "Epoch 149/400\n",
      "551/551 [==============================] - 0s 9us/step - loss: 8.0725 - acc: 0.4936\n",
      "Epoch 150/400\n",
      "551/551 [==============================] - 0s 7us/step - loss: 8.0725 - acc: 0.4936\n",
      "Epoch 151/400\n",
      "551/551 [==============================] - 0s 7us/step - loss: 8.0725 - acc: 0.4936\n",
      "Epoch 152/400\n",
      "551/551 [==============================] - 0s 7us/step - loss: 8.0725 - acc: 0.4936\n",
      "Epoch 153/400\n",
      "551/551 [==============================] - 0s 9us/step - loss: 8.0725 - acc: 0.4936\n",
      "Epoch 154/400\n",
      "551/551 [==============================] - 0s 7us/step - loss: 8.0725 - acc: 0.4936\n",
      "Epoch 155/400\n",
      "551/551 [==============================] - ETA: 0s - loss: 8.7152 - acc: 0.453 - 0s 7us/step - loss: 8.0725 - acc: 0.4936\n",
      "Epoch 156/400\n",
      "551/551 [==============================] - 0s 9us/step - loss: 8.0725 - acc: 0.4936\n",
      "Epoch 157/400\n",
      "551/551 [==============================] - 0s 5us/step - loss: 8.0725 - acc: 0.4936\n",
      "Epoch 158/400\n",
      "551/551 [==============================] - 0s 7us/step - loss: 8.0725 - acc: 0.4936\n",
      "Epoch 159/400\n",
      "551/551 [==============================] - 0s 7us/step - loss: 8.0725 - acc: 0.4936\n",
      "Epoch 160/400\n",
      "551/551 [==============================] - 0s 7us/step - loss: 8.0725 - acc: 0.4936\n",
      "Epoch 161/400\n",
      "551/551 [==============================] - 0s 7us/step - loss: 8.0725 - acc: 0.4936\n",
      "Epoch 162/400\n",
      "551/551 [==============================] - 0s 7us/step - loss: 8.0725 - acc: 0.4936\n",
      "Epoch 163/400\n",
      "551/551 [==============================] - 0s 7us/step - loss: 8.0725 - acc: 0.4936\n",
      "Epoch 164/400\n",
      "551/551 [==============================] - 0s 7us/step - loss: 8.0725 - acc: 0.4936\n",
      "Epoch 165/400\n",
      "551/551 [==============================] - 0s 7us/step - loss: 8.0725 - acc: 0.4936\n",
      "Epoch 166/400\n",
      "551/551 [==============================] - 0s 7us/step - loss: 8.0725 - acc: 0.4936\n",
      "Epoch 167/400\n",
      "551/551 [==============================] - 0s 7us/step - loss: 8.0725 - acc: 0.4936\n",
      "Epoch 168/400\n"
     ]
    },
    {
     "name": "stdout",
     "output_type": "stream",
     "text": [
      "551/551 [==============================] - 0s 9us/step - loss: 8.0725 - acc: 0.4936\n",
      "Epoch 169/400\n",
      "551/551 [==============================] - 0s 9us/step - loss: 8.0725 - acc: 0.4936\n",
      "Epoch 170/400\n",
      "551/551 [==============================] - 0s 7us/step - loss: 8.0725 - acc: 0.4936\n",
      "Epoch 171/400\n",
      "551/551 [==============================] - 0s 7us/step - loss: 8.0725 - acc: 0.4936\n",
      "Epoch 172/400\n",
      "551/551 [==============================] - 0s 7us/step - loss: 8.0725 - acc: 0.4936\n",
      "Epoch 173/400\n",
      "551/551 [==============================] - 0s 9us/step - loss: 8.0725 - acc: 0.4936\n",
      "Epoch 174/400\n",
      "551/551 [==============================] - 0s 7us/step - loss: 8.0725 - acc: 0.4936\n",
      "Epoch 175/400\n",
      "551/551 [==============================] - 0s 7us/step - loss: 8.0725 - acc: 0.4936\n",
      "Epoch 176/400\n",
      "551/551 [==============================] - 0s 9us/step - loss: 8.0725 - acc: 0.4936\n",
      "Epoch 177/400\n",
      "551/551 [==============================] - 0s 9us/step - loss: 8.0725 - acc: 0.4936\n",
      "Epoch 178/400\n",
      "551/551 [==============================] - 0s 5us/step - loss: 8.0725 - acc: 0.4936\n",
      "Epoch 179/400\n",
      "551/551 [==============================] - 0s 7us/step - loss: 8.0725 - acc: 0.4936\n",
      "Epoch 180/400\n",
      "551/551 [==============================] - 0s 7us/step - loss: 8.0725 - acc: 0.4936\n",
      "Epoch 181/400\n",
      "551/551 [==============================] - 0s 7us/step - loss: 8.0725 - acc: 0.4936\n",
      "Epoch 182/400\n",
      "551/551 [==============================] - 0s 7us/step - loss: 8.0725 - acc: 0.4936\n",
      "Epoch 183/400\n",
      "551/551 [==============================] - 0s 9us/step - loss: 8.0725 - acc: 0.4936\n",
      "Epoch 184/400\n",
      "551/551 [==============================] - 0s 7us/step - loss: 8.0725 - acc: 0.4936\n",
      "Epoch 185/400\n",
      "551/551 [==============================] - 0s 7us/step - loss: 8.0725 - acc: 0.4936\n",
      "Epoch 186/400\n",
      "551/551 [==============================] - 0s 7us/step - loss: 8.0725 - acc: 0.4936\n",
      "Epoch 187/400\n",
      "551/551 [==============================] - 0s 9us/step - loss: 8.0725 - acc: 0.4936\n",
      "Epoch 188/400\n",
      "551/551 [==============================] - 0s 7us/step - loss: 8.0725 - acc: 0.4936\n",
      "Epoch 189/400\n",
      "551/551 [==============================] - 0s 7us/step - loss: 8.0725 - acc: 0.4936\n",
      "Epoch 190/400\n",
      "551/551 [==============================] - 0s 9us/step - loss: 8.0725 - acc: 0.4936\n",
      "Epoch 191/400\n",
      "551/551 [==============================] - 0s 7us/step - loss: 8.0725 - acc: 0.4936\n",
      "Epoch 192/400\n",
      "551/551 [==============================] - 0s 9us/step - loss: 8.0725 - acc: 0.4936\n",
      "Epoch 193/400\n",
      "551/551 [==============================] - 0s 9us/step - loss: 8.0725 - acc: 0.4936\n",
      "Epoch 194/400\n",
      "551/551 [==============================] - 0s 7us/step - loss: 8.0725 - acc: 0.4936\n",
      "Epoch 195/400\n",
      "551/551 [==============================] - 0s 7us/step - loss: 8.0725 - acc: 0.4936\n",
      "Epoch 196/400\n",
      "551/551 [==============================] - 0s 9us/step - loss: 8.0725 - acc: 0.4936\n",
      "Epoch 197/400\n",
      "551/551 [==============================] - 0s 7us/step - loss: 8.0725 - acc: 0.4936\n",
      "Epoch 198/400\n",
      "551/551 [==============================] - 0s 5us/step - loss: 8.0725 - acc: 0.4936\n",
      "Epoch 199/400\n",
      "551/551 [==============================] - 0s 7us/step - loss: 8.0725 - acc: 0.4936\n",
      "Epoch 200/400\n",
      "551/551 [==============================] - 0s 9us/step - loss: 8.0725 - acc: 0.4936\n",
      "Epoch 201/400\n",
      "551/551 [==============================] - 0s 5us/step - loss: 8.0725 - acc: 0.4936\n",
      "Epoch 202/400\n",
      "551/551 [==============================] - 0s 7us/step - loss: 8.0725 - acc: 0.4936\n",
      "Epoch 203/400\n",
      "551/551 [==============================] - 0s 7us/step - loss: 8.0725 - acc: 0.4936\n",
      "Epoch 204/400\n",
      "551/551 [==============================] - 0s 5us/step - loss: 8.0725 - acc: 0.4936\n",
      "Epoch 205/400\n",
      "551/551 [==============================] - 0s 7us/step - loss: 8.0725 - acc: 0.4936\n",
      "Epoch 206/400\n",
      "551/551 [==============================] - 0s 9us/step - loss: 8.0725 - acc: 0.4936\n",
      "Epoch 207/400\n",
      "551/551 [==============================] - 0s 7us/step - loss: 8.0725 - acc: 0.4936\n",
      "Epoch 208/400\n",
      "551/551 [==============================] - 0s 9us/step - loss: 8.0725 - acc: 0.4936\n",
      "Epoch 209/400\n",
      "551/551 [==============================] - 0s 7us/step - loss: 8.0725 - acc: 0.4936\n",
      "Epoch 210/400\n",
      "551/551 [==============================] - 0s 5us/step - loss: 8.0725 - acc: 0.4936\n",
      "Epoch 211/400\n",
      "551/551 [==============================] - 0s 9us/step - loss: 8.0725 - acc: 0.4936\n",
      "Epoch 212/400\n",
      "551/551 [==============================] - 0s 7us/step - loss: 8.0725 - acc: 0.4936\n",
      "Epoch 213/400\n",
      "551/551 [==============================] - 0s 7us/step - loss: 8.0725 - acc: 0.4936\n",
      "Epoch 214/400\n",
      "551/551 [==============================] - 0s 9us/step - loss: 8.0725 - acc: 0.4936\n",
      "Epoch 215/400\n",
      "551/551 [==============================] - 0s 9us/step - loss: 8.0725 - acc: 0.4936\n",
      "Epoch 216/400\n",
      "551/551 [==============================] - 0s 5us/step - loss: 8.0725 - acc: 0.4936\n",
      "Epoch 217/400\n",
      "551/551 [==============================] - 0s 9us/step - loss: 8.0725 - acc: 0.4936\n",
      "Epoch 218/400\n",
      "551/551 [==============================] - 0s 7us/step - loss: 8.0725 - acc: 0.4936\n",
      "Epoch 219/400\n",
      "551/551 [==============================] - 0s 7us/step - loss: 8.0725 - acc: 0.4936\n",
      "Epoch 220/400\n",
      "551/551 [==============================] - 0s 7us/step - loss: 8.0725 - acc: 0.4936\n",
      "Epoch 221/400\n",
      "551/551 [==============================] - 0s 7us/step - loss: 8.0725 - acc: 0.4936\n",
      "Epoch 222/400\n",
      "551/551 [==============================] - 0s 7us/step - loss: 8.0725 - acc: 0.4936\n",
      "Epoch 223/400\n",
      "551/551 [==============================] - 0s 9us/step - loss: 8.0725 - acc: 0.4936\n",
      "Epoch 224/400\n",
      "551/551 [==============================] - 0s 9us/step - loss: 8.0725 - acc: 0.4936\n",
      "Epoch 225/400\n",
      "551/551 [==============================] - 0s 7us/step - loss: 8.0725 - acc: 0.4936\n",
      "Epoch 226/400\n",
      "551/551 [==============================] - 0s 9us/step - loss: 8.0725 - acc: 0.4936\n",
      "Epoch 227/400\n",
      "551/551 [==============================] - 0s 7us/step - loss: 8.0725 - acc: 0.4936\n",
      "Epoch 228/400\n",
      "551/551 [==============================] - 0s 7us/step - loss: 8.0725 - acc: 0.4936\n",
      "Epoch 229/400\n",
      "551/551 [==============================] - 0s 7us/step - loss: 8.0725 - acc: 0.4936\n",
      "Epoch 230/400\n",
      "551/551 [==============================] - 0s 9us/step - loss: 8.0725 - acc: 0.4936\n",
      "Epoch 231/400\n",
      "551/551 [==============================] - 0s 7us/step - loss: 8.0725 - acc: 0.4936\n",
      "Epoch 232/400\n",
      "551/551 [==============================] - 0s 7us/step - loss: 8.0725 - acc: 0.4936\n",
      "Epoch 233/400\n",
      "551/551 [==============================] - ETA: 0s - loss: 7.8118 - acc: 0.510 - 0s 7us/step - loss: 8.0725 - acc: 0.4936\n",
      "Epoch 234/400\n",
      "551/551 [==============================] - 0s 9us/step - loss: 8.0725 - acc: 0.4936\n",
      "Epoch 235/400\n",
      "551/551 [==============================] - 0s 7us/step - loss: 8.0725 - acc: 0.4936\n",
      "Epoch 236/400\n",
      "551/551 [==============================] - 0s 9us/step - loss: 8.0725 - acc: 0.4936\n",
      "Epoch 237/400\n",
      "551/551 [==============================] - 0s 11us/step - loss: 8.0725 - acc: 0.4936\n",
      "Epoch 238/400\n",
      "551/551 [==============================] - 0s 7us/step - loss: 8.0725 - acc: 0.4936\n",
      "Epoch 239/400\n",
      "551/551 [==============================] - 0s 9us/step - loss: 8.0725 - acc: 0.4936\n",
      "Epoch 240/400\n",
      "551/551 [==============================] - 0s 9us/step - loss: 8.0725 - acc: 0.4936\n",
      "Epoch 241/400\n",
      "551/551 [==============================] - 0s 7us/step - loss: 8.0725 - acc: 0.4936\n",
      "Epoch 242/400\n",
      "551/551 [==============================] - 0s 7us/step - loss: 8.0725 - acc: 0.4936\n",
      "Epoch 243/400\n",
      "551/551 [==============================] - 0s 9us/step - loss: 8.0725 - acc: 0.4936\n",
      "Epoch 244/400\n",
      "551/551 [==============================] - 0s 7us/step - loss: 8.0725 - acc: 0.4936\n",
      "Epoch 245/400\n",
      "551/551 [==============================] - 0s 7us/step - loss: 8.0725 - acc: 0.4936\n",
      "Epoch 246/400\n",
      "551/551 [==============================] - 0s 7us/step - loss: 8.0725 - acc: 0.4936\n",
      "Epoch 247/400\n",
      "551/551 [==============================] - 0s 7us/step - loss: 8.0725 - acc: 0.4936\n",
      "Epoch 248/400\n",
      "551/551 [==============================] - 0s 9us/step - loss: 8.0725 - acc: 0.4936\n",
      "Epoch 249/400\n",
      "551/551 [==============================] - 0s 5us/step - loss: 8.0725 - acc: 0.4936\n",
      "Epoch 250/400\n",
      "551/551 [==============================] - 0s 7us/step - loss: 8.0725 - acc: 0.4936\n",
      "Epoch 251/400\n"
     ]
    },
    {
     "name": "stdout",
     "output_type": "stream",
     "text": [
      "551/551 [==============================] - 0s 7us/step - loss: 8.0725 - acc: 0.4936\n",
      "Epoch 252/400\n",
      "551/551 [==============================] - 0s 7us/step - loss: 8.0725 - acc: 0.4936\n",
      "Epoch 253/400\n",
      "551/551 [==============================] - 0s 7us/step - loss: 8.0725 - acc: 0.4936\n",
      "Epoch 254/400\n",
      "551/551 [==============================] - 0s 7us/step - loss: 8.0725 - acc: 0.4936\n",
      "Epoch 255/400\n",
      "551/551 [==============================] - 0s 7us/step - loss: 8.0725 - acc: 0.4936\n",
      "Epoch 256/400\n",
      "551/551 [==============================] - 0s 9us/step - loss: 8.0725 - acc: 0.4936\n",
      "Epoch 257/400\n",
      "551/551 [==============================] - 0s 9us/step - loss: 8.0725 - acc: 0.4936\n",
      "Epoch 258/400\n",
      "551/551 [==============================] - 0s 7us/step - loss: 8.0725 - acc: 0.4936\n",
      "Epoch 259/400\n",
      "551/551 [==============================] - 0s 7us/step - loss: 8.0725 - acc: 0.4936\n",
      "Epoch 260/400\n",
      "551/551 [==============================] - 0s 9us/step - loss: 8.0725 - acc: 0.4936\n",
      "Epoch 261/400\n",
      "551/551 [==============================] - 0s 9us/step - loss: 8.0725 - acc: 0.4936\n",
      "Epoch 262/400\n",
      "551/551 [==============================] - 0s 5us/step - loss: 8.0725 - acc: 0.4936\n",
      "Epoch 263/400\n",
      "551/551 [==============================] - 0s 9us/step - loss: 8.0725 - acc: 0.4936\n",
      "Epoch 264/400\n",
      "551/551 [==============================] - 0s 9us/step - loss: 8.0725 - acc: 0.4936\n",
      "Epoch 265/400\n",
      "551/551 [==============================] - 0s 30us/step - loss: 8.0725 - acc: 0.4936\n",
      "Epoch 266/400\n",
      "551/551 [==============================] - 0s 7us/step - loss: 8.0725 - acc: 0.4936\n",
      "Epoch 267/400\n",
      "551/551 [==============================] - 0s 7us/step - loss: 8.0725 - acc: 0.4936\n",
      "Epoch 268/400\n",
      "551/551 [==============================] - 0s 11us/step - loss: 8.0725 - acc: 0.4936\n",
      "Epoch 269/400\n",
      "551/551 [==============================] - 0s 14us/step - loss: 8.0725 - acc: 0.4936\n",
      "Epoch 270/400\n",
      "551/551 [==============================] - 0s 7us/step - loss: 8.0725 - acc: 0.4936\n",
      "Epoch 271/400\n",
      "551/551 [==============================] - 0s 11us/step - loss: 8.0725 - acc: 0.4936\n",
      "Epoch 272/400\n",
      "551/551 [==============================] - 0s 5us/step - loss: 8.0725 - acc: 0.4936\n",
      "Epoch 273/400\n",
      "551/551 [==============================] - 0s 7us/step - loss: 8.0725 - acc: 0.4936\n",
      "Epoch 274/400\n",
      "551/551 [==============================] - 0s 9us/step - loss: 8.0725 - acc: 0.4936\n",
      "Epoch 275/400\n",
      "551/551 [==============================] - 0s 9us/step - loss: 8.0725 - acc: 0.4936\n",
      "Epoch 276/400\n",
      "551/551 [==============================] - 0s 7us/step - loss: 8.0725 - acc: 0.4936\n",
      "Epoch 277/400\n",
      "551/551 [==============================] - 0s 7us/step - loss: 8.0725 - acc: 0.4936\n",
      "Epoch 278/400\n",
      "551/551 [==============================] - 0s 7us/step - loss: 8.0725 - acc: 0.4936\n",
      "Epoch 279/400\n",
      "551/551 [==============================] - 0s 7us/step - loss: 8.0725 - acc: 0.4936\n",
      "Epoch 280/400\n",
      "551/551 [==============================] - 0s 7us/step - loss: 8.0725 - acc: 0.4936\n",
      "Epoch 281/400\n",
      "551/551 [==============================] - 0s 7us/step - loss: 8.0725 - acc: 0.4936\n",
      "Epoch 282/400\n",
      "551/551 [==============================] - 0s 7us/step - loss: 8.0725 - acc: 0.4936\n",
      "Epoch 283/400\n",
      "551/551 [==============================] - 0s 9us/step - loss: 8.0725 - acc: 0.4936\n",
      "Epoch 284/400\n",
      "551/551 [==============================] - 0s 7us/step - loss: 8.0725 - acc: 0.4936\n",
      "Epoch 285/400\n",
      "551/551 [==============================] - 0s 7us/step - loss: 8.0725 - acc: 0.4936\n",
      "Epoch 286/400\n",
      "551/551 [==============================] - 0s 7us/step - loss: 8.0725 - acc: 0.4936\n",
      "Epoch 287/400\n",
      "551/551 [==============================] - 0s 7us/step - loss: 8.0725 - acc: 0.4936\n",
      "Epoch 288/400\n",
      "551/551 [==============================] - 0s 9us/step - loss: 8.0725 - acc: 0.4936\n",
      "Epoch 289/400\n",
      "551/551 [==============================] - 0s 9us/step - loss: 8.0725 - acc: 0.4936\n",
      "Epoch 290/400\n",
      "551/551 [==============================] - 0s 5us/step - loss: 8.0725 - acc: 0.4936\n",
      "Epoch 291/400\n",
      "551/551 [==============================] - 0s 7us/step - loss: 8.0725 - acc: 0.4936\n",
      "Epoch 292/400\n",
      "551/551 [==============================] - 0s 7us/step - loss: 8.0725 - acc: 0.4936\n",
      "Epoch 293/400\n",
      "551/551 [==============================] - 0s 9us/step - loss: 8.0725 - acc: 0.4936\n",
      "Epoch 294/400\n",
      "551/551 [==============================] - 0s 9us/step - loss: 8.0725 - acc: 0.4936\n",
      "Epoch 295/400\n",
      "551/551 [==============================] - 0s 9us/step - loss: 8.0725 - acc: 0.4936\n",
      "Epoch 296/400\n",
      "551/551 [==============================] - 0s 7us/step - loss: 8.0725 - acc: 0.4936\n",
      "Epoch 297/400\n",
      "551/551 [==============================] - 0s 9us/step - loss: 8.0725 - acc: 0.4936\n",
      "Epoch 298/400\n",
      "551/551 [==============================] - 0s 7us/step - loss: 8.0725 - acc: 0.4936\n",
      "Epoch 299/400\n",
      "551/551 [==============================] - 0s 7us/step - loss: 8.0725 - acc: 0.4936\n",
      "Epoch 300/400\n",
      "551/551 [==============================] - 0s 9us/step - loss: 8.0725 - acc: 0.4936\n",
      "Epoch 301/400\n",
      "551/551 [==============================] - 0s 9us/step - loss: 8.0725 - acc: 0.4936\n",
      "Epoch 302/400\n",
      "551/551 [==============================] - 0s 7us/step - loss: 8.0725 - acc: 0.4936\n",
      "Epoch 303/400\n",
      "551/551 [==============================] - 0s 7us/step - loss: 8.0725 - acc: 0.4936\n",
      "Epoch 304/400\n",
      "551/551 [==============================] - 0s 7us/step - loss: 8.0725 - acc: 0.4936\n",
      "Epoch 305/400\n",
      "551/551 [==============================] - 0s 7us/step - loss: 8.0725 - acc: 0.4936\n",
      "Epoch 306/400\n",
      "551/551 [==============================] - 0s 9us/step - loss: 8.0725 - acc: 0.4936\n",
      "Epoch 307/400\n",
      "551/551 [==============================] - 0s 7us/step - loss: 8.0725 - acc: 0.4936\n",
      "Epoch 308/400\n",
      "551/551 [==============================] - 0s 9us/step - loss: 8.0725 - acc: 0.4936\n",
      "Epoch 309/400\n",
      "551/551 [==============================] - 0s 9us/step - loss: 8.0725 - acc: 0.4936\n",
      "Epoch 310/400\n",
      "551/551 [==============================] - 0s 11us/step - loss: 8.0725 - acc: 0.4936\n",
      "Epoch 311/400\n",
      "551/551 [==============================] - 0s 11us/step - loss: 8.0725 - acc: 0.4936\n",
      "Epoch 312/400\n",
      "551/551 [==============================] - 0s 9us/step - loss: 8.0725 - acc: 0.4936\n",
      "Epoch 313/400\n",
      "551/551 [==============================] - 0s 12us/step - loss: 8.0725 - acc: 0.4936\n",
      "Epoch 314/400\n",
      "551/551 [==============================] - 0s 11us/step - loss: 8.0725 - acc: 0.4936\n",
      "Epoch 315/400\n",
      "551/551 [==============================] - 0s 5us/step - loss: 8.0725 - acc: 0.4936\n",
      "Epoch 316/400\n",
      "551/551 [==============================] - 0s 11us/step - loss: 8.0725 - acc: 0.4936\n",
      "Epoch 317/400\n",
      "551/551 [==============================] - 0s 7us/step - loss: 8.0725 - acc: 0.4936\n",
      "Epoch 318/400\n",
      "551/551 [==============================] - 0s 7us/step - loss: 8.0725 - acc: 0.4936\n",
      "Epoch 319/400\n",
      "551/551 [==============================] - 0s 9us/step - loss: 8.0725 - acc: 0.4936\n",
      "Epoch 320/400\n",
      "551/551 [==============================] - 0s 7us/step - loss: 8.0725 - acc: 0.4936\n",
      "Epoch 321/400\n",
      "551/551 [==============================] - 0s 7us/step - loss: 8.0725 - acc: 0.4936\n",
      "Epoch 322/400\n",
      "551/551 [==============================] - 0s 9us/step - loss: 8.0725 - acc: 0.4936\n",
      "Epoch 323/400\n",
      "551/551 [==============================] - 0s 7us/step - loss: 8.0725 - acc: 0.4936\n",
      "Epoch 324/400\n",
      "551/551 [==============================] - 0s 5us/step - loss: 8.0725 - acc: 0.4936\n",
      "Epoch 325/400\n",
      "551/551 [==============================] - 0s 5us/step - loss: 8.0725 - acc: 0.4936\n",
      "Epoch 326/400\n",
      "551/551 [==============================] - 0s 9us/step - loss: 8.0725 - acc: 0.4936\n",
      "Epoch 327/400\n",
      "551/551 [==============================] - 0s 7us/step - loss: 8.0725 - acc: 0.4936\n",
      "Epoch 328/400\n",
      "551/551 [==============================] - 0s 9us/step - loss: 8.0725 - acc: 0.4936\n",
      "Epoch 329/400\n",
      "551/551 [==============================] - 0s 7us/step - loss: 8.0725 - acc: 0.4936\n",
      "Epoch 330/400\n",
      "551/551 [==============================] - 0s 7us/step - loss: 8.0725 - acc: 0.4936\n",
      "Epoch 331/400\n",
      "551/551 [==============================] - 0s 7us/step - loss: 8.0725 - acc: 0.4936\n",
      "Epoch 332/400\n",
      "551/551 [==============================] - 0s 7us/step - loss: 8.0725 - acc: 0.4936\n",
      "Epoch 333/400\n",
      "551/551 [==============================] - 0s 7us/step - loss: 8.0725 - acc: 0.4936\n",
      "Epoch 334/400\n"
     ]
    },
    {
     "name": "stdout",
     "output_type": "stream",
     "text": [
      "551/551 [==============================] - 0s 9us/step - loss: 8.0725 - acc: 0.4936\n",
      "Epoch 335/400\n",
      "551/551 [==============================] - 0s 7us/step - loss: 8.0725 - acc: 0.4936\n",
      "Epoch 336/400\n",
      "551/551 [==============================] - 0s 9us/step - loss: 8.0725 - acc: 0.4936\n",
      "Epoch 337/400\n",
      "551/551 [==============================] - 0s 7us/step - loss: 8.0725 - acc: 0.4936\n",
      "Epoch 338/400\n",
      "551/551 [==============================] - 0s 7us/step - loss: 8.0725 - acc: 0.4936\n",
      "Epoch 339/400\n",
      "551/551 [==============================] - 0s 7us/step - loss: 8.0725 - acc: 0.4936\n",
      "Epoch 340/400\n",
      "551/551 [==============================] - 0s 7us/step - loss: 8.0725 - acc: 0.4936\n",
      "Epoch 341/400\n",
      "551/551 [==============================] - 0s 5us/step - loss: 8.0725 - acc: 0.4936\n",
      "Epoch 342/400\n",
      "551/551 [==============================] - 0s 9us/step - loss: 8.0725 - acc: 0.4936\n",
      "Epoch 343/400\n",
      "551/551 [==============================] - 0s 9us/step - loss: 8.0725 - acc: 0.4936\n",
      "Epoch 344/400\n",
      "551/551 [==============================] - 0s 5us/step - loss: 8.0725 - acc: 0.4936\n",
      "Epoch 345/400\n",
      "551/551 [==============================] - 0s 7us/step - loss: 8.0725 - acc: 0.4936\n",
      "Epoch 346/400\n",
      "551/551 [==============================] - 0s 9us/step - loss: 8.0725 - acc: 0.4936\n",
      "Epoch 347/400\n",
      "551/551 [==============================] - 0s 7us/step - loss: 8.0725 - acc: 0.4936\n",
      "Epoch 348/400\n",
      "551/551 [==============================] - 0s 7us/step - loss: 8.0725 - acc: 0.4936\n",
      "Epoch 349/400\n",
      "551/551 [==============================] - 0s 7us/step - loss: 8.0725 - acc: 0.4936\n",
      "Epoch 350/400\n",
      "551/551 [==============================] - 0s 9us/step - loss: 8.0725 - acc: 0.4936\n",
      "Epoch 351/400\n",
      "551/551 [==============================] - 0s 7us/step - loss: 8.0725 - acc: 0.4936\n",
      "Epoch 352/400\n",
      "551/551 [==============================] - 0s 7us/step - loss: 8.0725 - acc: 0.4936\n",
      "Epoch 353/400\n",
      "551/551 [==============================] - 0s 7us/step - loss: 8.0725 - acc: 0.4936\n",
      "Epoch 354/400\n",
      "551/551 [==============================] - 0s 7us/step - loss: 8.0725 - acc: 0.4936\n",
      "Epoch 355/400\n",
      "551/551 [==============================] - 0s 7us/step - loss: 8.0725 - acc: 0.4936\n",
      "Epoch 356/400\n",
      "551/551 [==============================] - 0s 11us/step - loss: 8.0725 - acc: 0.4936\n",
      "Epoch 357/400\n",
      "551/551 [==============================] - 0s 7us/step - loss: 8.0725 - acc: 0.4936\n",
      "Epoch 358/400\n",
      "551/551 [==============================] - 0s 5us/step - loss: 8.0725 - acc: 0.4936\n",
      "Epoch 359/400\n",
      "551/551 [==============================] - 0s 9us/step - loss: 8.0725 - acc: 0.4936\n",
      "Epoch 360/400\n",
      "551/551 [==============================] - 0s 7us/step - loss: 8.0725 - acc: 0.4936\n",
      "Epoch 361/400\n",
      "551/551 [==============================] - 0s 5us/step - loss: 8.0725 - acc: 0.4936\n",
      "Epoch 362/400\n",
      "551/551 [==============================] - 0s 7us/step - loss: 8.0725 - acc: 0.4936\n",
      "Epoch 363/400\n",
      "551/551 [==============================] - 0s 7us/step - loss: 8.0725 - acc: 0.4936\n",
      "Epoch 364/400\n",
      "551/551 [==============================] - 0s 7us/step - loss: 8.0725 - acc: 0.4936\n",
      "Epoch 365/400\n",
      "551/551 [==============================] - 0s 11us/step - loss: 8.0725 - acc: 0.4936\n",
      "Epoch 366/400\n",
      "551/551 [==============================] - 0s 7us/step - loss: 8.0725 - acc: 0.4936\n",
      "Epoch 367/400\n",
      "551/551 [==============================] - 0s 7us/step - loss: 8.0725 - acc: 0.4936\n",
      "Epoch 368/400\n",
      "551/551 [==============================] - 0s 11us/step - loss: 8.0725 - acc: 0.4936\n",
      "Epoch 369/400\n",
      "551/551 [==============================] - 0s 7us/step - loss: 8.0725 - acc: 0.4936\n",
      "Epoch 370/400\n",
      "551/551 [==============================] - 0s 7us/step - loss: 8.0725 - acc: 0.4936\n",
      "Epoch 371/400\n",
      "551/551 [==============================] - 0s 9us/step - loss: 8.0725 - acc: 0.4936\n",
      "Epoch 372/400\n",
      "551/551 [==============================] - 0s 7us/step - loss: 8.0725 - acc: 0.4936\n",
      "Epoch 373/400\n",
      "551/551 [==============================] - 0s 9us/step - loss: 8.0725 - acc: 0.4936\n",
      "Epoch 374/400\n",
      "551/551 [==============================] - 0s 9us/step - loss: 8.0725 - acc: 0.4936\n",
      "Epoch 375/400\n",
      "551/551 [==============================] - 0s 7us/step - loss: 8.0725 - acc: 0.4936\n",
      "Epoch 376/400\n",
      "551/551 [==============================] - 0s 7us/step - loss: 8.0725 - acc: 0.4936\n",
      "Epoch 377/400\n",
      "551/551 [==============================] - 0s 9us/step - loss: 8.0725 - acc: 0.4936\n",
      "Epoch 378/400\n",
      "551/551 [==============================] - 0s 7us/step - loss: 8.0725 - acc: 0.4936\n",
      "Epoch 379/400\n",
      "551/551 [==============================] - 0s 9us/step - loss: 8.0725 - acc: 0.4936\n",
      "Epoch 380/400\n",
      "551/551 [==============================] - 0s 11us/step - loss: 8.0725 - acc: 0.4936\n",
      "Epoch 381/400\n",
      "551/551 [==============================] - 0s 9us/step - loss: 8.0725 - acc: 0.4936\n",
      "Epoch 382/400\n",
      "551/551 [==============================] - 0s 9us/step - loss: 8.0725 - acc: 0.4936\n",
      "Epoch 383/400\n",
      "551/551 [==============================] - 0s 5us/step - loss: 8.0725 - acc: 0.4936\n",
      "Epoch 384/400\n",
      "551/551 [==============================] - 0s 7us/step - loss: 8.0725 - acc: 0.4936\n",
      "Epoch 385/400\n",
      "551/551 [==============================] - 0s 7us/step - loss: 8.0725 - acc: 0.4936\n",
      "Epoch 386/400\n",
      "551/551 [==============================] - 0s 9us/step - loss: 8.0725 - acc: 0.4936\n",
      "Epoch 387/400\n",
      "551/551 [==============================] - 0s 7us/step - loss: 8.0725 - acc: 0.4936\n",
      "Epoch 388/400\n",
      "551/551 [==============================] - 0s 5us/step - loss: 8.0725 - acc: 0.4936\n",
      "Epoch 389/400\n",
      "551/551 [==============================] - 0s 9us/step - loss: 8.0725 - acc: 0.4936\n",
      "Epoch 390/400\n",
      "551/551 [==============================] - 0s 9us/step - loss: 8.0725 - acc: 0.4936\n",
      "Epoch 391/400\n",
      "551/551 [==============================] - 0s 7us/step - loss: 8.0725 - acc: 0.4936\n",
      "Epoch 392/400\n",
      "551/551 [==============================] - 0s 9us/step - loss: 8.0725 - acc: 0.4936\n",
      "Epoch 393/400\n",
      "551/551 [==============================] - 0s 9us/step - loss: 8.0725 - acc: 0.4936\n",
      "Epoch 394/400\n",
      "551/551 [==============================] - 0s 7us/step - loss: 8.0725 - acc: 0.4936\n",
      "Epoch 395/400\n",
      "551/551 [==============================] - 0s 9us/step - loss: 8.0725 - acc: 0.4936\n",
      "Epoch 396/400\n",
      "551/551 [==============================] - 0s 7us/step - loss: 8.0725 - acc: 0.4936\n",
      "Epoch 397/400\n",
      "551/551 [==============================] - 0s 7us/step - loss: 8.0725 - acc: 0.4936\n",
      "Epoch 398/400\n",
      "551/551 [==============================] - 0s 5us/step - loss: 8.0725 - acc: 0.4936\n",
      "Epoch 399/400\n",
      "551/551 [==============================] - 0s 7us/step - loss: 8.0725 - acc: 0.4936\n",
      "Epoch 400/400\n",
      "551/551 [==============================] - 0s 7us/step - loss: 8.0725 - acc: 0.4936\n"
     ]
    },
    {
     "data": {
      "text/plain": [
       "<keras.callbacks.History at 0x16e50658898>"
      ]
     },
     "execution_count": 38,
     "metadata": {},
     "output_type": "execute_result"
    }
   ],
   "source": [
    "model2_us.fit(X_us_train,y_us_train,epochs = 400 , batch_size = 300 )"
   ]
  },
  {
   "cell_type": "code",
   "execution_count": 39,
   "metadata": {},
   "outputs": [
    {
     "name": "stdout",
     "output_type": "stream",
     "text": [
      "\n",
      "=============Model Evaluation Results with Undersampling Data Set ========================\n",
      "\n",
      "===== Logistic Regression =====\n",
      "Precision: 0.975510\n",
      "Recall: 0.878676\n",
      "F1 score: 0.924565\n",
      "ROC AUC: 0.928586\n",
      "\n",
      "===== SVM Classifier =====\n",
      "Precision: 0.986047\n",
      "Recall: 0.779412\n",
      "F1 score: 0.870637\n",
      "ROC AUC: 0.884330\n",
      "\n",
      "===== Naive Baiye Classifier =====\n",
      "Precision: 0.991031\n",
      "Recall: 0.812500\n",
      "F1 score: 0.892929\n",
      "ROC AUC: 0.902666\n",
      "\n",
      "===== RandomForest Classifier =====\n",
      "Precision: 1.000000\n",
      "Recall: 0.988971\n",
      "F1 score: 0.994455\n",
      "ROC AUC: 0.994485\n",
      "\n",
      "===== XGBoost Classifier =====\n",
      "Precision: 1.000000\n",
      "Recall: 0.996324\n",
      "F1 score: 0.998158\n",
      "ROC AUC: 0.998162\n",
      "\n",
      "===== ANN Classifier =====\n",
      "Precision: 0.493648\n",
      "Recall: 1.000000\n",
      "F1 score: 0.660996\n",
      "ROC AUC: 0.500000\n",
      "\n"
     ]
    }
   ],
   "source": [
    "# Evaluate models\n",
    "from sklearn import metrics\n",
    "modlist_us = [('Logistic Regression', LGR_Classifier_us),('SVM Classifier',SVM_Classifier_us),\n",
    "           ('Naive Baiye Classifier', BNB_Classifier_us),('RandomForest Classifier', RDF_Classifier_us),\n",
    "           ('XGBoost Classifier',XGB_Classifier_us),('ANN Classifier',model2_us)] \n",
    "models_us = [j for j in modlist_us]\n",
    "precision_us=[j for j in modlist_us]\n",
    "recall_us=[j for j in modlist_us]\n",
    "f1_us=[j for j in modlist_us]\n",
    "auc_us=[j for j in modlist_us]\n",
    "k=0\n",
    "print()\n",
    "print('=============Model Evaluation Results with Undersampling Data Set ========================'\"\\n\")  \n",
    "for i, v in models_us:\n",
    "    precision_us[k] = metrics.precision_score(y_us_train, v.predict(X_us_train).round())\n",
    "    recall_us[k]=metrics.recall_score(y_us_train, v.predict(X_us_train).round())\n",
    "    f1_us[k] = metrics.f1_score(y_us_train, v.predict(X_us_train).round())\n",
    "    auc_us[k] = metrics.roc_auc_score(y_us_train, v.predict(X_us_train).round())\n",
    "    print('===== {} ====='.format(i))\n",
    "    print ('Precision: %f' % precision_us[k])  \n",
    "    print('Recall: %f' % recall_us[k])\n",
    "    print('F1 score: %f' % f1_us[k])\n",
    "    print('ROC AUC: %f' % auc_us[k])\n",
    "    print()\n",
    "    k=k+1"
   ]
  },
  {
   "cell_type": "code",
   "execution_count": 40,
   "metadata": {},
   "outputs": [
    {
     "name": "stdout",
     "output_type": "stream",
     "text": [
      "\n",
      "========================== Model Test Results ========================\n",
      "\n",
      "===== Logistic Regression =====\n",
      "Precision: 0.973913\n",
      "Recall: 0.918033\n",
      "F1 score: 0.945148\n",
      "ROC AUC: 0.945973\n",
      "\n"
     ]
    },
    {
     "data": {
      "image/png": "[encoded data removed]",
      "text/plain": [
       "<Figure size 432x288 with 1 Axes>"
      ]
     },
     "metadata": {},
     "output_type": "display_data"
    },
    {
     "name": "stdout",
     "output_type": "stream",
     "text": [
      "===== SVM Classifier =====\n",
      "Precision: 0.990654\n",
      "Recall: 0.868852\n",
      "F1 score: 0.925764\n",
      "ROC AUC: 0.930078\n",
      "\n"
     ]
    },
    {
     "data": {
      "image/png": "[encoded data removed]",
      "text/plain": [
       "<Figure size 432x288 with 1 Axes>"
      ]
     },
     "metadata": {},
     "output_type": "display_data"
    },
    {
     "name": "stdout",
     "output_type": "stream",
     "text": [
      "===== Naive Baiye Classifier =====\n",
      "Precision: 1.000000\n",
      "Recall: 0.860656\n",
      "F1 score: 0.925110\n",
      "ROC AUC: 0.930328\n",
      "\n"
     ]
    },
    {
     "data": {
      "image/png": "[encoded data removed]",
      "text/plain": [
       "<Figure size 432x288 with 1 Axes>"
      ]
     },
     "metadata": {},
     "output_type": "display_data"
    },
    {
     "name": "stdout",
     "output_type": "stream",
     "text": [
      "===== RandomForest Classifier =====\n",
      "Precision: 0.982301\n",
      "Recall: 0.909836\n",
      "F1 score: 0.944681\n",
      "ROC AUC: 0.946222\n",
      "\n"
     ]
    },
    {
     "data": {
      "image/png": "[encoded data removed]",
      "text/plain": [
       "<Figure size 432x288 with 1 Axes>"
      ]
     },
     "metadata": {},
     "output_type": "display_data"
    },
    {
     "name": "stdout",
     "output_type": "stream",
     "text": [
      "===== XGBoost Classifier =====\n",
      "Precision: 0.982906\n",
      "Recall: 0.942623\n",
      "F1 score: 0.962343\n",
      "ROC AUC: 0.962616\n",
      "\n"
     ]
    },
    {
     "data": {
      "image/png": "[encoded data removed]",
      "text/plain": [
       "<Figure size 432x288 with 1 Axes>"
      ]
     },
     "metadata": {},
     "output_type": "display_data"
    },
    {
     "name": "stdout",
     "output_type": "stream",
     "text": [
      "===== ANN Classifier =====\n",
      "Precision: 0.514768\n",
      "Recall: 1.000000\n",
      "F1 score: 0.679666\n",
      "ROC AUC: 0.500000\n",
      "\n"
     ]
    },
    {
     "data": {
      "image/png": "[encoded data removed]",
      "text/plain": [
       "<Figure size 432x288 with 1 Axes>"
      ]
     },
     "metadata": {},
     "output_type": "display_data"
    }
   ],
   "source": [
    "# Test models\n",
    "\n",
    "classdict = {'normal':0, 'fraudulent':1}\n",
    "print()\n",
    "print('========================== Model Test Results ========================' \"\\n\")   \n",
    "precision_us_t=[j for j in modlist_us]\n",
    "recall_us_t=[j for j in modlist_us]\n",
    "f1_us_t=[j for j in modlist_us]\n",
    "auc_us_t=[j for j in modlist_us]\n",
    "k=0\n",
    "for i, v in models_us:\n",
    "    precision_us_t[k]= metrics.precision_score(y_us_test, v.predict(X_us_test).round())\n",
    "    recall_us_t[k]=metrics.recall_score(y_us_test, v.predict(X_us_test).round())\n",
    "    f1_us_t[k] = metrics.f1_score(y_us_test, v.predict(X_us_test).round())\n",
    "    auc_us_t[k]= metrics.roc_auc_score(y_us_test, v.predict(X_us_test).round())\n",
    "    print('===== {} ====='.format(i))\n",
    "    print ('Precision: %f' % precision_us_t[k])  \n",
    "    print('Recall: %f' % recall_us_t[k])\n",
    "    print('F1 score: %f' % f1_us_t[k])\n",
    "    print('ROC AUC: %f' % auc_us_t[k])\n",
    "    print()\n",
    "    k=k+1\n",
    "    confusion_matrix_us= metrics.confusion_matrix(y_us_test, v.predict(X_us_test).round())\n",
    "    plot_confusion_matrix(confusion_matrix_us, classes = list(classdict.keys()), title='Confusion Matrix Plot', cmap=plt.cm.summer)\n",
    "    "
   ]
  },
  {
   "cell_type": "markdown",
   "metadata": {},
   "source": [
    "# Over Sampling"
   ]
  },
  {
   "cell_type": "code",
   "execution_count": 41,
   "metadata": {},
   "outputs": [
    {
     "name": "stderr",
     "output_type": "stream",
     "text": [
      "C:\\Users\\Win 10\\Anaconda3\\lib\\site-packages\\ipykernel_launcher.py:16: DeprecationWarning: \n",
      ".ix is deprecated. Please use\n",
      ".loc for label based indexing or\n",
      ".iloc for positional indexing\n",
      "\n",
      "See the documentation here:\n",
      "http://pandas.pydata.org/pandas-docs/stable/indexing.html#ix-indexer-is-deprecated\n",
      "  app.launch_new_instance()\n",
      "C:\\Users\\Win 10\\Anaconda3\\lib\\site-packages\\ipykernel_launcher.py:17: DeprecationWarning: \n",
      ".ix is deprecated. Please use\n",
      ".loc for label based indexing or\n",
      ".iloc for positional indexing\n",
      "\n",
      "See the documentation here:\n",
      "http://pandas.pydata.org/pandas-docs/stable/indexing.html#ix-indexer-is-deprecated\n"
     ]
    },
    {
     "data": {
      "text/plain": [
       "1    227451\n",
       "0    227451\n",
       "Name: Class, dtype: int64"
      ]
     },
     "execution_count": 41,
     "metadata": {},
     "output_type": "execute_result"
    }
   ],
   "source": [
    "#from imblearn.over_sampling import SMOTE\n",
    "#oversampler=SMOTE(random_state=0)\n",
    "#X_train_smote,y_train_smote=oversampler.fit_sample(X_train,y_train)\n",
    "# separate minority and majority classes\n",
    "from sklearn.utils import resample\n",
    "not_fraud = creditcard[creditcard.Class==0]\n",
    "fraud = creditcard[creditcard.Class==1]\n",
    "# upsample minority\n",
    "fraud_upsampled = resample(fraud,\n",
    "                          replace=True, # sample with replacement\n",
    "                          n_samples=len(not_fraud), # match number in majority class\n",
    "                          random_state=27) # reproducible results\n",
    "\n",
    "# combine majority and upsampled minority\n",
    "upsampled = pd.concat([not_fraud, fraud_upsampled])\n",
    "Xos = upsampled.ix[:, CrediUnderSample.columns != 'Class']\n",
    "yos = upsampled.ix[:, CrediUnderSample.columns == 'Class']\n",
    "scaled_Xos = scaler.fit_transform(Xos)\n",
    "X_train_smote, X_os_test, y_train_smote, y_os_test = train_test_split(scaled_Xos, yos, test_size=0.30, random_state=101)\n",
    "upsampled.Class.value_counts()  "
   ]
  },
  {
   "cell_type": "code",
   "execution_count": 47,
   "metadata": {},
   "outputs": [
    {
     "name": "stderr",
     "output_type": "stream",
     "text": [
      "C:\\Users\\Win 10\\Anaconda3\\lib\\site-packages\\sklearn\\linear_model\\logistic.py:432: FutureWarning: Default solver will be changed to 'lbfgs' in 0.22. Specify a solver to silence this warning.\n",
      "  FutureWarning)\n",
      "C:\\Users\\Win 10\\Anaconda3\\lib\\site-packages\\sklearn\\utils\\validation.py:724: DataConversionWarning: A column-vector y was passed when a 1d array was expected. Please change the shape of y to (n_samples, ), for example using ravel().\n",
      "  y = column_or_1d(y, warn=True)\n",
      "C:\\Users\\Win 10\\Anaconda3\\lib\\site-packages\\sklearn\\utils\\validation.py:724: DataConversionWarning: A column-vector y was passed when a 1d array was expected. Please change the shape of y to (n_samples, ), for example using ravel().\n",
      "  y = column_or_1d(y, warn=True)\n",
      "C:\\Users\\Win 10\\Anaconda3\\lib\\site-packages\\sklearn\\utils\\validation.py:724: DataConversionWarning: A column-vector y was passed when a 1d array was expected. Please change the shape of y to (n_samples, ), for example using ravel().\n",
      "  y = column_or_1d(y, warn=True)\n",
      "C:\\Users\\Win 10\\Anaconda3\\lib\\site-packages\\sklearn\\ensemble\\forest.py:245: FutureWarning: The default value of n_estimators will change from 10 in version 0.20 to 100 in 0.22.\n",
      "  \"10 in version 0.20 to 100 in 0.22.\", FutureWarning)\n",
      "C:\\Users\\Win 10\\Anaconda3\\lib\\site-packages\\ipykernel_launcher.py:15: DataConversionWarning: A column-vector y was passed when a 1d array was expected. Please change the shape of y to (n_samples,), for example using ravel().\n",
      "  from ipykernel import kernelapp as app\n",
      "C:\\Users\\Win 10\\Anaconda3\\lib\\site-packages\\sklearn\\preprocessing\\label.py:219: DataConversionWarning: A column-vector y was passed when a 1d array was expected. Please change the shape of y to (n_samples, ), for example using ravel().\n",
      "  y = column_or_1d(y, warn=True)\n",
      "C:\\Users\\Win 10\\Anaconda3\\lib\\site-packages\\sklearn\\preprocessing\\label.py:252: DataConversionWarning: A column-vector y was passed when a 1d array was expected. Please change the shape of y to (n_samples, ), for example using ravel().\n",
      "  y = column_or_1d(y, warn=True)\n"
     ]
    }
   ],
   "source": [
    "#Build Mode;\n",
    "# Train LogisticRegression Model\n",
    "LGR_Classifier_os = LogisticRegression()\n",
    "LGR_Classifier_os.fit(X_train_smote,y_train_smote);\n",
    "#Train SVM model\n",
    "SVM_Classifier_os= svm.SVC(C= 1, kernel= 'linear', random_state= 0)\n",
    "SVM_Classifier_os.fit(X_train_smote,y_train_smote);\n",
    "\n",
    "# Train Bernoulli Naive Baye Model\n",
    "BNB_Classifier_os = BernoulliNB()\n",
    "BNB_Classifier_os.fit(X_train_smote,y_train_smote);\n",
    "\n",
    "# Train Decision Tree Model\n",
    "RDF_Classifier_os= RandomForestClassifier(random_state=0)\n",
    "RDF_Classifier_os.fit(X_train_smote,y_train_smote);\n",
    "# Train XGBC Model\n",
    "XGB_Classifier_os = XGBClassifier(random_state=0)\n",
    "XGB_Classifier_os.fit(X_train_smote,y_train_smote);"
   ]
  },
  {
   "cell_type": "code",
   "execution_count": 48,
   "metadata": {},
   "outputs": [
    {
     "name": "stdout",
     "output_type": "stream",
     "text": [
      "Model: \"sequential_4\"\n",
      "_________________________________________________________________\n",
      "Layer (type)                 Output Shape              Param #   \n",
      "=================================================================\n",
      "dense_14 (Dense)             (None, 30)                930       \n",
      "_________________________________________________________________\n",
      "dense_15 (Dense)             (None, 15)                465       \n",
      "_________________________________________________________________\n",
      "dense_16 (Dense)             (None, 7)                 112       \n",
      "_________________________________________________________________\n",
      "dense_17 (Dense)             (None, 1)                 8         \n",
      "=================================================================\n",
      "Total params: 1,515\n",
      "Trainable params: 1,515\n",
      "Non-trainable params: 0\n",
      "_________________________________________________________________\n"
     ]
    }
   ],
   "source": [
    "model2_os = Sequential()\n",
    "model2_os.add(Dense(30, input_dim=30, activation='relu')) \n",
    "model2_os.add(Dense(15, activation='relu'))\n",
    "model2_os.add(Dense(7, activation='relu'))\n",
    "model2_os.add(Dense(1, activation='sigmoid'))\n",
    "model2_os.compile(loss='binary_crossentropy', optimizer='adam', metrics=['accuracy'])\n",
    "model2_os.summary()"
   ]
  },
  {
   "cell_type": "markdown",
   "metadata": {},
   "source": [
    "#Creating model\n",
    "model2_os = Sequential()\n",
    "model2_os.add(Dense(30, input_dim=30, activation='relu')) \n",
    "model2_os.add(Dense(27, activation='relu'))\n",
    "model2_os.add(Dense(20, activation='relu'))\n",
    "model2_os.add(Dense(15, activation='relu'))\n",
    "model2_os.add(Dense(1, activation='sigmoid'))\n",
    "model2_os.compile(loss='binary_crossentropy', optimizer='adam', metrics=['accuracy'])\n",
    "model2_os.summary()"
   ]
  },
  {
   "cell_type": "code",
   "execution_count": 49,
   "metadata": {},
   "outputs": [
    {
     "name": "stdout",
     "output_type": "stream",
     "text": [
      "Epoch 1/50\n",
      "318431/318431 [==============================] - 6s 18us/step - loss: 0.0522 - acc: 0.9818\n",
      "Epoch 2/50\n",
      "318431/318431 [==============================] - 7s 21us/step - loss: 0.0107 - acc: 0.9974\n",
      "Epoch 3/50\n",
      "318431/318431 [==============================] - 6s 18us/step - loss: 0.0077 - acc: 0.9984\n",
      "Epoch 4/50\n",
      "318431/318431 [==============================] - 6s 18us/step - loss: 0.0062 - acc: 0.9987\n",
      "Epoch 5/50\n",
      "318431/318431 [==============================] - 5s 16us/step - loss: 0.0053 - acc: 0.9990\n",
      "Epoch 6/50\n",
      "318431/318431 [==============================] - 5s 16us/step - loss: 0.0048 - acc: 0.9991\n",
      "Epoch 7/50\n",
      "318431/318431 [==============================] - 5s 15us/step - loss: 0.0053 - acc: 0.9991\n",
      "Epoch 8/50\n",
      "318431/318431 [==============================] - 5s 16us/step - loss: 0.0114 - acc: 0.9989\n",
      "Epoch 9/50\n",
      "318431/318431 [==============================] - 5s 17us/step - loss: 0.0037 - acc: 0.9993\n",
      "Epoch 10/50\n",
      "318431/318431 [==============================] - 5s 17us/step - loss: 0.0035 - acc: 0.9994\n",
      "Epoch 11/50\n",
      "318431/318431 [==============================] - 5s 16us/step - loss: 0.0036 - acc: 0.9994\n",
      "Epoch 12/50\n",
      "318431/318431 [==============================] - 5s 17us/step - loss: 0.0068 - acc: 0.9992\n",
      "Epoch 13/50\n",
      "318431/318431 [==============================] - 5s 17us/step - loss: 0.0032 - acc: 0.9995\n",
      "Epoch 14/50\n",
      "318431/318431 [==============================] - 5s 16us/step - loss: 0.0030 - acc: 0.9995\n",
      "Epoch 15/50\n",
      "318431/318431 [==============================] - 6s 18us/step - loss: 0.0032 - acc: 0.9995\n",
      "Epoch 16/50\n",
      "318431/318431 [==============================] - 5s 17us/step - loss: 0.0028 - acc: 0.9996\n",
      "Epoch 17/50\n",
      "318431/318431 [==============================] - 5s 17us/step - loss: 0.0027 - acc: 0.9996\n",
      "Epoch 18/50\n",
      "318431/318431 [==============================] - 5s 16us/step - loss: 0.0027 - acc: 0.9996\n",
      "Epoch 19/50\n",
      "318431/318431 [==============================] - 5s 17us/step - loss: 0.0027 - acc: 0.9996\n",
      "Epoch 20/50\n",
      "318431/318431 [==============================] - 5s 16us/step - loss: 0.0032 - acc: 0.9996\n",
      "Epoch 21/50\n",
      "318431/318431 [==============================] - 5s 16us/step - loss: 0.0030 - acc: 0.9996\n",
      "Epoch 22/50\n",
      "318431/318431 [==============================] - 5s 15us/step - loss: 0.0026 - acc: 0.9996\n",
      "Epoch 23/50\n",
      "318431/318431 [==============================] - 5s 17us/step - loss: 0.0024 - acc: 0.9997\n",
      "Epoch 24/50\n",
      "318431/318431 [==============================] - 5s 16us/step - loss: 0.0138 - acc: 0.9989\n",
      "Epoch 25/50\n",
      "318431/318431 [==============================] - 7s 21us/step - loss: 0.0064 - acc: 0.9995\n",
      "Epoch 26/50\n",
      "318431/318431 [==============================] - 5s 16us/step - loss: 0.0024 - acc: 0.9997\n",
      "Epoch 27/50\n",
      "318431/318431 [==============================] - 5s 16us/step - loss: 0.0033 - acc: 0.9997\n",
      "Epoch 28/50\n",
      "318431/318431 [==============================] - 5s 16us/step - loss: 0.0074 - acc: 0.9994\n",
      "Epoch 29/50\n",
      "318431/318431 [==============================] - 6s 19us/step - loss: 0.0022 - acc: 0.9997\n",
      "Epoch 30/50\n",
      "318431/318431 [==============================] - 5s 15us/step - loss: 0.0023 - acc: 0.9997\n",
      "Epoch 31/50\n",
      "318431/318431 [==============================] - 5s 16us/step - loss: 0.0026 - acc: 0.9997\n",
      "Epoch 32/50\n",
      "318431/318431 [==============================] - 5s 15us/step - loss: 0.0023 - acc: 0.9997\n",
      "Epoch 33/50\n",
      "318431/318431 [==============================] - 5s 16us/step - loss: 0.0023 - acc: 0.9997\n",
      "Epoch 34/50\n",
      "318431/318431 [==============================] - 5s 16us/step - loss: 0.0024 - acc: 0.9997\n",
      "Epoch 35/50\n",
      "318431/318431 [==============================] - 5s 16us/step - loss: 0.0024 - acc: 0.9997\n",
      "Epoch 36/50\n",
      "318431/318431 [==============================] - 5s 15us/step - loss: 0.0022 - acc: 0.9997\n",
      "Epoch 37/50\n",
      "318431/318431 [==============================] - 5s 15us/step - loss: 0.0023 - acc: 0.9997\n",
      "Epoch 38/50\n",
      "318431/318431 [==============================] - 5s 16us/step - loss: 0.0022 - acc: 0.9997\n",
      "Epoch 39/50\n",
      "318431/318431 [==============================] - 5s 16us/step - loss: 0.0100 - acc: 0.9993\n",
      "Epoch 40/50\n",
      "318431/318431 [==============================] - 5s 16us/step - loss: 0.0024 - acc: 0.9998\n",
      "Epoch 41/50\n",
      "318431/318431 [==============================] - 5s 17us/step - loss: 0.0024 - acc: 0.9997\n",
      "Epoch 42/50\n",
      "318431/318431 [==============================] - 5s 17us/step - loss: 0.0049 - acc: 0.9996\n",
      "Epoch 43/50\n",
      "318431/318431 [==============================] - 5s 17us/step - loss: 0.0044 - acc: 0.9996\n",
      "Epoch 44/50\n",
      "318431/318431 [==============================] - 5s 17us/step - loss: 0.0081 - acc: 0.9994\n",
      "Epoch 45/50\n",
      "318431/318431 [==============================] - 5s 16us/step - loss: 0.0082 - acc: 0.9994\n",
      "Epoch 46/50\n",
      "318431/318431 [==============================] - 5s 16us/step - loss: 0.0022 - acc: 0.9998\n",
      "Epoch 47/50\n",
      "318431/318431 [==============================] - 6s 18us/step - loss: 0.0021 - acc: 0.9997\n",
      "Epoch 48/50\n",
      "318431/318431 [==============================] - 5s 16us/step - loss: 0.0022 - acc: 0.9998\n",
      "Epoch 49/50\n",
      "318431/318431 [==============================] - 5s 16us/step - loss: 0.0090 - acc: 0.9993\n",
      "Epoch 50/50\n",
      "318431/318431 [==============================] - 5s 16us/step - loss: 0.0130 - acc: 0.9991\n"
     ]
    },
    {
     "data": {
      "text/plain": [
       "<keras.callbacks.History at 0x16e2c647588>"
      ]
     },
     "execution_count": 49,
     "metadata": {},
     "output_type": "execute_result"
    }
   ],
   "source": [
    "\n",
    "model2_os.fit(X_train_smote,y_train_smote,epochs = 50 , batch_size = 50)"
   ]
  },
  {
   "cell_type": "code",
   "execution_count": 50,
   "metadata": {},
   "outputs": [
    {
     "name": "stdout",
     "output_type": "stream",
     "text": [
      "\n",
      "=============Model Evaluation Results with Oversampling Data Set ========================\n",
      "\n",
      "===== Logistic Regression =====\n",
      "Precision: 0.977869\n",
      "Recall: 0.929151\n",
      "F1 score: 0.952888\n",
      "ROC AUC: 0.954068\n",
      "\n",
      "===== SVM Classifier =====\n",
      "Precision: 0.977182\n",
      "Recall: 0.931720\n",
      "F1 score: 0.953910\n",
      "ROC AUC: 0.954988\n",
      "\n",
      "===== Naive Baiye Classifier =====\n",
      "Precision: 0.991430\n",
      "Recall: 0.835094\n",
      "F1 score: 0.906571\n",
      "ROC AUC: 0.913939\n",
      "\n",
      "===== RandomForest Classifier =====\n",
      "Precision: 0.999987\n",
      "Recall: 1.000000\n",
      "F1 score: 0.999994\n",
      "ROC AUC: 0.999994\n",
      "\n",
      "===== XGBoost Classifier =====\n",
      "Precision: 0.995311\n",
      "Recall: 0.997569\n",
      "F1 score: 0.996439\n",
      "ROC AUC: 0.996436\n",
      "\n",
      "===== ANN Classifier =====\n",
      "Precision: 0.999723\n",
      "Recall: 0.997587\n",
      "F1 score: 0.998654\n",
      "ROC AUC: 0.998656\n",
      "\n"
     ]
    }
   ],
   "source": [
    "# Evaluate models\n",
    "modlist_os = [('Logistic Regression', LGR_Classifier_os),('SVM Classifier',SVM_Classifier_os),\n",
    "           ('Naive Baiye Classifier', BNB_Classifier_os),('RandomForest Classifier', RDF_Classifier_os),\n",
    "           ('XGBoost Classifier',XGB_Classifier_os),('ANN Classifier',model2_os)] \n",
    "models_os= [j for j in modlist_os]\n",
    "precision_os= [j for j in modlist_os]\n",
    "recall_os= [j for j in modlist_os]\n",
    "f1_os= [j for j in modlist_os]\n",
    "auc_os= [j for j in modlist_os]\n",
    "k=0\n",
    "print()\n",
    "print('=============Model Evaluation Results with Oversampling Data Set ========================'\"\\n\")  \n",
    "for i, v in models_os:\n",
    "    precision_os[k] = metrics.precision_score(y_train_smote, v.predict(X_train_smote).round())\n",
    "    recall_os[k]=metrics.recall_score(y_train_smote, v.predict(X_train_smote).round())\n",
    "    f1_os[k] = metrics.f1_score(y_train_smote, v.predict(X_train_smote).round())\n",
    "    auc_os[k] = metrics.roc_auc_score(y_train_smote, v.predict(X_train_smote).round())\n",
    "    print('===== {} ====='.format(i))\n",
    "    print ('Precision: %f' % precision_os[k])  \n",
    "    print('Recall: %f' % recall_os[k])\n",
    "    print('F1 score: %f' % f1_os[k])\n",
    "    print('ROC AUC: %f' % auc_os[k])\n",
    "    print()\n",
    "    k=k+1"
   ]
  },
  {
   "cell_type": "code",
   "execution_count": 59,
   "metadata": {},
   "outputs": [
    {
     "name": "stdout",
     "output_type": "stream",
     "text": [
      "\n",
      "========================== Model Test Results ========================\n",
      "\n",
      "===== Logistic Regression =====\n",
      "Precision: 0.973913\n",
      "Recall: 0.918033\n",
      "F1 score: 0.945148\n",
      "ROC AUC: 0.945973\n",
      "\n"
     ]
    },
    {
     "data": {
      "image/png": "[encoded data removed]",
      "text/plain": [
       "<Figure size 432x288 with 1 Axes>"
      ]
     },
     "metadata": {},
     "output_type": "display_data"
    },
    {
     "name": "stdout",
     "output_type": "stream",
     "text": [
      "===== SVM Classifier =====\n",
      "Precision: 0.990654\n",
      "Recall: 0.868852\n",
      "F1 score: 0.925764\n",
      "ROC AUC: 0.930078\n",
      "\n"
     ]
    },
    {
     "data": {
      "image/png": "[encoded data removed]",
      "text/plain": [
       "<Figure size 432x288 with 1 Axes>"
      ]
     },
     "metadata": {},
     "output_type": "display_data"
    },
    {
     "name": "stdout",
     "output_type": "stream",
     "text": [
      "===== Naive Baiye Classifier =====\n",
      "Precision: 1.000000\n",
      "Recall: 0.860656\n",
      "F1 score: 0.925110\n",
      "ROC AUC: 0.930328\n",
      "\n"
     ]
    },
    {
     "data": {
      "image/png": "[encoded data removed]",
      "text/plain": [
       "<Figure size 432x288 with 1 Axes>"
      ]
     },
     "metadata": {},
     "output_type": "display_data"
    },
    {
     "name": "stdout",
     "output_type": "stream",
     "text": [
      "===== RandomForest Classifier =====\n",
      "Precision: 0.982301\n",
      "Recall: 0.909836\n",
      "F1 score: 0.944681\n",
      "ROC AUC: 0.946222\n",
      "\n"
     ]
    },
    {
     "data": {
      "image/png": "[encoded data removed]",
      "text/plain": [
       "<Figure size 432x288 with 1 Axes>"
      ]
     },
     "metadata": {},
     "output_type": "display_data"
    },
    {
     "name": "stdout",
     "output_type": "stream",
     "text": [
      "===== XGBoost Classifier =====\n",
      "Precision: 0.982906\n",
      "Recall: 0.942623\n",
      "F1 score: 0.962343\n",
      "ROC AUC: 0.962616\n",
      "\n"
     ]
    },
    {
     "data": {
      "image/png": "[encoded data removed]",
      "text/plain": [
       "<Figure size 432x288 with 1 Axes>"
      ]
     },
     "metadata": {},
     "output_type": "display_data"
    },
    {
     "name": "stdout",
     "output_type": "stream",
     "text": [
      "===== ANN Classifier =====\n",
      "Precision: 0.514768\n",
      "Recall: 1.000000\n",
      "F1 score: 0.679666\n",
      "ROC AUC: 0.500000\n",
      "\n"
     ]
    },
    {
     "data": {
      "image/png": "[encoded data removed]",
      "text/plain": [
       "<Figure size 432x288 with 1 Axes>"
      ]
     },
     "metadata": {},
     "output_type": "display_data"
    }
   ],
   "source": [
    "# Test models\n",
    "\n",
    "classdict = {'normal':0, 'fraudulent':1}\n",
    "print()\n",
    "print('========================== Model Test Results ========================' \"\\n\")   \n",
    "precision_os_t=[j for j in modlist_os]\n",
    "recall_os_t=[j for j in modlist_os]\n",
    "f1_os_t=[j for j in modlist_os]\n",
    "auc_os_t=[j for j in modlist_os]\n",
    "for i, v in models_os:\n",
    "    precision_os_t[k]= metrics.precision_score(y_os_test, v.predict(X_os_test).round())\n",
    "    recall_os_t[k]=metrics.recall_score(y_os_test, v.predict(X_os_test).round())\n",
    "    f1_os_t[k] = metrics.f1_score(y_os_test, v.predict(X_os_test).round())\n",
    "    auc_os_t[k]= metrics.roc_auc_score(y_os_test, v.predict(X_os_test).round())\n",
    "    print('===== {} ====='.format(i))\n",
    "    print ('Precision: %f' % precision_us_t[k])  \n",
    "    print('Recall: %f' % recall_us_t[k])\n",
    "    print('F1 score: %f' % f1_us_t[k])\n",
    "    print('ROC AUC: %f' % auc_us_t[k])\n",
    "    print()\n",
    "    k=k+1\n",
    "    confusion_matrix_us= metrics.confusion_matrix(y_os_test, v.predict(X_os_test).round())\n",
    "    plot_confusion_matrix(confusion_matrix_us, classes = list(classdict.keys()), title='Confusion Matrix Plot', cmap=plt.cm.summer)\n",
    "    "
   ]
  },
  {
   "cell_type": "code",
   "execution_count": 61,
   "metadata": {},
   "outputs": [
    {
     "name": "stdout",
     "output_type": "stream",
     "text": [
      "=============================== Model Test Results with Original Dataset===============================\n",
      "\n"
     ]
    },
    {
     "data": {
      "application/vnd.plotly.v1+json": {
       "config": {
        "plotlyServerURL": "https://plot.ly"
       },
       "data": [
        {
         "cells": {
          "values": [
           [
            "Logistic Regression",
            "SVM Classifier",
            "Naive Baiye Classifier",
            "RandomForest Classifier",
            "XGBoost Classifier",
            "ANN Classifier"
           ],
           [
            0.8864,
            0.8673,
            0.837,
            0.9474,
            0.9417,
            0.8829
           ],
           [
            0.6142,
            0.7717,
            0.6063,
            0.7087,
            0.7638,
            0.7717
           ],
           [
            0.7256,
            0.8167,
            0.7032,
            0.8108,
            0.8435,
            0.8235
           ],
           [
            0.807,
            0.8857,
            0.803,
            0.8543,
            0.8818,
            0.8857
           ]
          ]
         },
         "header": {
          "values": [
           "Model",
           "precision",
           "recall",
           "F1 score",
           "ROC AUC"
          ]
         },
         "type": "table"
        }
       ],
       "layout": {
        "template": {
         "data": {
          "bar": [
           {
            "error_x": {
             "color": "#2a3f5f"
            },
            "error_y": {
             "color": "#2a3f5f"
            },
            "marker": {
             "line": {
              "color": "#E5ECF6",
              "width": 0.5
             }
            },
            "type": "bar"
           }
          ],
          "barpolar": [
           {
            "marker": {
             "line": {
              "color": "#E5ECF6",
              "width": 0.5
             }
            },
            "type": "barpolar"
           }
          ],
          "carpet": [
           {
            "aaxis": {
             "endlinecolor": "#2a3f5f",
             "gridcolor": "white",
             "linecolor": "white",
             "minorgridcolor": "white",
             "startlinecolor": "#2a3f5f"
            },
            "baxis": {
             "endlinecolor": "#2a3f5f",
             "gridcolor": "white",
             "linecolor": "white",
             "minorgridcolor": "white",
             "startlinecolor": "#2a3f5f"
            },
            "type": "carpet"
           }
          ],
          "choropleth": [
           {
            "colorbar": {
             "outlinewidth": 0,
             "ticks": ""
            },
            "type": "choropleth"
           }
          ],
          "contour": [
           {
            "colorbar": {
             "outlinewidth": 0,
             "ticks": ""
            },
            "colorscale": [
             [
              0,
              "#0d0887"
             ],
             [
              0.1111111111111111,
              "#46039f"
             ],
             [
              0.2222222222222222,
              "#7201a8"
             ],
             [
              0.3333333333333333,
              "#9c179e"
             ],
             [
              0.4444444444444444,
              "#bd3786"
             ],
             [
              0.5555555555555556,
              "#d8576b"
             ],
             [
              0.6666666666666666,
              "#ed7953"
             ],
             [
              0.7777777777777778,
              "#fb9f3a"
             ],
             [
              0.8888888888888888,
              "#fdca26"
             ],
             [
              1,
              "#f0f921"
             ]
            ],
            "type": "contour"
           }
          ],
          "contourcarpet": [
           {
            "colorbar": {
             "outlinewidth": 0,
             "ticks": ""
            },
            "type": "contourcarpet"
           }
          ],
          "heatmap": [
           {
            "colorbar": {
             "outlinewidth": 0,
             "ticks": ""
            },
            "colorscale": [
             [
              0,
              "#0d0887"
             ],
             [
              0.1111111111111111,
              "#46039f"
             ],
             [
              0.2222222222222222,
              "#7201a8"
             ],
             [
              0.3333333333333333,
              "#9c179e"
             ],
             [
              0.4444444444444444,
              "#bd3786"
             ],
             [
              0.5555555555555556,
              "#d8576b"
             ],
             [
              0.6666666666666666,
              "#ed7953"
             ],
             [
              0.7777777777777778,
              "#fb9f3a"
             ],
             [
              0.8888888888888888,
              "#fdca26"
             ],
             [
              1,
              "#f0f921"
             ]
            ],
            "type": "heatmap"
           }
          ],
          "heatmapgl": [
           {
            "colorbar": {
             "outlinewidth": 0,
             "ticks": ""
            },
            "colorscale": [
             [
              0,
              "#0d0887"
             ],
             [
              0.1111111111111111,
              "#46039f"
             ],
             [
              0.2222222222222222,
              "#7201a8"
             ],
             [
              0.3333333333333333,
              "#9c179e"
             ],
             [
              0.4444444444444444,
              "#bd3786"
             ],
             [
              0.5555555555555556,
              "#d8576b"
             ],
             [
              0.6666666666666666,
              "#ed7953"
             ],
             [
              0.7777777777777778,
              "#fb9f3a"
             ],
             [
              0.8888888888888888,
              "#fdca26"
             ],
             [
              1,
              "#f0f921"
             ]
            ],
            "type": "heatmapgl"
           }
          ],
          "histogram": [
           {
            "marker": {
             "colorbar": {
              "outlinewidth": 0,
              "ticks": ""
             }
            },
            "type": "histogram"
           }
          ],
          "histogram2d": [
           {
            "colorbar": {
             "outlinewidth": 0,
             "ticks": ""
            },
            "colorscale": [
             [
              0,
              "#0d0887"
             ],
             [
              0.1111111111111111,
              "#46039f"
             ],
             [
              0.2222222222222222,
              "#7201a8"
             ],
             [
              0.3333333333333333,
              "#9c179e"
             ],
             [
              0.4444444444444444,
              "#bd3786"
             ],
             [
              0.5555555555555556,
              "#d8576b"
             ],
             [
              0.6666666666666666,
              "#ed7953"
             ],
             [
              0.7777777777777778,
              "#fb9f3a"
             ],
             [
              0.8888888888888888,
              "#fdca26"
             ],
             [
              1,
              "#f0f921"
             ]
            ],
            "type": "histogram2d"
           }
          ],
          "histogram2dcontour": [
           {
            "colorbar": {
             "outlinewidth": 0,
             "ticks": ""
            },
            "colorscale": [
             [
              0,
              "#0d0887"
             ],
             [
              0.1111111111111111,
              "#46039f"
             ],
             [
              0.2222222222222222,
              "#7201a8"
             ],
             [
              0.3333333333333333,
              "#9c179e"
             ],
             [
              0.4444444444444444,
              "#bd3786"
             ],
             [
              0.5555555555555556,
              "#d8576b"
             ],
             [
              0.6666666666666666,
              "#ed7953"
             ],
             [
              0.7777777777777778,
              "#fb9f3a"
             ],
             [
              0.8888888888888888,
              "#fdca26"
             ],
             [
              1,
              "#f0f921"
             ]
            ],
            "type": "histogram2dcontour"
           }
          ],
          "mesh3d": [
           {
            "colorbar": {
             "outlinewidth": 0,
             "ticks": ""
            },
            "type": "mesh3d"
           }
          ],
          "parcoords": [
           {
            "line": {
             "colorbar": {
              "outlinewidth": 0,
              "ticks": ""
             }
            },
            "type": "parcoords"
           }
          ],
          "scatter": [
           {
            "marker": {
             "colorbar": {
              "outlinewidth": 0,
              "ticks": ""
             }
            },
            "type": "scatter"
           }
          ],
          "scatter3d": [
           {
            "line": {
             "colorbar": {
              "outlinewidth": 0,
              "ticks": ""
             }
            },
            "marker": {
             "colorbar": {
              "outlinewidth": 0,
              "ticks": ""
             }
            },
            "type": "scatter3d"
           }
          ],
          "scattercarpet": [
           {
            "marker": {
             "colorbar": {
              "outlinewidth": 0,
              "ticks": ""
             }
            },
            "type": "scattercarpet"
           }
          ],
          "scattergeo": [
           {
            "marker": {
             "colorbar": {
              "outlinewidth": 0,
              "ticks": ""
             }
            },
            "type": "scattergeo"
           }
          ],
          "scattergl": [
           {
            "marker": {
             "colorbar": {
              "outlinewidth": 0,
              "ticks": ""
             }
            },
            "type": "scattergl"
           }
          ],
          "scattermapbox": [
           {
            "marker": {
             "colorbar": {
              "outlinewidth": 0,
              "ticks": ""
             }
            },
            "type": "scattermapbox"
           }
          ],
          "scatterpolar": [
           {
            "marker": {
             "colorbar": {
              "outlinewidth": 0,
              "ticks": ""
             }
            },
            "type": "scatterpolar"
           }
          ],
          "scatterpolargl": [
           {
            "marker": {
             "colorbar": {
              "outlinewidth": 0,
              "ticks": ""
             }
            },
            "type": "scatterpolargl"
           }
          ],
          "scatterternary": [
           {
            "marker": {
             "colorbar": {
              "outlinewidth": 0,
              "ticks": ""
             }
            },
            "type": "scatterternary"
           }
          ],
          "surface": [
           {
            "colorbar": {
             "outlinewidth": 0,
             "ticks": ""
            },
            "colorscale": [
             [
              0,
              "#0d0887"
             ],
             [
              0.1111111111111111,
              "#46039f"
             ],
             [
              0.2222222222222222,
              "#7201a8"
             ],
             [
              0.3333333333333333,
              "#9c179e"
             ],
             [
              0.4444444444444444,
              "#bd3786"
             ],
             [
              0.5555555555555556,
              "#d8576b"
             ],
             [
              0.6666666666666666,
              "#ed7953"
             ],
             [
              0.7777777777777778,
              "#fb9f3a"
             ],
             [
              0.8888888888888888,
              "#fdca26"
             ],
             [
              1,
              "#f0f921"
             ]
            ],
            "type": "surface"
           }
          ],
          "table": [
           {
            "cells": {
             "fill": {
              "color": "#EBF0F8"
             },
             "line": {
              "color": "white"
             }
            },
            "header": {
             "fill": {
              "color": "#C8D4E3"
             },
             "line": {
              "color": "white"
             }
            },
            "type": "table"
           }
          ]
         },
         "layout": {
          "annotationdefaults": {
           "arrowcolor": "#2a3f5f",
           "arrowhead": 0,
           "arrowwidth": 1
          },
          "colorscale": {
           "diverging": [
            [
             0,
             "#8e0152"
            ],
            [
             0.1,
             "#c51b7d"
            ],
            [
             0.2,
             "#de77ae"
            ],
            [
             0.3,
             "#f1b6da"
            ],
            [
             0.4,
             "#fde0ef"
            ],
            [
             0.5,
             "#f7f7f7"
            ],
            [
             0.6,
             "#e6f5d0"
            ],
            [
             0.7,
             "#b8e186"
            ],
            [
             0.8,
             "#7fbc41"
            ],
            [
             0.9,
             "#4d9221"
            ],
            [
             1,
             "#276419"
            ]
           ],
           "sequential": [
            [
             0,
             "#0d0887"
            ],
            [
             0.1111111111111111,
             "#46039f"
            ],
            [
             0.2222222222222222,
             "#7201a8"
            ],
            [
             0.3333333333333333,
             "#9c179e"
            ],
            [
             0.4444444444444444,
             "#bd3786"
            ],
            [
             0.5555555555555556,
             "#d8576b"
            ],
            [
             0.6666666666666666,
             "#ed7953"
            ],
            [
             0.7777777777777778,
             "#fb9f3a"
            ],
            [
             0.8888888888888888,
             "#fdca26"
            ],
            [
             1,
             "#f0f921"
            ]
           ],
           "sequentialminus": [
            [
             0,
             "#0d0887"
            ],
            [
             0.1111111111111111,
             "#46039f"
            ],
            [
             0.2222222222222222,
             "#7201a8"
            ],
            [
             0.3333333333333333,
             "#9c179e"
            ],
            [
             0.4444444444444444,
             "#bd3786"
            ],
            [
             0.5555555555555556,
             "#d8576b"
            ],
            [
             0.6666666666666666,
             "#ed7953"
            ],
            [
             0.7777777777777778,
             "#fb9f3a"
            ],
            [
             0.8888888888888888,
             "#fdca26"
            ],
            [
             1,
             "#f0f921"
            ]
           ]
          },
          "colorway": [
           "#636efa",
           "#EF553B",
           "#00cc96",
           "#ab63fa",
           "#FFA15A",
           "#19d3f3",
           "#FF6692",
           "#B6E880",
           "#FF97FF",
           "#FECB52"
          ],
          "font": {
           "color": "#2a3f5f"
          },
          "geo": {
           "bgcolor": "white",
           "lakecolor": "white",
           "landcolor": "#E5ECF6",
           "showlakes": true,
           "showland": true,
           "subunitcolor": "white"
          },
          "hoverlabel": {
           "align": "left"
          },
          "hovermode": "closest",
          "mapbox": {
           "style": "light"
          },
          "paper_bgcolor": "white",
          "plot_bgcolor": "#E5ECF6",
          "polar": {
           "angularaxis": {
            "gridcolor": "white",
            "linecolor": "white",
            "ticks": ""
           },
           "bgcolor": "#E5ECF6",
           "radialaxis": {
            "gridcolor": "white",
            "linecolor": "white",
            "ticks": ""
           }
          },
          "scene": {
           "xaxis": {
            "backgroundcolor": "#E5ECF6",
            "gridcolor": "white",
            "gridwidth": 2,
            "linecolor": "white",
            "showbackground": true,
            "ticks": "",
            "zerolinecolor": "white"
           },
           "yaxis": {
            "backgroundcolor": "#E5ECF6",
            "gridcolor": "white",
            "gridwidth": 2,
            "linecolor": "white",
            "showbackground": true,
            "ticks": "",
            "zerolinecolor": "white"
           },
           "zaxis": {
            "backgroundcolor": "#E5ECF6",
            "gridcolor": "white",
            "gridwidth": 2,
            "linecolor": "white",
            "showbackground": true,
            "ticks": "",
            "zerolinecolor": "white"
           }
          },
          "shapedefaults": {
           "line": {
            "color": "#2a3f5f"
           }
          },
          "ternary": {
           "aaxis": {
            "gridcolor": "white",
            "linecolor": "white",
            "ticks": ""
           },
           "baxis": {
            "gridcolor": "white",
            "linecolor": "white",
            "ticks": ""
           },
           "bgcolor": "#E5ECF6",
           "caxis": {
            "gridcolor": "white",
            "linecolor": "white",
            "ticks": ""
           }
          },
          "title": {
           "x": 0.05
          },
          "xaxis": {
           "automargin": true,
           "gridcolor": "white",
           "linecolor": "white",
           "ticks": "",
           "zerolinecolor": "white",
           "zerolinewidth": 2
          },
          "yaxis": {
           "automargin": true,
           "gridcolor": "white",
           "linecolor": "white",
           "ticks": "",
           "zerolinecolor": "white",
           "zerolinewidth": 2
          }
         }
        }
       }
      },
      "text/html": [
       "<div>\n",
       "        \n",
       "        \n",
       "            <div id=\"4d0fd29c-6eaa-4602-bee6-448b5abef4ac\" class=\"plotly-graph-div\" style=\"height:525px; width:100%;\"></div>\n",
       "            <script type=\"text/javascript\">\n",
       "                require([\"plotly\"], function(Plotly) {\n",
       "                    window.PLOTLYENV=window.PLOTLYENV || {};\n",
       "                    \n",
       "                if (document.getElementById(\"4d0fd29c-6eaa-4602-bee6-448b5abef4ac\")) {\n",
       "                    Plotly.newPlot(\n",
       "                        '4d0fd29c-6eaa-4602-bee6-448b5abef4ac',\n",
       "                        [{\"cells\": {\"values\": [[\"Logistic Regression\", \"SVM Classifier\", \"Naive Baiye Classifier\", \"RandomForest Classifier\", \"XGBoost Classifier\", \"ANN Classifier\"], [0.8864, 0.8673, 0.837, 0.9474, 0.9417, 0.8829], [0.6142, 0.7717, 0.6063, 0.7087, 0.7638, 0.7717], [0.7256, 0.8167, 0.7032, 0.8108, 0.8435, 0.8235], [0.807, 0.8857, 0.803, 0.8543, 0.8818, 0.8857]]}, \"header\": {\"values\": [\"Model\", \"precision\", \"recall\", \"F1 score\", \"ROC AUC\"]}, \"type\": \"table\"}],\n",
       "                        {\"template\": {\"data\": {\"bar\": [{\"error_x\": {\"color\": \"#2a3f5f\"}, \"error_y\": {\"color\": \"#2a3f5f\"}, \"marker\": {\"line\": {\"color\": \"#E5ECF6\", \"width\": 0.5}}, \"type\": \"bar\"}], \"barpolar\": [{\"marker\": {\"line\": {\"color\": \"#E5ECF6\", \"width\": 0.5}}, \"type\": \"barpolar\"}], \"carpet\": [{\"aaxis\": {\"endlinecolor\": \"#2a3f5f\", \"gridcolor\": \"white\", \"linecolor\": \"white\", \"minorgridcolor\": \"white\", \"startlinecolor\": \"#2a3f5f\"}, \"baxis\": {\"endlinecolor\": \"#2a3f5f\", \"gridcolor\": \"white\", \"linecolor\": \"white\", \"minorgridcolor\": \"white\", \"startlinecolor\": \"#2a3f5f\"}, \"type\": \"carpet\"}], \"choropleth\": [{\"colorbar\": {\"outlinewidth\": 0, \"ticks\": \"\"}, \"type\": \"choropleth\"}], \"contour\": [{\"colorbar\": {\"outlinewidth\": 0, \"ticks\": \"\"}, \"colorscale\": [[0.0, \"#0d0887\"], [0.1111111111111111, \"#46039f\"], [0.2222222222222222, \"#7201a8\"], [0.3333333333333333, \"#9c179e\"], [0.4444444444444444, \"#bd3786\"], [0.5555555555555556, \"#d8576b\"], [0.6666666666666666, \"#ed7953\"], [0.7777777777777778, \"#fb9f3a\"], [0.8888888888888888, \"#fdca26\"], [1.0, \"#f0f921\"]], \"type\": \"contour\"}], \"contourcarpet\": [{\"colorbar\": {\"outlinewidth\": 0, \"ticks\": \"\"}, \"type\": \"contourcarpet\"}], \"heatmap\": [{\"colorbar\": {\"outlinewidth\": 0, \"ticks\": \"\"}, \"colorscale\": [[0.0, \"#0d0887\"], [0.1111111111111111, \"#46039f\"], [0.2222222222222222, \"#7201a8\"], [0.3333333333333333, \"#9c179e\"], [0.4444444444444444, \"#bd3786\"], [0.5555555555555556, \"#d8576b\"], [0.6666666666666666, \"#ed7953\"], [0.7777777777777778, \"#fb9f3a\"], [0.8888888888888888, \"#fdca26\"], [1.0, \"#f0f921\"]], \"type\": \"heatmap\"}], \"heatmapgl\": [{\"colorbar\": {\"outlinewidth\": 0, \"ticks\": \"\"}, \"colorscale\": [[0.0, \"#0d0887\"], [0.1111111111111111, \"#46039f\"], [0.2222222222222222, \"#7201a8\"], [0.3333333333333333, \"#9c179e\"], [0.4444444444444444, \"#bd3786\"], [0.5555555555555556, \"#d8576b\"], [0.6666666666666666, \"#ed7953\"], [0.7777777777777778, \"#fb9f3a\"], [0.8888888888888888, \"#fdca26\"], [1.0, \"#f0f921\"]], \"type\": \"heatmapgl\"}], \"histogram\": [{\"marker\": {\"colorbar\": {\"outlinewidth\": 0, \"ticks\": \"\"}}, \"type\": \"histogram\"}], \"histogram2d\": [{\"colorbar\": {\"outlinewidth\": 0, \"ticks\": \"\"}, \"colorscale\": [[0.0, \"#0d0887\"], [0.1111111111111111, \"#46039f\"], [0.2222222222222222, \"#7201a8\"], [0.3333333333333333, \"#9c179e\"], [0.4444444444444444, \"#bd3786\"], [0.5555555555555556, \"#d8576b\"], [0.6666666666666666, \"#ed7953\"], [0.7777777777777778, \"#fb9f3a\"], [0.8888888888888888, \"#fdca26\"], [1.0, \"#f0f921\"]], \"type\": \"histogram2d\"}], \"histogram2dcontour\": [{\"colorbar\": {\"outlinewidth\": 0, \"ticks\": \"\"}, \"colorscale\": [[0.0, \"#0d0887\"], [0.1111111111111111, \"#46039f\"], [0.2222222222222222, \"#7201a8\"], [0.3333333333333333, \"#9c179e\"], [0.4444444444444444, \"#bd3786\"], [0.5555555555555556, \"#d8576b\"], [0.6666666666666666, \"#ed7953\"], [0.7777777777777778, \"#fb9f3a\"], [0.8888888888888888, \"#fdca26\"], [1.0, \"#f0f921\"]], \"type\": \"histogram2dcontour\"}], \"mesh3d\": [{\"colorbar\": {\"outlinewidth\": 0, \"ticks\": \"\"}, \"type\": \"mesh3d\"}], \"parcoords\": [{\"line\": {\"colorbar\": {\"outlinewidth\": 0, \"ticks\": \"\"}}, \"type\": \"parcoords\"}], \"scatter\": [{\"marker\": {\"colorbar\": {\"outlinewidth\": 0, \"ticks\": \"\"}}, \"type\": \"scatter\"}], \"scatter3d\": [{\"line\": {\"colorbar\": {\"outlinewidth\": 0, \"ticks\": \"\"}}, \"marker\": {\"colorbar\": {\"outlinewidth\": 0, \"ticks\": \"\"}}, \"type\": \"scatter3d\"}], \"scattercarpet\": [{\"marker\": {\"colorbar\": {\"outlinewidth\": 0, \"ticks\": \"\"}}, \"type\": \"scattercarpet\"}], \"scattergeo\": [{\"marker\": {\"colorbar\": {\"outlinewidth\": 0, \"ticks\": \"\"}}, \"type\": \"scattergeo\"}], \"scattergl\": [{\"marker\": {\"colorbar\": {\"outlinewidth\": 0, \"ticks\": \"\"}}, \"type\": \"scattergl\"}], \"scattermapbox\": [{\"marker\": {\"colorbar\": {\"outlinewidth\": 0, \"ticks\": \"\"}}, \"type\": \"scattermapbox\"}], \"scatterpolar\": [{\"marker\": {\"colorbar\": {\"outlinewidth\": 0, \"ticks\": \"\"}}, \"type\": \"scatterpolar\"}], \"scatterpolargl\": [{\"marker\": {\"colorbar\": {\"outlinewidth\": 0, \"ticks\": \"\"}}, \"type\": \"scatterpolargl\"}], \"scatterternary\": [{\"marker\": {\"colorbar\": {\"outlinewidth\": 0, \"ticks\": \"\"}}, \"type\": \"scatterternary\"}], \"surface\": [{\"colorbar\": {\"outlinewidth\": 0, \"ticks\": \"\"}, \"colorscale\": [[0.0, \"#0d0887\"], [0.1111111111111111, \"#46039f\"], [0.2222222222222222, \"#7201a8\"], [0.3333333333333333, \"#9c179e\"], [0.4444444444444444, \"#bd3786\"], [0.5555555555555556, \"#d8576b\"], [0.6666666666666666, \"#ed7953\"], [0.7777777777777778, \"#fb9f3a\"], [0.8888888888888888, \"#fdca26\"], [1.0, \"#f0f921\"]], \"type\": \"surface\"}], \"table\": [{\"cells\": {\"fill\": {\"color\": \"#EBF0F8\"}, \"line\": {\"color\": \"white\"}}, \"header\": {\"fill\": {\"color\": \"#C8D4E3\"}, \"line\": {\"color\": \"white\"}}, \"type\": \"table\"}]}, \"layout\": {\"annotationdefaults\": {\"arrowcolor\": \"#2a3f5f\", \"arrowhead\": 0, \"arrowwidth\": 1}, \"colorscale\": {\"diverging\": [[0, \"#8e0152\"], [0.1, \"#c51b7d\"], [0.2, \"#de77ae\"], [0.3, \"#f1b6da\"], [0.4, \"#fde0ef\"], [0.5, \"#f7f7f7\"], [0.6, \"#e6f5d0\"], [0.7, \"#b8e186\"], [0.8, \"#7fbc41\"], [0.9, \"#4d9221\"], [1, \"#276419\"]], \"sequential\": [[0.0, \"#0d0887\"], [0.1111111111111111, \"#46039f\"], [0.2222222222222222, \"#7201a8\"], [0.3333333333333333, \"#9c179e\"], [0.4444444444444444, \"#bd3786\"], [0.5555555555555556, \"#d8576b\"], [0.6666666666666666, \"#ed7953\"], [0.7777777777777778, \"#fb9f3a\"], [0.8888888888888888, \"#fdca26\"], [1.0, \"#f0f921\"]], \"sequentialminus\": [[0.0, \"#0d0887\"], [0.1111111111111111, \"#46039f\"], [0.2222222222222222, \"#7201a8\"], [0.3333333333333333, \"#9c179e\"], [0.4444444444444444, \"#bd3786\"], [0.5555555555555556, \"#d8576b\"], [0.6666666666666666, \"#ed7953\"], [0.7777777777777778, \"#fb9f3a\"], [0.8888888888888888, \"#fdca26\"], [1.0, \"#f0f921\"]]}, \"colorway\": [\"#636efa\", \"#EF553B\", \"#00cc96\", \"#ab63fa\", \"#FFA15A\", \"#19d3f3\", \"#FF6692\", \"#B6E880\", \"#FF97FF\", \"#FECB52\"], \"font\": {\"color\": \"#2a3f5f\"}, \"geo\": {\"bgcolor\": \"white\", \"lakecolor\": \"white\", \"landcolor\": \"#E5ECF6\", \"showlakes\": true, \"showland\": true, \"subunitcolor\": \"white\"}, \"hoverlabel\": {\"align\": \"left\"}, \"hovermode\": \"closest\", \"mapbox\": {\"style\": \"light\"}, \"paper_bgcolor\": \"white\", \"plot_bgcolor\": \"#E5ECF6\", \"polar\": {\"angularaxis\": {\"gridcolor\": \"white\", \"linecolor\": \"white\", \"ticks\": \"\"}, \"bgcolor\": \"#E5ECF6\", \"radialaxis\": {\"gridcolor\": \"white\", \"linecolor\": \"white\", \"ticks\": \"\"}}, \"scene\": {\"xaxis\": {\"backgroundcolor\": \"#E5ECF6\", \"gridcolor\": \"white\", \"gridwidth\": 2, \"linecolor\": \"white\", \"showbackground\": true, \"ticks\": \"\", \"zerolinecolor\": \"white\"}, \"yaxis\": {\"backgroundcolor\": \"#E5ECF6\", \"gridcolor\": \"white\", \"gridwidth\": 2, \"linecolor\": \"white\", \"showbackground\": true, \"ticks\": \"\", \"zerolinecolor\": \"white\"}, \"zaxis\": {\"backgroundcolor\": \"#E5ECF6\", \"gridcolor\": \"white\", \"gridwidth\": 2, \"linecolor\": \"white\", \"showbackground\": true, \"ticks\": \"\", \"zerolinecolor\": \"white\"}}, \"shapedefaults\": {\"line\": {\"color\": \"#2a3f5f\"}}, \"ternary\": {\"aaxis\": {\"gridcolor\": \"white\", \"linecolor\": \"white\", \"ticks\": \"\"}, \"baxis\": {\"gridcolor\": \"white\", \"linecolor\": \"white\", \"ticks\": \"\"}, \"bgcolor\": \"#E5ECF6\", \"caxis\": {\"gridcolor\": \"white\", \"linecolor\": \"white\", \"ticks\": \"\"}}, \"title\": {\"x\": 0.05}, \"xaxis\": {\"automargin\": true, \"gridcolor\": \"white\", \"linecolor\": \"white\", \"ticks\": \"\", \"zerolinecolor\": \"white\", \"zerolinewidth\": 2}, \"yaxis\": {\"automargin\": true, \"gridcolor\": \"white\", \"linecolor\": \"white\", \"ticks\": \"\", \"zerolinecolor\": \"white\", \"zerolinewidth\": 2}}}},\n",
       "                        {\"responsive\": true}\n",
       "                    ).then(function(){\n",
       "                            \n",
       "var gd = document.getElementById('4d0fd29c-6eaa-4602-bee6-448b5abef4ac');\n",
       "var x = new MutationObserver(function (mutations, observer) {{\n",
       "        var display = window.getComputedStyle(gd).display;\n",
       "        if (!display || display === 'none') {{\n",
       "            console.log([gd, 'removed!']);\n",
       "            Plotly.purge(gd);\n",
       "            observer.disconnect();\n",
       "        }}\n",
       "}});\n",
       "\n",
       "// Listen for the removal of the full notebook cells\n",
       "var notebookContainer = gd.closest('#notebook-container');\n",
       "if (notebookContainer) {{\n",
       "    x.observe(notebookContainer, {childList: true});\n",
       "}}\n",
       "\n",
       "// Listen for the clearing of the current output cell\n",
       "var outputEl = gd.closest('.output');\n",
       "if (outputEl) {{\n",
       "    x.observe(outputEl, {childList: true});\n",
       "}}\n",
       "\n",
       "                        })\n",
       "                };\n",
       "                });\n",
       "            </script>\n",
       "        </div>"
      ]
     },
     "metadata": {},
     "output_type": "display_data"
    },
    {
     "name": "stdout",
     "output_type": "stream",
     "text": [
      "=============================== Model Test Results with Undersampling Dataset===============================\n",
      "\n"
     ]
    },
    {
     "data": {
      "application/vnd.plotly.v1+json": {
       "config": {
        "plotlyServerURL": "https://plot.ly"
       },
       "data": [
        {
         "cells": {
          "values": [
           [
            "Logistic Regression",
            "SVM Classifier",
            "Naive Baiye Classifier",
            "RandomForest Classifier",
            "XGBoost Classifier",
            "ANN Classifier"
           ],
           [
            0.9739,
            0.9907,
            1,
            0.9823,
            0.9829,
            0.5148
           ],
           [
            0.918,
            0.8689,
            0.8607,
            0.9098,
            0.9426,
            1
           ],
           [
            0.9451,
            0.9258,
            0.9251,
            0.9447,
            0.9623,
            0.6797
           ],
           [
            0.946,
            0.9301,
            0.9303,
            0.9462,
            0.9626,
            0.5
           ]
          ]
         },
         "header": {
          "values": [
           "Model",
           "precision",
           "recall",
           "F1 score",
           "ROC AUC"
          ]
         },
         "type": "table"
        }
       ],
       "layout": {
        "template": {
         "data": {
          "bar": [
           {
            "error_x": {
             "color": "#2a3f5f"
            },
            "error_y": {
             "color": "#2a3f5f"
            },
            "marker": {
             "line": {
              "color": "#E5ECF6",
              "width": 0.5
             }
            },
            "type": "bar"
           }
          ],
          "barpolar": [
           {
            "marker": {
             "line": {
              "color": "#E5ECF6",
              "width": 0.5
             }
            },
            "type": "barpolar"
           }
          ],
          "carpet": [
           {
            "aaxis": {
             "endlinecolor": "#2a3f5f",
             "gridcolor": "white",
             "linecolor": "white",
             "minorgridcolor": "white",
             "startlinecolor": "#2a3f5f"
            },
            "baxis": {
             "endlinecolor": "#2a3f5f",
             "gridcolor": "white",
             "linecolor": "white",
             "minorgridcolor": "white",
             "startlinecolor": "#2a3f5f"
            },
            "type": "carpet"
           }
          ],
          "choropleth": [
           {
            "colorbar": {
             "outlinewidth": 0,
             "ticks": ""
            },
            "type": "choropleth"
           }
          ],
          "contour": [
           {
            "colorbar": {
             "outlinewidth": 0,
             "ticks": ""
            },
            "colorscale": [
             [
              0,
              "#0d0887"
             ],
             [
              0.1111111111111111,
              "#46039f"
             ],
             [
              0.2222222222222222,
              "#7201a8"
             ],
             [
              0.3333333333333333,
              "#9c179e"
             ],
             [
              0.4444444444444444,
              "#bd3786"
             ],
             [
              0.5555555555555556,
              "#d8576b"
             ],
             [
              0.6666666666666666,
              "#ed7953"
             ],
             [
              0.7777777777777778,
              "#fb9f3a"
             ],
             [
              0.8888888888888888,
              "#fdca26"
             ],
             [
              1,
              "#f0f921"
             ]
            ],
            "type": "contour"
           }
          ],
          "contourcarpet": [
           {
            "colorbar": {
             "outlinewidth": 0,
             "ticks": ""
            },
            "type": "contourcarpet"
           }
          ],
          "heatmap": [
           {
            "colorbar": {
             "outlinewidth": 0,
             "ticks": ""
            },
            "colorscale": [
             [
              0,
              "#0d0887"
             ],
             [
              0.1111111111111111,
              "#46039f"
             ],
             [
              0.2222222222222222,
              "#7201a8"
             ],
             [
              0.3333333333333333,
              "#9c179e"
             ],
             [
              0.4444444444444444,
              "#bd3786"
             ],
             [
              0.5555555555555556,
              "#d8576b"
             ],
             [
              0.6666666666666666,
              "#ed7953"
             ],
             [
              0.7777777777777778,
              "#fb9f3a"
             ],
             [
              0.8888888888888888,
              "#fdca26"
             ],
             [
              1,
              "#f0f921"
             ]
            ],
            "type": "heatmap"
           }
          ],
          "heatmapgl": [
           {
            "colorbar": {
             "outlinewidth": 0,
             "ticks": ""
            },
            "colorscale": [
             [
              0,
              "#0d0887"
             ],
             [
              0.1111111111111111,
              "#46039f"
             ],
             [
              0.2222222222222222,
              "#7201a8"
             ],
             [
              0.3333333333333333,
              "#9c179e"
             ],
             [
              0.4444444444444444,
              "#bd3786"
             ],
             [
              0.5555555555555556,
              "#d8576b"
             ],
             [
              0.6666666666666666,
              "#ed7953"
             ],
             [
              0.7777777777777778,
              "#fb9f3a"
             ],
             [
              0.8888888888888888,
              "#fdca26"
             ],
             [
              1,
              "#f0f921"
             ]
            ],
            "type": "heatmapgl"
           }
          ],
          "histogram": [
           {
            "marker": {
             "colorbar": {
              "outlinewidth": 0,
              "ticks": ""
             }
            },
            "type": "histogram"
           }
          ],
          "histogram2d": [
           {
            "colorbar": {
             "outlinewidth": 0,
             "ticks": ""
            },
            "colorscale": [
             [
              0,
              "#0d0887"
             ],
             [
              0.1111111111111111,
              "#46039f"
             ],
             [
              0.2222222222222222,
              "#7201a8"
             ],
             [
              0.3333333333333333,
              "#9c179e"
             ],
             [
              0.4444444444444444,
              "#bd3786"
             ],
             [
              0.5555555555555556,
              "#d8576b"
             ],
             [
              0.6666666666666666,
              "#ed7953"
             ],
             [
              0.7777777777777778,
              "#fb9f3a"
             ],
             [
              0.8888888888888888,
              "#fdca26"
             ],
             [
              1,
              "#f0f921"
             ]
            ],
            "type": "histogram2d"
           }
          ],
          "histogram2dcontour": [
           {
            "colorbar": {
             "outlinewidth": 0,
             "ticks": ""
            },
            "colorscale": [
             [
              0,
              "#0d0887"
             ],
             [
              0.1111111111111111,
              "#46039f"
             ],
             [
              0.2222222222222222,
              "#7201a8"
             ],
             [
              0.3333333333333333,
              "#9c179e"
             ],
             [
              0.4444444444444444,
              "#bd3786"
             ],
             [
              0.5555555555555556,
              "#d8576b"
             ],
             [
              0.6666666666666666,
              "#ed7953"
             ],
             [
              0.7777777777777778,
              "#fb9f3a"
             ],
             [
              0.8888888888888888,
              "#fdca26"
             ],
             [
              1,
              "#f0f921"
             ]
            ],
            "type": "histogram2dcontour"
           }
          ],
          "mesh3d": [
           {
            "colorbar": {
             "outlinewidth": 0,
             "ticks": ""
            },
            "type": "mesh3d"
           }
          ],
          "parcoords": [
           {
            "line": {
             "colorbar": {
              "outlinewidth": 0,
              "ticks": ""
             }
            },
            "type": "parcoords"
           }
          ],
          "scatter": [
           {
            "marker": {
             "colorbar": {
              "outlinewidth": 0,
              "ticks": ""
             }
            },
            "type": "scatter"
           }
          ],
          "scatter3d": [
           {
            "line": {
             "colorbar": {
              "outlinewidth": 0,
              "ticks": ""
             }
            },
            "marker": {
             "colorbar": {
              "outlinewidth": 0,
              "ticks": ""
             }
            },
            "type": "scatter3d"
           }
          ],
          "scattercarpet": [
           {
            "marker": {
             "colorbar": {
              "outlinewidth": 0,
              "ticks": ""
             }
            },
            "type": "scattercarpet"
           }
          ],
          "scattergeo": [
           {
            "marker": {
             "colorbar": {
              "outlinewidth": 0,
              "ticks": ""
             }
            },
            "type": "scattergeo"
           }
          ],
          "scattergl": [
           {
            "marker": {
             "colorbar": {
              "outlinewidth": 0,
              "ticks": ""
             }
            },
            "type": "scattergl"
           }
          ],
          "scattermapbox": [
           {
            "marker": {
             "colorbar": {
              "outlinewidth": 0,
              "ticks": ""
             }
            },
            "type": "scattermapbox"
           }
          ],
          "scatterpolar": [
           {
            "marker": {
             "colorbar": {
              "outlinewidth": 0,
              "ticks": ""
             }
            },
            "type": "scatterpolar"
           }
          ],
          "scatterpolargl": [
           {
            "marker": {
             "colorbar": {
              "outlinewidth": 0,
              "ticks": ""
             }
            },
            "type": "scatterpolargl"
           }
          ],
          "scatterternary": [
           {
            "marker": {
             "colorbar": {
              "outlinewidth": 0,
              "ticks": ""
             }
            },
            "type": "scatterternary"
           }
          ],
          "surface": [
           {
            "colorbar": {
             "outlinewidth": 0,
             "ticks": ""
            },
            "colorscale": [
             [
              0,
              "#0d0887"
             ],
             [
              0.1111111111111111,
              "#46039f"
             ],
             [
              0.2222222222222222,
              "#7201a8"
             ],
             [
              0.3333333333333333,
              "#9c179e"
             ],
             [
              0.4444444444444444,
              "#bd3786"
             ],
             [
              0.5555555555555556,
              "#d8576b"
             ],
             [
              0.6666666666666666,
              "#ed7953"
             ],
             [
              0.7777777777777778,
              "#fb9f3a"
             ],
             [
              0.8888888888888888,
              "#fdca26"
             ],
             [
              1,
              "#f0f921"
             ]
            ],
            "type": "surface"
           }
          ],
          "table": [
           {
            "cells": {
             "fill": {
              "color": "#EBF0F8"
             },
             "line": {
              "color": "white"
             }
            },
            "header": {
             "fill": {
              "color": "#C8D4E3"
             },
             "line": {
              "color": "white"
             }
            },
            "type": "table"
           }
          ]
         },
         "layout": {
          "annotationdefaults": {
           "arrowcolor": "#2a3f5f",
           "arrowhead": 0,
           "arrowwidth": 1
          },
          "colorscale": {
           "diverging": [
            [
             0,
             "#8e0152"
            ],
            [
             0.1,
             "#c51b7d"
            ],
            [
             0.2,
             "#de77ae"
            ],
            [
             0.3,
             "#f1b6da"
            ],
            [
             0.4,
             "#fde0ef"
            ],
            [
             0.5,
             "#f7f7f7"
            ],
            [
             0.6,
             "#e6f5d0"
            ],
            [
             0.7,
             "#b8e186"
            ],
            [
             0.8,
             "#7fbc41"
            ],
            [
             0.9,
             "#4d9221"
            ],
            [
             1,
             "#276419"
            ]
           ],
           "sequential": [
            [
             0,
             "#0d0887"
            ],
            [
             0.1111111111111111,
             "#46039f"
            ],
            [
             0.2222222222222222,
             "#7201a8"
            ],
            [
             0.3333333333333333,
             "#9c179e"
            ],
            [
             0.4444444444444444,
             "#bd3786"
            ],
            [
             0.5555555555555556,
             "#d8576b"
            ],
            [
             0.6666666666666666,
             "#ed7953"
            ],
            [
             0.7777777777777778,
             "#fb9f3a"
            ],
            [
             0.8888888888888888,
             "#fdca26"
            ],
            [
             1,
             "#f0f921"
            ]
           ],
           "sequentialminus": [
            [
             0,
             "#0d0887"
            ],
            [
             0.1111111111111111,
             "#46039f"
            ],
            [
             0.2222222222222222,
             "#7201a8"
            ],
            [
             0.3333333333333333,
             "#9c179e"
            ],
            [
             0.4444444444444444,
             "#bd3786"
            ],
            [
             0.5555555555555556,
             "#d8576b"
            ],
            [
             0.6666666666666666,
             "#ed7953"
            ],
            [
             0.7777777777777778,
             "#fb9f3a"
            ],
            [
             0.8888888888888888,
             "#fdca26"
            ],
            [
             1,
             "#f0f921"
            ]
           ]
          },
          "colorway": [
           "#636efa",
           "#EF553B",
           "#00cc96",
           "#ab63fa",
           "#FFA15A",
           "#19d3f3",
           "#FF6692",
           "#B6E880",
           "#FF97FF",
           "#FECB52"
          ],
          "font": {
           "color": "#2a3f5f"
          },
          "geo": {
           "bgcolor": "white",
           "lakecolor": "white",
           "landcolor": "#E5ECF6",
           "showlakes": true,
           "showland": true,
           "subunitcolor": "white"
          },
          "hoverlabel": {
           "align": "left"
          },
          "hovermode": "closest",
          "mapbox": {
           "style": "light"
          },
          "paper_bgcolor": "white",
          "plot_bgcolor": "#E5ECF6",
          "polar": {
           "angularaxis": {
            "gridcolor": "white",
            "linecolor": "white",
            "ticks": ""
           },
           "bgcolor": "#E5ECF6",
           "radialaxis": {
            "gridcolor": "white",
            "linecolor": "white",
            "ticks": ""
           }
          },
          "scene": {
           "xaxis": {
            "backgroundcolor": "#E5ECF6",
            "gridcolor": "white",
            "gridwidth": 2,
            "linecolor": "white",
            "showbackground": true,
            "ticks": "",
            "zerolinecolor": "white"
           },
           "yaxis": {
            "backgroundcolor": "#E5ECF6",
            "gridcolor": "white",
            "gridwidth": 2,
            "linecolor": "white",
            "showbackground": true,
            "ticks": "",
            "zerolinecolor": "white"
           },
           "zaxis": {
            "backgroundcolor": "#E5ECF6",
            "gridcolor": "white",
            "gridwidth": 2,
            "linecolor": "white",
            "showbackground": true,
            "ticks": "",
            "zerolinecolor": "white"
           }
          },
          "shapedefaults": {
           "line": {
            "color": "#2a3f5f"
           }
          },
          "ternary": {
           "aaxis": {
            "gridcolor": "white",
            "linecolor": "white",
            "ticks": ""
           },
           "baxis": {
            "gridcolor": "white",
            "linecolor": "white",
            "ticks": ""
           },
           "bgcolor": "#E5ECF6",
           "caxis": {
            "gridcolor": "white",
            "linecolor": "white",
            "ticks": ""
           }
          },
          "title": {
           "x": 0.05
          },
          "xaxis": {
           "automargin": true,
           "gridcolor": "white",
           "linecolor": "white",
           "ticks": "",
           "zerolinecolor": "white",
           "zerolinewidth": 2
          },
          "yaxis": {
           "automargin": true,
           "gridcolor": "white",
           "linecolor": "white",
           "ticks": "",
           "zerolinecolor": "white",
           "zerolinewidth": 2
          }
         }
        }
       }
      },
      "text/html": [
       "<div>\n",
       "        \n",
       "        \n",
       "            <div id=\"81b086ad-b0c0-46ab-99ff-6c2501c34150\" class=\"plotly-graph-div\" style=\"height:525px; width:100%;\"></div>\n",
       "            <script type=\"text/javascript\">\n",
       "                require([\"plotly\"], function(Plotly) {\n",
       "                    window.PLOTLYENV=window.PLOTLYENV || {};\n",
       "                    \n",
       "                if (document.getElementById(\"81b086ad-b0c0-46ab-99ff-6c2501c34150\")) {\n",
       "                    Plotly.newPlot(\n",
       "                        '81b086ad-b0c0-46ab-99ff-6c2501c34150',\n",
       "                        [{\"cells\": {\"values\": [[\"Logistic Regression\", \"SVM Classifier\", \"Naive Baiye Classifier\", \"RandomForest Classifier\", \"XGBoost Classifier\", \"ANN Classifier\"], [0.9739, 0.9907, 1.0, 0.9823, 0.9829, 0.5148], [0.918, 0.8689, 0.8607, 0.9098, 0.9426, 1.0], [0.9451, 0.9258, 0.9251, 0.9447, 0.9623, 0.6797], [0.946, 0.9301, 0.9303, 0.9462, 0.9626, 0.5]]}, \"header\": {\"values\": [\"Model\", \"precision\", \"recall\", \"F1 score\", \"ROC AUC\"]}, \"type\": \"table\"}],\n",
       "                        {\"template\": {\"data\": {\"bar\": [{\"error_x\": {\"color\": \"#2a3f5f\"}, \"error_y\": {\"color\": \"#2a3f5f\"}, \"marker\": {\"line\": {\"color\": \"#E5ECF6\", \"width\": 0.5}}, \"type\": \"bar\"}], \"barpolar\": [{\"marker\": {\"line\": {\"color\": \"#E5ECF6\", \"width\": 0.5}}, \"type\": \"barpolar\"}], \"carpet\": [{\"aaxis\": {\"endlinecolor\": \"#2a3f5f\", \"gridcolor\": \"white\", \"linecolor\": \"white\", \"minorgridcolor\": \"white\", \"startlinecolor\": \"#2a3f5f\"}, \"baxis\": {\"endlinecolor\": \"#2a3f5f\", \"gridcolor\": \"white\", \"linecolor\": \"white\", \"minorgridcolor\": \"white\", \"startlinecolor\": \"#2a3f5f\"}, \"type\": \"carpet\"}], \"choropleth\": [{\"colorbar\": {\"outlinewidth\": 0, \"ticks\": \"\"}, \"type\": \"choropleth\"}], \"contour\": [{\"colorbar\": {\"outlinewidth\": 0, \"ticks\": \"\"}, \"colorscale\": [[0.0, \"#0d0887\"], [0.1111111111111111, \"#46039f\"], [0.2222222222222222, \"#7201a8\"], [0.3333333333333333, \"#9c179e\"], [0.4444444444444444, \"#bd3786\"], [0.5555555555555556, \"#d8576b\"], [0.6666666666666666, \"#ed7953\"], [0.7777777777777778, \"#fb9f3a\"], [0.8888888888888888, \"#fdca26\"], [1.0, \"#f0f921\"]], \"type\": \"contour\"}], \"contourcarpet\": [{\"colorbar\": {\"outlinewidth\": 0, \"ticks\": \"\"}, \"type\": \"contourcarpet\"}], \"heatmap\": [{\"colorbar\": {\"outlinewidth\": 0, \"ticks\": \"\"}, \"colorscale\": [[0.0, \"#0d0887\"], [0.1111111111111111, \"#46039f\"], [0.2222222222222222, \"#7201a8\"], [0.3333333333333333, \"#9c179e\"], [0.4444444444444444, \"#bd3786\"], [0.5555555555555556, \"#d8576b\"], [0.6666666666666666, \"#ed7953\"], [0.7777777777777778, \"#fb9f3a\"], [0.8888888888888888, \"#fdca26\"], [1.0, \"#f0f921\"]], \"type\": \"heatmap\"}], \"heatmapgl\": [{\"colorbar\": {\"outlinewidth\": 0, \"ticks\": \"\"}, \"colorscale\": [[0.0, \"#0d0887\"], [0.1111111111111111, \"#46039f\"], [0.2222222222222222, \"#7201a8\"], [0.3333333333333333, \"#9c179e\"], [0.4444444444444444, \"#bd3786\"], [0.5555555555555556, \"#d8576b\"], [0.6666666666666666, \"#ed7953\"], [0.7777777777777778, \"#fb9f3a\"], [0.8888888888888888, \"#fdca26\"], [1.0, \"#f0f921\"]], \"type\": \"heatmapgl\"}], \"histogram\": [{\"marker\": {\"colorbar\": {\"outlinewidth\": 0, \"ticks\": \"\"}}, \"type\": \"histogram\"}], \"histogram2d\": [{\"colorbar\": {\"outlinewidth\": 0, \"ticks\": \"\"}, \"colorscale\": [[0.0, \"#0d0887\"], [0.1111111111111111, \"#46039f\"], [0.2222222222222222, \"#7201a8\"], [0.3333333333333333, \"#9c179e\"], [0.4444444444444444, \"#bd3786\"], [0.5555555555555556, \"#d8576b\"], [0.6666666666666666, \"#ed7953\"], [0.7777777777777778, \"#fb9f3a\"], [0.8888888888888888, \"#fdca26\"], [1.0, \"#f0f921\"]], \"type\": \"histogram2d\"}], \"histogram2dcontour\": [{\"colorbar\": {\"outlinewidth\": 0, \"ticks\": \"\"}, \"colorscale\": [[0.0, \"#0d0887\"], [0.1111111111111111, \"#46039f\"], [0.2222222222222222, \"#7201a8\"], [0.3333333333333333, \"#9c179e\"], [0.4444444444444444, \"#bd3786\"], [0.5555555555555556, \"#d8576b\"], [0.6666666666666666, \"#ed7953\"], [0.7777777777777778, \"#fb9f3a\"], [0.8888888888888888, \"#fdca26\"], [1.0, \"#f0f921\"]], \"type\": \"histogram2dcontour\"}], \"mesh3d\": [{\"colorbar\": {\"outlinewidth\": 0, \"ticks\": \"\"}, \"type\": \"mesh3d\"}], \"parcoords\": [{\"line\": {\"colorbar\": {\"outlinewidth\": 0, \"ticks\": \"\"}}, \"type\": \"parcoords\"}], \"scatter\": [{\"marker\": {\"colorbar\": {\"outlinewidth\": 0, \"ticks\": \"\"}}, \"type\": \"scatter\"}], \"scatter3d\": [{\"line\": {\"colorbar\": {\"outlinewidth\": 0, \"ticks\": \"\"}}, \"marker\": {\"colorbar\": {\"outlinewidth\": 0, \"ticks\": \"\"}}, \"type\": \"scatter3d\"}], \"scattercarpet\": [{\"marker\": {\"colorbar\": {\"outlinewidth\": 0, \"ticks\": \"\"}}, \"type\": \"scattercarpet\"}], \"scattergeo\": [{\"marker\": {\"colorbar\": {\"outlinewidth\": 0, \"ticks\": \"\"}}, \"type\": \"scattergeo\"}], \"scattergl\": [{\"marker\": {\"colorbar\": {\"outlinewidth\": 0, \"ticks\": \"\"}}, \"type\": \"scattergl\"}], \"scattermapbox\": [{\"marker\": {\"colorbar\": {\"outlinewidth\": 0, \"ticks\": \"\"}}, \"type\": \"scattermapbox\"}], \"scatterpolar\": [{\"marker\": {\"colorbar\": {\"outlinewidth\": 0, \"ticks\": \"\"}}, \"type\": \"scatterpolar\"}], \"scatterpolargl\": [{\"marker\": {\"colorbar\": {\"outlinewidth\": 0, \"ticks\": \"\"}}, \"type\": \"scatterpolargl\"}], \"scatterternary\": [{\"marker\": {\"colorbar\": {\"outlinewidth\": 0, \"ticks\": \"\"}}, \"type\": \"scatterternary\"}], \"surface\": [{\"colorbar\": {\"outlinewidth\": 0, \"ticks\": \"\"}, \"colorscale\": [[0.0, \"#0d0887\"], [0.1111111111111111, \"#46039f\"], [0.2222222222222222, \"#7201a8\"], [0.3333333333333333, \"#9c179e\"], [0.4444444444444444, \"#bd3786\"], [0.5555555555555556, \"#d8576b\"], [0.6666666666666666, \"#ed7953\"], [0.7777777777777778, \"#fb9f3a\"], [0.8888888888888888, \"#fdca26\"], [1.0, \"#f0f921\"]], \"type\": \"surface\"}], \"table\": [{\"cells\": {\"fill\": {\"color\": \"#EBF0F8\"}, \"line\": {\"color\": \"white\"}}, \"header\": {\"fill\": {\"color\": \"#C8D4E3\"}, \"line\": {\"color\": \"white\"}}, \"type\": \"table\"}]}, \"layout\": {\"annotationdefaults\": {\"arrowcolor\": \"#2a3f5f\", \"arrowhead\": 0, \"arrowwidth\": 1}, \"colorscale\": {\"diverging\": [[0, \"#8e0152\"], [0.1, \"#c51b7d\"], [0.2, \"#de77ae\"], [0.3, \"#f1b6da\"], [0.4, \"#fde0ef\"], [0.5, \"#f7f7f7\"], [0.6, \"#e6f5d0\"], [0.7, \"#b8e186\"], [0.8, \"#7fbc41\"], [0.9, \"#4d9221\"], [1, \"#276419\"]], \"sequential\": [[0.0, \"#0d0887\"], [0.1111111111111111, \"#46039f\"], [0.2222222222222222, \"#7201a8\"], [0.3333333333333333, \"#9c179e\"], [0.4444444444444444, \"#bd3786\"], [0.5555555555555556, \"#d8576b\"], [0.6666666666666666, \"#ed7953\"], [0.7777777777777778, \"#fb9f3a\"], [0.8888888888888888, \"#fdca26\"], [1.0, \"#f0f921\"]], \"sequentialminus\": [[0.0, \"#0d0887\"], [0.1111111111111111, \"#46039f\"], [0.2222222222222222, \"#7201a8\"], [0.3333333333333333, \"#9c179e\"], [0.4444444444444444, \"#bd3786\"], [0.5555555555555556, \"#d8576b\"], [0.6666666666666666, \"#ed7953\"], [0.7777777777777778, \"#fb9f3a\"], [0.8888888888888888, \"#fdca26\"], [1.0, \"#f0f921\"]]}, \"colorway\": [\"#636efa\", \"#EF553B\", \"#00cc96\", \"#ab63fa\", \"#FFA15A\", \"#19d3f3\", \"#FF6692\", \"#B6E880\", \"#FF97FF\", \"#FECB52\"], \"font\": {\"color\": \"#2a3f5f\"}, \"geo\": {\"bgcolor\": \"white\", \"lakecolor\": \"white\", \"landcolor\": \"#E5ECF6\", \"showlakes\": true, \"showland\": true, \"subunitcolor\": \"white\"}, \"hoverlabel\": {\"align\": \"left\"}, \"hovermode\": \"closest\", \"mapbox\": {\"style\": \"light\"}, \"paper_bgcolor\": \"white\", \"plot_bgcolor\": \"#E5ECF6\", \"polar\": {\"angularaxis\": {\"gridcolor\": \"white\", \"linecolor\": \"white\", \"ticks\": \"\"}, \"bgcolor\": \"#E5ECF6\", \"radialaxis\": {\"gridcolor\": \"white\", \"linecolor\": \"white\", \"ticks\": \"\"}}, \"scene\": {\"xaxis\": {\"backgroundcolor\": \"#E5ECF6\", \"gridcolor\": \"white\", \"gridwidth\": 2, \"linecolor\": \"white\", \"showbackground\": true, \"ticks\": \"\", \"zerolinecolor\": \"white\"}, \"yaxis\": {\"backgroundcolor\": \"#E5ECF6\", \"gridcolor\": \"white\", \"gridwidth\": 2, \"linecolor\": \"white\", \"showbackground\": true, \"ticks\": \"\", \"zerolinecolor\": \"white\"}, \"zaxis\": {\"backgroundcolor\": \"#E5ECF6\", \"gridcolor\": \"white\", \"gridwidth\": 2, \"linecolor\": \"white\", \"showbackground\": true, \"ticks\": \"\", \"zerolinecolor\": \"white\"}}, \"shapedefaults\": {\"line\": {\"color\": \"#2a3f5f\"}}, \"ternary\": {\"aaxis\": {\"gridcolor\": \"white\", \"linecolor\": \"white\", \"ticks\": \"\"}, \"baxis\": {\"gridcolor\": \"white\", \"linecolor\": \"white\", \"ticks\": \"\"}, \"bgcolor\": \"#E5ECF6\", \"caxis\": {\"gridcolor\": \"white\", \"linecolor\": \"white\", \"ticks\": \"\"}}, \"title\": {\"x\": 0.05}, \"xaxis\": {\"automargin\": true, \"gridcolor\": \"white\", \"linecolor\": \"white\", \"ticks\": \"\", \"zerolinecolor\": \"white\", \"zerolinewidth\": 2}, \"yaxis\": {\"automargin\": true, \"gridcolor\": \"white\", \"linecolor\": \"white\", \"ticks\": \"\", \"zerolinecolor\": \"white\", \"zerolinewidth\": 2}}}},\n",
       "                        {\"responsive\": true}\n",
       "                    ).then(function(){\n",
       "                            \n",
       "var gd = document.getElementById('81b086ad-b0c0-46ab-99ff-6c2501c34150');\n",
       "var x = new MutationObserver(function (mutations, observer) {{\n",
       "        var display = window.getComputedStyle(gd).display;\n",
       "        if (!display || display === 'none') {{\n",
       "            console.log([gd, 'removed!']);\n",
       "            Plotly.purge(gd);\n",
       "            observer.disconnect();\n",
       "        }}\n",
       "}});\n",
       "\n",
       "// Listen for the removal of the full notebook cells\n",
       "var notebookContainer = gd.closest('#notebook-container');\n",
       "if (notebookContainer) {{\n",
       "    x.observe(notebookContainer, {childList: true});\n",
       "}}\n",
       "\n",
       "// Listen for the clearing of the current output cell\n",
       "var outputEl = gd.closest('.output');\n",
       "if (outputEl) {{\n",
       "    x.observe(outputEl, {childList: true});\n",
       "}}\n",
       "\n",
       "                        })\n",
       "                };\n",
       "                });\n",
       "            </script>\n",
       "        </div>"
      ]
     },
     "metadata": {},
     "output_type": "display_data"
    },
    {
     "name": "stdout",
     "output_type": "stream",
     "text": [
      "=============================== Model Test Results with Oversampling Dataset===============================\n",
      "\n"
     ]
    },
    {
     "data": {
      "application/vnd.plotly.v1+json": {
       "config": {
        "plotlyServerURL": "https://plot.ly"
       },
       "data": [
        {
         "cells": {
          "values": [
           [
            "Logistic Regression",
            "SVM Classifier",
            "Naive Baiye Classifier",
            "RandomForest Classifier",
            "XGBoost Classifier",
            "ANN Classifier"
           ],
           [
            0.9767,
            0.9768,
            0.992,
            0.9999,
            0.9951,
            0.9995
           ],
           [
            0.9293,
            0.932,
            0.8339,
            1,
            0.9975,
            0.9978
           ],
           [
            0.9524,
            0.9539,
            0.9061,
            0.9999,
            0.9963,
            0.9987
           ],
           [
            0.9536,
            0.9549,
            0.9136,
            0.9999,
            0.9963,
            0.9987
           ]
          ]
         },
         "header": {
          "values": [
           "Model",
           "precision",
           "recall",
           "F1 score",
           "ROC AUC"
          ]
         },
         "type": "table"
        }
       ],
       "layout": {
        "template": {
         "data": {
          "bar": [
           {
            "error_x": {
             "color": "#2a3f5f"
            },
            "error_y": {
             "color": "#2a3f5f"
            },
            "marker": {
             "line": {
              "color": "#E5ECF6",
              "width": 0.5
             }
            },
            "type": "bar"
           }
          ],
          "barpolar": [
           {
            "marker": {
             "line": {
              "color": "#E5ECF6",
              "width": 0.5
             }
            },
            "type": "barpolar"
           }
          ],
          "carpet": [
           {
            "aaxis": {
             "endlinecolor": "#2a3f5f",
             "gridcolor": "white",
             "linecolor": "white",
             "minorgridcolor": "white",
             "startlinecolor": "#2a3f5f"
            },
            "baxis": {
             "endlinecolor": "#2a3f5f",
             "gridcolor": "white",
             "linecolor": "white",
             "minorgridcolor": "white",
             "startlinecolor": "#2a3f5f"
            },
            "type": "carpet"
           }
          ],
          "choropleth": [
           {
            "colorbar": {
             "outlinewidth": 0,
             "ticks": ""
            },
            "type": "choropleth"
           }
          ],
          "contour": [
           {
            "colorbar": {
             "outlinewidth": 0,
             "ticks": ""
            },
            "colorscale": [
             [
              0,
              "#0d0887"
             ],
             [
              0.1111111111111111,
              "#46039f"
             ],
             [
              0.2222222222222222,
              "#7201a8"
             ],
             [
              0.3333333333333333,
              "#9c179e"
             ],
             [
              0.4444444444444444,
              "#bd3786"
             ],
             [
              0.5555555555555556,
              "#d8576b"
             ],
             [
              0.6666666666666666,
              "#ed7953"
             ],
             [
              0.7777777777777778,
              "#fb9f3a"
             ],
             [
              0.8888888888888888,
              "#fdca26"
             ],
             [
              1,
              "#f0f921"
             ]
            ],
            "type": "contour"
           }
          ],
          "contourcarpet": [
           {
            "colorbar": {
             "outlinewidth": 0,
             "ticks": ""
            },
            "type": "contourcarpet"
           }
          ],
          "heatmap": [
           {
            "colorbar": {
             "outlinewidth": 0,
             "ticks": ""
            },
            "colorscale": [
             [
              0,
              "#0d0887"
             ],
             [
              0.1111111111111111,
              "#46039f"
             ],
             [
              0.2222222222222222,
              "#7201a8"
             ],
             [
              0.3333333333333333,
              "#9c179e"
             ],
             [
              0.4444444444444444,
              "#bd3786"
             ],
             [
              0.5555555555555556,
              "#d8576b"
             ],
             [
              0.6666666666666666,
              "#ed7953"
             ],
             [
              0.7777777777777778,
              "#fb9f3a"
             ],
             [
              0.8888888888888888,
              "#fdca26"
             ],
             [
              1,
              "#f0f921"
             ]
            ],
            "type": "heatmap"
           }
          ],
          "heatmapgl": [
           {
            "colorbar": {
             "outlinewidth": 0,
             "ticks": ""
            },
            "colorscale": [
             [
              0,
              "#0d0887"
             ],
             [
              0.1111111111111111,
              "#46039f"
             ],
             [
              0.2222222222222222,
              "#7201a8"
             ],
             [
              0.3333333333333333,
              "#9c179e"
             ],
             [
              0.4444444444444444,
              "#bd3786"
             ],
             [
              0.5555555555555556,
              "#d8576b"
             ],
             [
              0.6666666666666666,
              "#ed7953"
             ],
             [
              0.7777777777777778,
              "#fb9f3a"
             ],
             [
              0.8888888888888888,
              "#fdca26"
             ],
             [
              1,
              "#f0f921"
             ]
            ],
            "type": "heatmapgl"
           }
          ],
          "histogram": [
           {
            "marker": {
             "colorbar": {
              "outlinewidth": 0,
              "ticks": ""
             }
            },
            "type": "histogram"
           }
          ],
          "histogram2d": [
           {
            "colorbar": {
             "outlinewidth": 0,
             "ticks": ""
            },
            "colorscale": [
             [
              0,
              "#0d0887"
             ],
             [
              0.1111111111111111,
              "#46039f"
             ],
             [
              0.2222222222222222,
              "#7201a8"
             ],
             [
              0.3333333333333333,
              "#9c179e"
             ],
             [
              0.4444444444444444,
              "#bd3786"
             ],
             [
              0.5555555555555556,
              "#d8576b"
             ],
             [
              0.6666666666666666,
              "#ed7953"
             ],
             [
              0.7777777777777778,
              "#fb9f3a"
             ],
             [
              0.8888888888888888,
              "#fdca26"
             ],
             [
              1,
              "#f0f921"
             ]
            ],
            "type": "histogram2d"
           }
          ],
          "histogram2dcontour": [
           {
            "colorbar": {
             "outlinewidth": 0,
             "ticks": ""
            },
            "colorscale": [
             [
              0,
              "#0d0887"
             ],
             [
              0.1111111111111111,
              "#46039f"
             ],
             [
              0.2222222222222222,
              "#7201a8"
             ],
             [
              0.3333333333333333,
              "#9c179e"
             ],
             [
              0.4444444444444444,
              "#bd3786"
             ],
             [
              0.5555555555555556,
              "#d8576b"
             ],
             [
              0.6666666666666666,
              "#ed7953"
             ],
             [
              0.7777777777777778,
              "#fb9f3a"
             ],
             [
              0.8888888888888888,
              "#fdca26"
             ],
             [
              1,
              "#f0f921"
             ]
            ],
            "type": "histogram2dcontour"
           }
          ],
          "mesh3d": [
           {
            "colorbar": {
             "outlinewidth": 0,
             "ticks": ""
            },
            "type": "mesh3d"
           }
          ],
          "parcoords": [
           {
            "line": {
             "colorbar": {
              "outlinewidth": 0,
              "ticks": ""
             }
            },
            "type": "parcoords"
           }
          ],
          "scatter": [
           {
            "marker": {
             "colorbar": {
              "outlinewidth": 0,
              "ticks": ""
             }
            },
            "type": "scatter"
           }
          ],
          "scatter3d": [
           {
            "line": {
             "colorbar": {
              "outlinewidth": 0,
              "ticks": ""
             }
            },
            "marker": {
             "colorbar": {
              "outlinewidth": 0,
              "ticks": ""
             }
            },
            "type": "scatter3d"
           }
          ],
          "scattercarpet": [
           {
            "marker": {
             "colorbar": {
              "outlinewidth": 0,
              "ticks": ""
             }
            },
            "type": "scattercarpet"
           }
          ],
          "scattergeo": [
           {
            "marker": {
             "colorbar": {
              "outlinewidth": 0,
              "ticks": ""
             }
            },
            "type": "scattergeo"
           }
          ],
          "scattergl": [
           {
            "marker": {
             "colorbar": {
              "outlinewidth": 0,
              "ticks": ""
             }
            },
            "type": "scattergl"
           }
          ],
          "scattermapbox": [
           {
            "marker": {
             "colorbar": {
              "outlinewidth": 0,
              "ticks": ""
             }
            },
            "type": "scattermapbox"
           }
          ],
          "scatterpolar": [
           {
            "marker": {
             "colorbar": {
              "outlinewidth": 0,
              "ticks": ""
             }
            },
            "type": "scatterpolar"
           }
          ],
          "scatterpolargl": [
           {
            "marker": {
             "colorbar": {
              "outlinewidth": 0,
              "ticks": ""
             }
            },
            "type": "scatterpolargl"
           }
          ],
          "scatterternary": [
           {
            "marker": {
             "colorbar": {
              "outlinewidth": 0,
              "ticks": ""
             }
            },
            "type": "scatterternary"
           }
          ],
          "surface": [
           {
            "colorbar": {
             "outlinewidth": 0,
             "ticks": ""
            },
            "colorscale": [
             [
              0,
              "#0d0887"
             ],
             [
              0.1111111111111111,
              "#46039f"
             ],
             [
              0.2222222222222222,
              "#7201a8"
             ],
             [
              0.3333333333333333,
              "#9c179e"
             ],
             [
              0.4444444444444444,
              "#bd3786"
             ],
             [
              0.5555555555555556,
              "#d8576b"
             ],
             [
              0.6666666666666666,
              "#ed7953"
             ],
             [
              0.7777777777777778,
              "#fb9f3a"
             ],
             [
              0.8888888888888888,
              "#fdca26"
             ],
             [
              1,
              "#f0f921"
             ]
            ],
            "type": "surface"
           }
          ],
          "table": [
           {
            "cells": {
             "fill": {
              "color": "#EBF0F8"
             },
             "line": {
              "color": "white"
             }
            },
            "header": {
             "fill": {
              "color": "#C8D4E3"
             },
             "line": {
              "color": "white"
             }
            },
            "type": "table"
           }
          ]
         },
         "layout": {
          "annotationdefaults": {
           "arrowcolor": "#2a3f5f",
           "arrowhead": 0,
           "arrowwidth": 1
          },
          "colorscale": {
           "diverging": [
            [
             0,
             "#8e0152"
            ],
            [
             0.1,
             "#c51b7d"
            ],
            [
             0.2,
             "#de77ae"
            ],
            [
             0.3,
             "#f1b6da"
            ],
            [
             0.4,
             "#fde0ef"
            ],
            [
             0.5,
             "#f7f7f7"
            ],
            [
             0.6,
             "#e6f5d0"
            ],
            [
             0.7,
             "#b8e186"
            ],
            [
             0.8,
             "#7fbc41"
            ],
            [
             0.9,
             "#4d9221"
            ],
            [
             1,
             "#276419"
            ]
           ],
           "sequential": [
            [
             0,
             "#0d0887"
            ],
            [
             0.1111111111111111,
             "#46039f"
            ],
            [
             0.2222222222222222,
             "#7201a8"
            ],
            [
             0.3333333333333333,
             "#9c179e"
            ],
            [
             0.4444444444444444,
             "#bd3786"
            ],
            [
             0.5555555555555556,
             "#d8576b"
            ],
            [
             0.6666666666666666,
             "#ed7953"
            ],
            [
             0.7777777777777778,
             "#fb9f3a"
            ],
            [
             0.8888888888888888,
             "#fdca26"
            ],
            [
             1,
             "#f0f921"
            ]
           ],
           "sequentialminus": [
            [
             0,
             "#0d0887"
            ],
            [
             0.1111111111111111,
             "#46039f"
            ],
            [
             0.2222222222222222,
             "#7201a8"
            ],
            [
             0.3333333333333333,
             "#9c179e"
            ],
            [
             0.4444444444444444,
             "#bd3786"
            ],
            [
             0.5555555555555556,
             "#d8576b"
            ],
            [
             0.6666666666666666,
             "#ed7953"
            ],
            [
             0.7777777777777778,
             "#fb9f3a"
            ],
            [
             0.8888888888888888,
             "#fdca26"
            ],
            [
             1,
             "#f0f921"
            ]
           ]
          },
          "colorway": [
           "#636efa",
           "#EF553B",
           "#00cc96",
           "#ab63fa",
           "#FFA15A",
           "#19d3f3",
           "#FF6692",
           "#B6E880",
           "#FF97FF",
           "#FECB52"
          ],
          "font": {
           "color": "#2a3f5f"
          },
          "geo": {
           "bgcolor": "white",
           "lakecolor": "white",
           "landcolor": "#E5ECF6",
           "showlakes": true,
           "showland": true,
           "subunitcolor": "white"
          },
          "hoverlabel": {
           "align": "left"
          },
          "hovermode": "closest",
          "mapbox": {
           "style": "light"
          },
          "paper_bgcolor": "white",
          "plot_bgcolor": "#E5ECF6",
          "polar": {
           "angularaxis": {
            "gridcolor": "white",
            "linecolor": "white",
            "ticks": ""
           },
           "bgcolor": "#E5ECF6",
           "radialaxis": {
            "gridcolor": "white",
            "linecolor": "white",
            "ticks": ""
           }
          },
          "scene": {
           "xaxis": {
            "backgroundcolor": "#E5ECF6",
            "gridcolor": "white",
            "gridwidth": 2,
            "linecolor": "white",
            "showbackground": true,
            "ticks": "",
            "zerolinecolor": "white"
           },
           "yaxis": {
            "backgroundcolor": "#E5ECF6",
            "gridcolor": "white",
            "gridwidth": 2,
            "linecolor": "white",
            "showbackground": true,
            "ticks": "",
            "zerolinecolor": "white"
           },
           "zaxis": {
            "backgroundcolor": "#E5ECF6",
            "gridcolor": "white",
            "gridwidth": 2,
            "linecolor": "white",
            "showbackground": true,
            "ticks": "",
            "zerolinecolor": "white"
           }
          },
          "shapedefaults": {
           "line": {
            "color": "#2a3f5f"
           }
          },
          "ternary": {
           "aaxis": {
            "gridcolor": "white",
            "linecolor": "white",
            "ticks": ""
           },
           "baxis": {
            "gridcolor": "white",
            "linecolor": "white",
            "ticks": ""
           },
           "bgcolor": "#E5ECF6",
           "caxis": {
            "gridcolor": "white",
            "linecolor": "white",
            "ticks": ""
           }
          },
          "title": {
           "x": 0.05
          },
          "xaxis": {
           "automargin": true,
           "gridcolor": "white",
           "linecolor": "white",
           "ticks": "",
           "zerolinecolor": "white",
           "zerolinewidth": 2
          },
          "yaxis": {
           "automargin": true,
           "gridcolor": "white",
           "linecolor": "white",
           "ticks": "",
           "zerolinecolor": "white",
           "zerolinewidth": 2
          }
         }
        }
       }
      },
      "text/html": [
       "<div>\n",
       "        \n",
       "        \n",
       "            <div id=\"94a1d9d8-9146-4c0e-94c5-beb4f3ec4431\" class=\"plotly-graph-div\" style=\"height:525px; width:100%;\"></div>\n",
       "            <script type=\"text/javascript\">\n",
       "                require([\"plotly\"], function(Plotly) {\n",
       "                    window.PLOTLYENV=window.PLOTLYENV || {};\n",
       "                    \n",
       "                if (document.getElementById(\"94a1d9d8-9146-4c0e-94c5-beb4f3ec4431\")) {\n",
       "                    Plotly.newPlot(\n",
       "                        '94a1d9d8-9146-4c0e-94c5-beb4f3ec4431',\n",
       "                        [{\"cells\": {\"values\": [[\"Logistic Regression\", \"SVM Classifier\", \"Naive Baiye Classifier\", \"RandomForest Classifier\", \"XGBoost Classifier\", \"ANN Classifier\"], [0.9767, 0.9768, 0.992, 0.9999, 0.9951, 0.9995], [0.9293, 0.932, 0.8339, 1.0, 0.9975, 0.9978], [0.9524, 0.9539, 0.9061, 0.9999, 0.9963, 0.9987], [0.9536, 0.9549, 0.9136, 0.9999, 0.9963, 0.9987]]}, \"header\": {\"values\": [\"Model\", \"precision\", \"recall\", \"F1 score\", \"ROC AUC\"]}, \"type\": \"table\"}],\n",
       "                        {\"template\": {\"data\": {\"bar\": [{\"error_x\": {\"color\": \"#2a3f5f\"}, \"error_y\": {\"color\": \"#2a3f5f\"}, \"marker\": {\"line\": {\"color\": \"#E5ECF6\", \"width\": 0.5}}, \"type\": \"bar\"}], \"barpolar\": [{\"marker\": {\"line\": {\"color\": \"#E5ECF6\", \"width\": 0.5}}, \"type\": \"barpolar\"}], \"carpet\": [{\"aaxis\": {\"endlinecolor\": \"#2a3f5f\", \"gridcolor\": \"white\", \"linecolor\": \"white\", \"minorgridcolor\": \"white\", \"startlinecolor\": \"#2a3f5f\"}, \"baxis\": {\"endlinecolor\": \"#2a3f5f\", \"gridcolor\": \"white\", \"linecolor\": \"white\", \"minorgridcolor\": \"white\", \"startlinecolor\": \"#2a3f5f\"}, \"type\": \"carpet\"}], \"choropleth\": [{\"colorbar\": {\"outlinewidth\": 0, \"ticks\": \"\"}, \"type\": \"choropleth\"}], \"contour\": [{\"colorbar\": {\"outlinewidth\": 0, \"ticks\": \"\"}, \"colorscale\": [[0.0, \"#0d0887\"], [0.1111111111111111, \"#46039f\"], [0.2222222222222222, \"#7201a8\"], [0.3333333333333333, \"#9c179e\"], [0.4444444444444444, \"#bd3786\"], [0.5555555555555556, \"#d8576b\"], [0.6666666666666666, \"#ed7953\"], [0.7777777777777778, \"#fb9f3a\"], [0.8888888888888888, \"#fdca26\"], [1.0, \"#f0f921\"]], \"type\": \"contour\"}], \"contourcarpet\": [{\"colorbar\": {\"outlinewidth\": 0, \"ticks\": \"\"}, \"type\": \"contourcarpet\"}], \"heatmap\": [{\"colorbar\": {\"outlinewidth\": 0, \"ticks\": \"\"}, \"colorscale\": [[0.0, \"#0d0887\"], [0.1111111111111111, \"#46039f\"], [0.2222222222222222, \"#7201a8\"], [0.3333333333333333, \"#9c179e\"], [0.4444444444444444, \"#bd3786\"], [0.5555555555555556, \"#d8576b\"], [0.6666666666666666, \"#ed7953\"], [0.7777777777777778, \"#fb9f3a\"], [0.8888888888888888, \"#fdca26\"], [1.0, \"#f0f921\"]], \"type\": \"heatmap\"}], \"heatmapgl\": [{\"colorbar\": {\"outlinewidth\": 0, \"ticks\": \"\"}, \"colorscale\": [[0.0, \"#0d0887\"], [0.1111111111111111, \"#46039f\"], [0.2222222222222222, \"#7201a8\"], [0.3333333333333333, \"#9c179e\"], [0.4444444444444444, \"#bd3786\"], [0.5555555555555556, \"#d8576b\"], [0.6666666666666666, \"#ed7953\"], [0.7777777777777778, \"#fb9f3a\"], [0.8888888888888888, \"#fdca26\"], [1.0, \"#f0f921\"]], \"type\": \"heatmapgl\"}], \"histogram\": [{\"marker\": {\"colorbar\": {\"outlinewidth\": 0, \"ticks\": \"\"}}, \"type\": \"histogram\"}], \"histogram2d\": [{\"colorbar\": {\"outlinewidth\": 0, \"ticks\": \"\"}, \"colorscale\": [[0.0, \"#0d0887\"], [0.1111111111111111, \"#46039f\"], [0.2222222222222222, \"#7201a8\"], [0.3333333333333333, \"#9c179e\"], [0.4444444444444444, \"#bd3786\"], [0.5555555555555556, \"#d8576b\"], [0.6666666666666666, \"#ed7953\"], [0.7777777777777778, \"#fb9f3a\"], [0.8888888888888888, \"#fdca26\"], [1.0, \"#f0f921\"]], \"type\": \"histogram2d\"}], \"histogram2dcontour\": [{\"colorbar\": {\"outlinewidth\": 0, \"ticks\": \"\"}, \"colorscale\": [[0.0, \"#0d0887\"], [0.1111111111111111, \"#46039f\"], [0.2222222222222222, \"#7201a8\"], [0.3333333333333333, \"#9c179e\"], [0.4444444444444444, \"#bd3786\"], [0.5555555555555556, \"#d8576b\"], [0.6666666666666666, \"#ed7953\"], [0.7777777777777778, \"#fb9f3a\"], [0.8888888888888888, \"#fdca26\"], [1.0, \"#f0f921\"]], \"type\": \"histogram2dcontour\"}], \"mesh3d\": [{\"colorbar\": {\"outlinewidth\": 0, \"ticks\": \"\"}, \"type\": \"mesh3d\"}], \"parcoords\": [{\"line\": {\"colorbar\": {\"outlinewidth\": 0, \"ticks\": \"\"}}, \"type\": \"parcoords\"}], \"scatter\": [{\"marker\": {\"colorbar\": {\"outlinewidth\": 0, \"ticks\": \"\"}}, \"type\": \"scatter\"}], \"scatter3d\": [{\"line\": {\"colorbar\": {\"outlinewidth\": 0, \"ticks\": \"\"}}, \"marker\": {\"colorbar\": {\"outlinewidth\": 0, \"ticks\": \"\"}}, \"type\": \"scatter3d\"}], \"scattercarpet\": [{\"marker\": {\"colorbar\": {\"outlinewidth\": 0, \"ticks\": \"\"}}, \"type\": \"scattercarpet\"}], \"scattergeo\": [{\"marker\": {\"colorbar\": {\"outlinewidth\": 0, \"ticks\": \"\"}}, \"type\": \"scattergeo\"}], \"scattergl\": [{\"marker\": {\"colorbar\": {\"outlinewidth\": 0, \"ticks\": \"\"}}, \"type\": \"scattergl\"}], \"scattermapbox\": [{\"marker\": {\"colorbar\": {\"outlinewidth\": 0, \"ticks\": \"\"}}, \"type\": \"scattermapbox\"}], \"scatterpolar\": [{\"marker\": {\"colorbar\": {\"outlinewidth\": 0, \"ticks\": \"\"}}, \"type\": \"scatterpolar\"}], \"scatterpolargl\": [{\"marker\": {\"colorbar\": {\"outlinewidth\": 0, \"ticks\": \"\"}}, \"type\": \"scatterpolargl\"}], \"scatterternary\": [{\"marker\": {\"colorbar\": {\"outlinewidth\": 0, \"ticks\": \"\"}}, \"type\": \"scatterternary\"}], \"surface\": [{\"colorbar\": {\"outlinewidth\": 0, \"ticks\": \"\"}, \"colorscale\": [[0.0, \"#0d0887\"], [0.1111111111111111, \"#46039f\"], [0.2222222222222222, \"#7201a8\"], [0.3333333333333333, \"#9c179e\"], [0.4444444444444444, \"#bd3786\"], [0.5555555555555556, \"#d8576b\"], [0.6666666666666666, \"#ed7953\"], [0.7777777777777778, \"#fb9f3a\"], [0.8888888888888888, \"#fdca26\"], [1.0, \"#f0f921\"]], \"type\": \"surface\"}], \"table\": [{\"cells\": {\"fill\": {\"color\": \"#EBF0F8\"}, \"line\": {\"color\": \"white\"}}, \"header\": {\"fill\": {\"color\": \"#C8D4E3\"}, \"line\": {\"color\": \"white\"}}, \"type\": \"table\"}]}, \"layout\": {\"annotationdefaults\": {\"arrowcolor\": \"#2a3f5f\", \"arrowhead\": 0, \"arrowwidth\": 1}, \"colorscale\": {\"diverging\": [[0, \"#8e0152\"], [0.1, \"#c51b7d\"], [0.2, \"#de77ae\"], [0.3, \"#f1b6da\"], [0.4, \"#fde0ef\"], [0.5, \"#f7f7f7\"], [0.6, \"#e6f5d0\"], [0.7, \"#b8e186\"], [0.8, \"#7fbc41\"], [0.9, \"#4d9221\"], [1, \"#276419\"]], \"sequential\": [[0.0, \"#0d0887\"], [0.1111111111111111, \"#46039f\"], [0.2222222222222222, \"#7201a8\"], [0.3333333333333333, \"#9c179e\"], [0.4444444444444444, \"#bd3786\"], [0.5555555555555556, \"#d8576b\"], [0.6666666666666666, \"#ed7953\"], [0.7777777777777778, \"#fb9f3a\"], [0.8888888888888888, \"#fdca26\"], [1.0, \"#f0f921\"]], \"sequentialminus\": [[0.0, \"#0d0887\"], [0.1111111111111111, \"#46039f\"], [0.2222222222222222, \"#7201a8\"], [0.3333333333333333, \"#9c179e\"], [0.4444444444444444, \"#bd3786\"], [0.5555555555555556, \"#d8576b\"], [0.6666666666666666, \"#ed7953\"], [0.7777777777777778, \"#fb9f3a\"], [0.8888888888888888, \"#fdca26\"], [1.0, \"#f0f921\"]]}, \"colorway\": [\"#636efa\", \"#EF553B\", \"#00cc96\", \"#ab63fa\", \"#FFA15A\", \"#19d3f3\", \"#FF6692\", \"#B6E880\", \"#FF97FF\", \"#FECB52\"], \"font\": {\"color\": \"#2a3f5f\"}, \"geo\": {\"bgcolor\": \"white\", \"lakecolor\": \"white\", \"landcolor\": \"#E5ECF6\", \"showlakes\": true, \"showland\": true, \"subunitcolor\": \"white\"}, \"hoverlabel\": {\"align\": \"left\"}, \"hovermode\": \"closest\", \"mapbox\": {\"style\": \"light\"}, \"paper_bgcolor\": \"white\", \"plot_bgcolor\": \"#E5ECF6\", \"polar\": {\"angularaxis\": {\"gridcolor\": \"white\", \"linecolor\": \"white\", \"ticks\": \"\"}, \"bgcolor\": \"#E5ECF6\", \"radialaxis\": {\"gridcolor\": \"white\", \"linecolor\": \"white\", \"ticks\": \"\"}}, \"scene\": {\"xaxis\": {\"backgroundcolor\": \"#E5ECF6\", \"gridcolor\": \"white\", \"gridwidth\": 2, \"linecolor\": \"white\", \"showbackground\": true, \"ticks\": \"\", \"zerolinecolor\": \"white\"}, \"yaxis\": {\"backgroundcolor\": \"#E5ECF6\", \"gridcolor\": \"white\", \"gridwidth\": 2, \"linecolor\": \"white\", \"showbackground\": true, \"ticks\": \"\", \"zerolinecolor\": \"white\"}, \"zaxis\": {\"backgroundcolor\": \"#E5ECF6\", \"gridcolor\": \"white\", \"gridwidth\": 2, \"linecolor\": \"white\", \"showbackground\": true, \"ticks\": \"\", \"zerolinecolor\": \"white\"}}, \"shapedefaults\": {\"line\": {\"color\": \"#2a3f5f\"}}, \"ternary\": {\"aaxis\": {\"gridcolor\": \"white\", \"linecolor\": \"white\", \"ticks\": \"\"}, \"baxis\": {\"gridcolor\": \"white\", \"linecolor\": \"white\", \"ticks\": \"\"}, \"bgcolor\": \"#E5ECF6\", \"caxis\": {\"gridcolor\": \"white\", \"linecolor\": \"white\", \"ticks\": \"\"}}, \"title\": {\"x\": 0.05}, \"xaxis\": {\"automargin\": true, \"gridcolor\": \"white\", \"linecolor\": \"white\", \"ticks\": \"\", \"zerolinecolor\": \"white\", \"zerolinewidth\": 2}, \"yaxis\": {\"automargin\": true, \"gridcolor\": \"white\", \"linecolor\": \"white\", \"ticks\": \"\", \"zerolinecolor\": \"white\", \"zerolinewidth\": 2}}}},\n",
       "                        {\"responsive\": true}\n",
       "                    ).then(function(){\n",
       "                            \n",
       "var gd = document.getElementById('94a1d9d8-9146-4c0e-94c5-beb4f3ec4431');\n",
       "var x = new MutationObserver(function (mutations, observer) {{\n",
       "        var display = window.getComputedStyle(gd).display;\n",
       "        if (!display || display === 'none') {{\n",
       "            console.log([gd, 'removed!']);\n",
       "            Plotly.purge(gd);\n",
       "            observer.disconnect();\n",
       "        }}\n",
       "}});\n",
       "\n",
       "// Listen for the removal of the full notebook cells\n",
       "var notebookContainer = gd.closest('#notebook-container');\n",
       "if (notebookContainer) {{\n",
       "    x.observe(notebookContainer, {childList: true});\n",
       "}}\n",
       "\n",
       "// Listen for the clearing of the current output cell\n",
       "var outputEl = gd.closest('.output');\n",
       "if (outputEl) {{\n",
       "    x.observe(outputEl, {childList: true});\n",
       "}}\n",
       "\n",
       "                        })\n",
       "                };\n",
       "                });\n",
       "            </script>\n",
       "        </div>"
      ]
     },
     "metadata": {},
     "output_type": "display_data"
    }
   ],
   "source": [
    "import plotly.graph_objects as go\n",
    "model_list=['Logistic Regression','SVM Classifier','Naive Baiye Classifier','RandomForest Classifier',\n",
    "             'XGBoost Classifier','ANN Classifier']\n",
    "parameters=['Model', 'precision','recall','F1 score','ROC AUC']\n",
    "ori=np.asarray([precision_t,recall_t,f1_t,auc_t]).round(4)\n",
    "us=np.asarray([precision_us_t,recall_us_t,f1_us_t,auc_us_t]).round(4)\n",
    "os=np.asarray([precision_os_t,recall_os_t,f1_os_t,auc_os_t]).round(4)\n",
    "fig1 = go.Figure(data=[go.Table(header=dict(values=parameters),cells=dict(values=[model_list,ori[0,:],ori[1,:],ori[2,:],ori[3,:]]))])\n",
    "fig2 = go.Figure(data=[go.Table(header=dict(values=parameters),cells=dict(values=[model_list,us[0,:],us[1,:],us[2,:],us[3,:]]))])\n",
    "fig3 = go.Figure(data=[go.Table(header=dict(values=parameters),cells=dict(values=[model_list,os[0,:],os[1,:],os[2,:],os[3,:]]))])                               \n",
    "print('=============================== Model Test Results with Original Dataset===============================' \"\\n\") \n",
    "fig1.show()    \n",
    "print('=============================== Model Test Results with Undersampling Dataset===============================' \"\\n\") \n",
    "fig2.show()  \n",
    "print('=============================== Model Test Results with Oversampling Dataset===============================' \"\\n\") \n",
    "fig3.show()                                  "
   ]
  },
  {
   "cell_type": "markdown",
   "metadata": {},
   "source": [
    "# From above table XGboost technique perform well in all three kind dataset. So we can mdel this system use xgboost method"
   ]
  },
  {
   "cell_type": "code",
   "execution_count": null,
   "metadata": {},
   "outputs": [],
   "source": []
  },
  {
   "cell_type": "code",
   "execution_count": null,
   "metadata": {},
   "outputs": [],
   "source": []
  },
  {
   "cell_type": "code",
   "execution_count": null,
   "metadata": {},
   "outputs": [],
   "source": []
  },
  {
   "cell_type": "code",
   "execution_count": null,
   "metadata": {},
   "outputs": [],
   "source": []
  }
 ],
 "metadata": {
  "kernelspec": {
   "display_name": "Python 3",
   "language": "python",
   "name": "python3"
  }
 },
 "nbformat": 4,
 "nbformat_minor": 2
}
